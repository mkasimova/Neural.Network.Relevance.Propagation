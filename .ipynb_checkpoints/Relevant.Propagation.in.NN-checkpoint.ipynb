{
 "cells": [
  {
   "cell_type": "markdown",
   "metadata": {},
   "source": [
    "# Init"
   ]
  },
  {
   "cell_type": "code",
   "execution_count": 2,
   "metadata": {
    "ExecuteTime": {
     "end_time": "2018-10-24T15:34:41.961018Z",
     "start_time": "2018-10-24T15:34:41.691265Z"
    }
   },
   "outputs": [],
   "source": [
    "import logging\n",
    "import sys\n",
    "logging.basicConfig(\n",
    "    stream=sys.stdout,\n",
    "    level=logging.DEBUG,\n",
    "    format='%(asctime)s %(name)s-%(levelname)s: %(message)s',\n",
    "    datefmt='%Y-%m-%d %H:%M:%S')\n",
    "import os\n",
    "import numpy as np\n",
    "from scipy.spatial.distance import squareform\n",
    "import modules.Compute_Relevance as Compute_Relevance\n",
    "import matplotlib.pyplot as plt\n",
    "\n",
    "logger = logging.getLogger(\"relProp\")"
   ]
  },
  {
   "cell_type": "markdown",
   "metadata": {},
   "source": [
    "# INPUT DATA and INPUT PARAMETERS"
   ]
  },
  {
   "cell_type": "code",
   "execution_count": 3,
   "metadata": {
    "ExecuteTime": {
     "end_time": "2018-10-24T15:34:42.983440Z",
     "start_time": "2018-10-24T15:34:42.885478Z"
    }
   },
   "outputs": [
    {
     "name": "stdout",
     "output_type": "stream",
     "text": [
      "2018-10-24 17:34:42 relProp-INFO: Loading data from oliver_gpcr\n"
     ]
    }
   ],
   "source": [
    "points_to_keep = []\n",
    "# Set number of iterations\n",
    "n_iter = 10\n",
    "\n",
    "# Set number of halves to use for relevance estimation\n",
    "n_halves = 2\n",
    "\n",
    "# Set parameters of the neural network\n",
    "hidden_layer_sizes = (100,)\n",
    "\n",
    "\n",
    "env = \"oliver_gpcr\" #TODO load these things from config file / environment parameters\n",
    "\n",
    "if env == \"oliver_gpcr\":\n",
    "    home_dir = os.path.expanduser(\"~/projects/gpcr/mega/Result_Data/beta2-dror/clustering/\")\n",
    "    data = np.load(home_dir + \"training_samples_CA_inv.npy\")\n",
    "    clustering = np.loadtxt(home_dir + 'cluster_indices_.txt')\n",
    "elif env == \"marina\":\n",
    "    #home_dir = '/media/mkasimova/Data2/Anton.PRODUCTION_RUN/COMBINED/analysis/CLUSTERING.CHOSEN.CV/NEURAL.NETWORK/marina-relevance-prop/ALL_SC/'\n",
    "    home_dir = '/media/mkasimova/Data2/calmodulin_from_Annie/'\n",
    "\n",
    "    # Load the array with collective variables and clusters indices\n",
    "    data = np.load(home_dir+'frame_i_j_contacts_dt1.npy')\n",
    "    #clustering = np.loadtxt('/media/mkasimova/Data2/Anton.PRODUCTION_RUN/COMBINED/analysis/CLUSTERING.CHOSEN.CV/NEURAL.NETWORK/marina-relevance-prop/BIAS.CVs/cluster_indices_mean.0.sigma.0.67.2.txt')\n",
    "    clustering = np.loadtxt(home_dir+'labels.dat')\n",
    "\n",
    "\n",
    "    # Set points to keep for further analysis (some points should be discarded if clustering is not clean)\n",
    "    # Set empty if all points should be kept\n",
    "    #points_to_keep = [[0,1450],\\\n",
    "    #                 [1750,3650],\\\n",
    "    #                 [4150,5900],\\\n",
    "    #                 [6800,-1]]\n",
    "else:\n",
    "    raise Exception(\"No configuration for {}\".format(env))\n",
    "\n",
    "logger.info(\"Loading data from %s\", env)"
   ]
  },
  {
   "cell_type": "markdown",
   "metadata": {},
   "source": [
    "# Pre-processing the data"
   ]
  },
  {
   "cell_type": "code",
   "execution_count": 4,
   "metadata": {
    "ExecuteTime": {
     "end_time": "2018-10-24T15:34:46.447165Z",
     "start_time": "2018-10-24T15:34:46.441012Z"
    }
   },
   "outputs": [
    {
     "name": "stdout",
     "output_type": "stream",
     "text": [
      "2018-10-24 17:34:46 relProp-INFO: Loaded data of shape (857, 40186) and 3 clusters\n"
     ]
    }
   ],
   "source": [
    "# Vectorize data if it is given in the form of matrices\n",
    "data = Compute_Relevance.vectorize(data)\n",
    "\n",
    "# Discard some points if needed\n",
    "data, clustering = Compute_Relevance.keep_datapoints(data,clustering,points_to_keep)\n",
    "\n",
    "# Convert inverse distances to contacts using a pre-defined cutoff\n",
    "#data = Compute_Relevance.convert_to_contact(data)\n",
    "logger.info(\"Loaded data of shape %s and %s clusters\", data.shape, len(set(clustering)))"
   ]
  },
  {
   "cell_type": "markdown",
   "metadata": {},
   "source": [
    "## Filtering the data"
   ]
  },
  {
   "cell_type": "code",
   "execution_count": null,
   "metadata": {},
   "outputs": [],
   "source": [
    "data_init = np.copy(data)\n",
    "\n",
    "# Contact cutoff based data filtering\n",
    "contact_filtered_ind, data = Compute_Relevance.filter_by_contact_cutoff(data)\n",
    "\n",
    "# Kullback-Leibler divergence based data filtering (also works with contacts)\n",
    "DKL, DKL_filtered_ind, data = Compute_Relevance.filter_by_DKL(data,clustering)\n",
    "logger.info(\"Done\")"
   ]
  },
  {
   "cell_type": "markdown",
   "metadata": {},
   "source": [
    "# RUN the CODE"
   ]
  },
  {
   "cell_type": "code",
   "execution_count": null,
   "metadata": {
    "ExecuteTime": {
     "start_time": "2018-10-24T15:09:50.594Z"
    },
    "scrolled": false
   },
   "outputs": [
    {
     "name": "stdout",
     "output_type": "stream",
     "text": [
      "2018-10-24 17:09:50 Compute Relevance-INFO: Performing relevance propagation for the dataset with 40186 features and 857 samples\n",
      "2018-10-24 17:09:50 Compute Relevance-INFO: Number of clusters is 3\n",
      "2018-10-24 17:09:50 Compute Relevance-INFO: Running iteration 1 ...\n",
      "2018-10-24 17:09:50 Compute Relevance-INFO: \t\t\tScaling the input dataset ...\n",
      "2018-10-24 17:09:53 Compute Relevance-INFO: \t\t\tTraining the neural network ...\n",
      "2018-10-24 17:10:05 Compute Relevance-INFO: \t\t\tChecking for overfit ...\n",
      "2018-10-24 17:10:05 Compute Relevance-INFO: \t\t\tOverfit error is 0.0\n",
      "2018-10-24 17:10:05 Compute Relevance-INFO: \t\t\tError is less than 5%, therefore computing relevance ...\n",
      "2018-10-24 17:10:06 Compute Relevance-INFO: \t\t\tRescaling relevance according to min and max in each frame ...\n",
      "2018-10-24 17:10:06 Compute Relevance-INFO: \t\t\t... and averaging it over each cluster\n",
      "2018-10-24 17:10:06 Compute Relevance-INFO: \t\t\tScaling the input dataset ...\n",
      "2018-10-24 17:10:10 Compute Relevance-INFO: \t\t\tTraining the neural network ...\n",
      "2018-10-24 17:10:23 Compute Relevance-INFO: \t\t\tChecking for overfit ...\n",
      "2018-10-24 17:10:23 Compute Relevance-INFO: \t\t\tOverfit error is 0.0\n",
      "2018-10-24 17:10:23 Compute Relevance-INFO: \t\t\tError is less than 5%, therefore computing relevance ...\n",
      "2018-10-24 17:10:24 Compute Relevance-INFO: \t\t\tRescaling relevance according to min and max in each frame ...\n",
      "2018-10-24 17:10:24 Compute Relevance-INFO: \t\t\t... and averaging it over each cluster\n",
      "2018-10-24 17:10:24 Compute Relevance-INFO: Running iteration 2 ...\n",
      "2018-10-24 17:10:24 Compute Relevance-INFO: \t\t\tScaling the input dataset ...\n",
      "2018-10-24 17:10:28 Compute Relevance-INFO: \t\t\tTraining the neural network ...\n",
      "2018-10-24 17:10:38 Compute Relevance-INFO: \t\t\tChecking for overfit ...\n",
      "2018-10-24 17:10:39 Compute Relevance-INFO: \t\t\tOverfit error is 0.0\n",
      "2018-10-24 17:10:39 Compute Relevance-INFO: \t\t\tError is less than 5%, therefore computing relevance ...\n",
      "2018-10-24 17:10:40 Compute Relevance-INFO: \t\t\tRescaling relevance according to min and max in each frame ...\n",
      "2018-10-24 17:10:40 Compute Relevance-INFO: \t\t\t... and averaging it over each cluster\n",
      "2018-10-24 17:10:40 Compute Relevance-INFO: \t\t\tScaling the input dataset ...\n",
      "2018-10-24 17:10:43 Compute Relevance-INFO: \t\t\tTraining the neural network ...\n",
      "2018-10-24 17:10:55 Compute Relevance-INFO: \t\t\tChecking for overfit ...\n",
      "2018-10-24 17:10:55 Compute Relevance-INFO: \t\t\tOverfit error is 0.0\n",
      "2018-10-24 17:10:55 Compute Relevance-INFO: \t\t\tError is less than 5%, therefore computing relevance ...\n",
      "2018-10-24 17:10:56 Compute Relevance-INFO: \t\t\tRescaling relevance according to min and max in each frame ...\n",
      "2018-10-24 17:10:56 Compute Relevance-INFO: \t\t\t... and averaging it over each cluster\n",
      "2018-10-24 17:10:56 Compute Relevance-INFO: Running iteration 3 ...\n",
      "2018-10-24 17:10:56 Compute Relevance-INFO: \t\t\tScaling the input dataset ...\n",
      "2018-10-24 17:10:59 Compute Relevance-INFO: \t\t\tTraining the neural network ...\n",
      "2018-10-24 17:11:11 Compute Relevance-INFO: \t\t\tChecking for overfit ...\n",
      "2018-10-24 17:11:11 Compute Relevance-INFO: \t\t\tOverfit error is 0.0\n",
      "2018-10-24 17:11:11 Compute Relevance-INFO: \t\t\tError is less than 5%, therefore computing relevance ...\n",
      "2018-10-24 17:11:12 Compute Relevance-INFO: \t\t\tRescaling relevance according to min and max in each frame ...\n",
      "2018-10-24 17:11:12 Compute Relevance-INFO: \t\t\t... and averaging it over each cluster\n",
      "2018-10-24 17:11:12 Compute Relevance-INFO: \t\t\tScaling the input dataset ...\n",
      "2018-10-24 17:11:15 Compute Relevance-INFO: \t\t\tTraining the neural network ...\n",
      "2018-10-24 17:11:27 Compute Relevance-INFO: \t\t\tChecking for overfit ...\n",
      "2018-10-24 17:11:27 Compute Relevance-INFO: \t\t\tOverfit error is 0.0\n",
      "2018-10-24 17:11:27 Compute Relevance-INFO: \t\t\tError is less than 5%, therefore computing relevance ...\n",
      "2018-10-24 17:11:28 Compute Relevance-INFO: \t\t\tRescaling relevance according to min and max in each frame ...\n",
      "2018-10-24 17:11:28 Compute Relevance-INFO: \t\t\t... and averaging it over each cluster\n",
      "2018-10-24 17:11:28 Compute Relevance-INFO: Running iteration 4 ...\n",
      "2018-10-24 17:11:28 Compute Relevance-INFO: \t\t\tScaling the input dataset ...\n",
      "2018-10-24 17:11:32 Compute Relevance-INFO: \t\t\tTraining the neural network ...\n",
      "2018-10-24 17:11:43 Compute Relevance-INFO: \t\t\tChecking for overfit ...\n",
      "2018-10-24 17:11:44 Compute Relevance-INFO: \t\t\tOverfit error is 0.0\n",
      "2018-10-24 17:11:44 Compute Relevance-INFO: \t\t\tError is less than 5%, therefore computing relevance ...\n",
      "2018-10-24 17:11:44 Compute Relevance-INFO: \t\t\tRescaling relevance according to min and max in each frame ...\n",
      "2018-10-24 17:11:44 Compute Relevance-INFO: \t\t\t... and averaging it over each cluster\n",
      "2018-10-24 17:11:44 Compute Relevance-INFO: \t\t\tScaling the input dataset ...\n",
      "2018-10-24 17:11:48 Compute Relevance-INFO: \t\t\tTraining the neural network ...\n",
      "2018-10-24 17:12:00 Compute Relevance-INFO: \t\t\tChecking for overfit ...\n",
      "2018-10-24 17:12:01 Compute Relevance-INFO: \t\t\tOverfit error is 0.0\n",
      "2018-10-24 17:12:01 Compute Relevance-INFO: \t\t\tError is less than 5%, therefore computing relevance ...\n",
      "2018-10-24 17:12:02 Compute Relevance-INFO: \t\t\tRescaling relevance according to min and max in each frame ...\n",
      "2018-10-24 17:12:02 Compute Relevance-INFO: \t\t\t... and averaging it over each cluster\n",
      "2018-10-24 17:12:02 Compute Relevance-INFO: Running iteration 5 ...\n",
      "2018-10-24 17:12:02 Compute Relevance-INFO: \t\t\tScaling the input dataset ...\n",
      "2018-10-24 17:12:05 Compute Relevance-INFO: \t\t\tTraining the neural network ...\n",
      "2018-10-24 17:12:15 Compute Relevance-INFO: \t\t\tChecking for overfit ...\n",
      "2018-10-24 17:12:15 Compute Relevance-INFO: \t\t\tOverfit error is 0.0\n",
      "2018-10-24 17:12:15 Compute Relevance-INFO: \t\t\tError is less than 5%, therefore computing relevance ...\n",
      "2018-10-24 17:12:16 Compute Relevance-INFO: \t\t\tRescaling relevance according to min and max in each frame ...\n",
      "2018-10-24 17:12:16 Compute Relevance-INFO: \t\t\t... and averaging it over each cluster\n",
      "2018-10-24 17:12:16 Compute Relevance-INFO: \t\t\tScaling the input dataset ...\n",
      "2018-10-24 17:12:19 Compute Relevance-INFO: \t\t\tTraining the neural network ...\n",
      "2018-10-24 17:12:32 Compute Relevance-INFO: \t\t\tChecking for overfit ...\n",
      "2018-10-24 17:12:32 Compute Relevance-INFO: \t\t\tOverfit error is 0.0\n",
      "2018-10-24 17:12:32 Compute Relevance-INFO: \t\t\tError is less than 5%, therefore computing relevance ...\n",
      "2018-10-24 17:12:33 Compute Relevance-INFO: \t\t\tRescaling relevance according to min and max in each frame ...\n",
      "2018-10-24 17:12:33 Compute Relevance-INFO: \t\t\t... and averaging it over each cluster\n",
      "2018-10-24 17:12:33 Compute Relevance-INFO: Running iteration 6 ...\n",
      "2018-10-24 17:12:33 Compute Relevance-INFO: \t\t\tScaling the input dataset ...\n",
      "2018-10-24 17:12:36 Compute Relevance-INFO: \t\t\tTraining the neural network ...\n",
      "2018-10-24 17:12:48 Compute Relevance-INFO: \t\t\tChecking for overfit ...\n",
      "2018-10-24 17:12:48 Compute Relevance-INFO: \t\t\tOverfit error is 0.0\n",
      "2018-10-24 17:12:48 Compute Relevance-INFO: \t\t\tError is less than 5%, therefore computing relevance ...\n",
      "2018-10-24 17:12:49 Compute Relevance-INFO: \t\t\tRescaling relevance according to min and max in each frame ...\n",
      "2018-10-24 17:12:49 Compute Relevance-INFO: \t\t\t... and averaging it over each cluster\n",
      "2018-10-24 17:12:49 Compute Relevance-INFO: \t\t\tScaling the input dataset ...\n",
      "2018-10-24 17:12:53 Compute Relevance-INFO: \t\t\tTraining the neural network ...\n",
      "2018-10-24 17:13:03 Compute Relevance-INFO: \t\t\tChecking for overfit ...\n",
      "2018-10-24 17:13:04 Compute Relevance-INFO: \t\t\tOverfit error is 0.0\n",
      "2018-10-24 17:13:04 Compute Relevance-INFO: \t\t\tError is less than 5%, therefore computing relevance ...\n",
      "2018-10-24 17:13:04 Compute Relevance-INFO: \t\t\tRescaling relevance according to min and max in each frame ...\n",
      "2018-10-24 17:13:04 Compute Relevance-INFO: \t\t\t... and averaging it over each cluster\n",
      "2018-10-24 17:13:04 Compute Relevance-INFO: Running iteration 7 ...\n",
      "2018-10-24 17:13:04 Compute Relevance-INFO: \t\t\tScaling the input dataset ...\n",
      "2018-10-24 17:13:08 Compute Relevance-INFO: \t\t\tTraining the neural network ...\n",
      "2018-10-24 17:13:20 Compute Relevance-INFO: \t\t\tChecking for overfit ...\n",
      "2018-10-24 17:13:21 Compute Relevance-INFO: \t\t\tOverfit error is 0.0\n",
      "2018-10-24 17:13:21 Compute Relevance-INFO: \t\t\tError is less than 5%, therefore computing relevance ...\n"
     ]
    },
    {
     "name": "stdout",
     "output_type": "stream",
     "text": [
      "2018-10-24 17:13:21 Compute Relevance-INFO: \t\t\tRescaling relevance according to min and max in each frame ...\n",
      "2018-10-24 17:13:21 Compute Relevance-INFO: \t\t\t... and averaging it over each cluster\n",
      "2018-10-24 17:13:22 Compute Relevance-INFO: \t\t\tScaling the input dataset ...\n",
      "2018-10-24 17:13:25 Compute Relevance-INFO: \t\t\tTraining the neural network ...\n",
      "2018-10-24 17:13:37 Compute Relevance-INFO: \t\t\tChecking for overfit ...\n",
      "2018-10-24 17:13:37 Compute Relevance-INFO: \t\t\tOverfit error is 0.0\n",
      "2018-10-24 17:13:37 Compute Relevance-INFO: \t\t\tError is less than 5%, therefore computing relevance ...\n",
      "2018-10-24 17:13:38 Compute Relevance-INFO: \t\t\tRescaling relevance according to min and max in each frame ...\n",
      "2018-10-24 17:13:38 Compute Relevance-INFO: \t\t\t... and averaging it over each cluster\n",
      "2018-10-24 17:13:38 Compute Relevance-INFO: Running iteration 8 ...\n",
      "2018-10-24 17:13:38 Compute Relevance-INFO: \t\t\tScaling the input dataset ...\n",
      "2018-10-24 17:13:41 Compute Relevance-INFO: \t\t\tTraining the neural network ...\n",
      "2018-10-24 17:13:52 Compute Relevance-INFO: \t\t\tChecking for overfit ...\n",
      "2018-10-24 17:13:53 Compute Relevance-INFO: \t\t\tOverfit error is 0.0\n",
      "2018-10-24 17:13:53 Compute Relevance-INFO: \t\t\tError is less than 5%, therefore computing relevance ...\n",
      "2018-10-24 17:13:53 Compute Relevance-INFO: \t\t\tRescaling relevance according to min and max in each frame ...\n",
      "2018-10-24 17:13:53 Compute Relevance-INFO: \t\t\t... and averaging it over each cluster\n",
      "2018-10-24 17:13:53 Compute Relevance-INFO: \t\t\tScaling the input dataset ...\n",
      "2018-10-24 17:13:56 Compute Relevance-INFO: \t\t\tTraining the neural network ...\n",
      "2018-10-24 17:14:07 Compute Relevance-INFO: \t\t\tChecking for overfit ...\n",
      "2018-10-24 17:14:08 Compute Relevance-INFO: \t\t\tOverfit error is 0.0\n",
      "2018-10-24 17:14:08 Compute Relevance-INFO: \t\t\tError is less than 5%, therefore computing relevance ...\n",
      "2018-10-24 17:14:08 Compute Relevance-INFO: \t\t\tRescaling relevance according to min and max in each frame ...\n",
      "2018-10-24 17:14:08 Compute Relevance-INFO: \t\t\t... and averaging it over each cluster\n",
      "2018-10-24 17:14:08 Compute Relevance-INFO: Running iteration 9 ...\n",
      "2018-10-24 17:14:09 Compute Relevance-INFO: \t\t\tScaling the input dataset ...\n",
      "2018-10-24 17:14:12 Compute Relevance-INFO: \t\t\tTraining the neural network ...\n",
      "2018-10-24 17:14:23 Compute Relevance-INFO: \t\t\tChecking for overfit ...\n",
      "2018-10-24 17:14:23 Compute Relevance-INFO: \t\t\tOverfit error is 0.0\n",
      "2018-10-24 17:14:23 Compute Relevance-INFO: \t\t\tError is less than 5%, therefore computing relevance ...\n",
      "2018-10-24 17:14:24 Compute Relevance-INFO: \t\t\tRescaling relevance according to min and max in each frame ...\n",
      "2018-10-24 17:14:24 Compute Relevance-INFO: \t\t\t... and averaging it over each cluster\n",
      "2018-10-24 17:14:24 Compute Relevance-INFO: \t\t\tScaling the input dataset ...\n",
      "2018-10-24 17:14:27 Compute Relevance-INFO: \t\t\tTraining the neural network ...\n",
      "2018-10-24 17:14:38 Compute Relevance-INFO: \t\t\tChecking for overfit ...\n",
      "2018-10-24 17:14:38 Compute Relevance-INFO: \t\t\tOverfit error is 0.0\n",
      "2018-10-24 17:14:38 Compute Relevance-INFO: \t\t\tError is less than 5%, therefore computing relevance ...\n",
      "2018-10-24 17:14:39 Compute Relevance-INFO: \t\t\tRescaling relevance according to min and max in each frame ...\n",
      "2018-10-24 17:14:39 Compute Relevance-INFO: \t\t\t... and averaging it over each cluster\n",
      "2018-10-24 17:14:39 Compute Relevance-INFO: Running iteration 10 ...\n",
      "2018-10-24 17:14:39 Compute Relevance-INFO: \t\t\tScaling the input dataset ...\n",
      "2018-10-24 17:14:43 Compute Relevance-INFO: \t\t\tTraining the neural network ...\n",
      "2018-10-24 17:14:54 Compute Relevance-INFO: \t\t\tChecking for overfit ...\n",
      "2018-10-24 17:14:55 Compute Relevance-INFO: \t\t\tOverfit error is 0.0\n",
      "2018-10-24 17:14:55 Compute Relevance-INFO: \t\t\tError is less than 5%, therefore computing relevance ...\n",
      "2018-10-24 17:14:55 Compute Relevance-INFO: \t\t\tRescaling relevance according to min and max in each frame ...\n",
      "2018-10-24 17:14:55 Compute Relevance-INFO: \t\t\t... and averaging it over each cluster\n",
      "2018-10-24 17:14:56 Compute Relevance-INFO: \t\t\tScaling the input dataset ...\n",
      "2018-10-24 17:14:59 Compute Relevance-INFO: \t\t\tTraining the neural network ...\n"
     ]
    }
   ],
   "source": [
    "# Output relevance[number of clusters, number of features, av/std]\n",
    "# Output error[n_iter*n_halves]\n",
    "relevance, error = Compute_Relevance.perform_relevance_propagation(data,\\\n",
    "                                                                   clustering,\\\n",
    "                                                                   hidden_layer_sizes,\\\n",
    "                                                                   n_iter,\\\n",
    "                                                                   n_halves,\\\n",
    "                                                                   scaling=True)\n",
    "\n",
    "\n",
    "logger.info(\"Done\")"
   ]
  },
  {
   "cell_type": "markdown",
   "metadata": {
    "collapsed": true
   },
   "source": [
    "# WRITE RESULTS"
   ]
  },
  {
   "cell_type": "code",
   "execution_count": 15,
   "metadata": {
    "ExecuteTime": {
     "end_time": "2018-10-24T15:26:06.537448Z",
     "start_time": "2018-10-24T15:26:06.508519Z"
    }
   },
   "outputs": [
    {
     "name": "stdout",
     "output_type": "stream",
     "text": [
      "2018-10-24 17:26:06 Compute Relevance-INFO: Writing the results ...\n",
      "2018-10-24 17:26:06 Compute Relevance-INFO: Sigma based filtering of relevances is False\n",
      "2018-10-24 17:26:06 Compute Relevance-INFO: Done!\n",
      "2018-10-24 17:26:06 relProp-INFO: Done\n"
     ]
    }
   ],
   "source": [
    "# Remapping relevance to all input features (if filtering was applied)\n",
    "\n",
    "number_of_clusters = relevance.shape[0]\n",
    "\n",
    "try:\n",
    "    data_init\n",
    "except NameError:\n",
    "    pass\n",
    "else:\n",
    "    relevance_init = np.zeros((number_of_clusters,data_init.shape[1],2))\n",
    "    try:\n",
    "        contact_filtered_ind\n",
    "        DKL_filtered_ind\n",
    "    except NameError:\n",
    "        pass\n",
    "    else:\n",
    "        if (len(contact_filtered_ind)>=len(DKL_filtered_ind)):\n",
    "            ind_1 = contact_filtered_ind\n",
    "            ind_2 = DKL_filtered_ind\n",
    "            DKL_init = np.zeros((data_init.shape[1]))\n",
    "            DKL_init[ind_1] = DKL\n",
    "            DKL = np.copy(DKL_init)\n",
    "        else:\n",
    "            ind_2 = contact_filtered_ind\n",
    "            ind_1 = DKL_filtered_ind\n",
    "        relevance_2 = relevance\n",
    "        relevance_1 = np.zeros((number_of_clusters,len(ind_1),2))\n",
    "        relevance_1[:,ind_2,:] = relevance_2\n",
    "        relevance_init[:,ind_1,:] = relevance_1\n",
    "        relevance = np.copy(relevance_init)\n",
    "    try:\n",
    "        contact_filtered_ind\n",
    "    except NameError:\n",
    "        pass\n",
    "    else:\n",
    "        if relevance.shape[1]!=data_init.shape[1]:\n",
    "            relevance_init[:,contact_filtered_ind,:] = relevance\n",
    "            relevance = np.copy(relevance_init)\n",
    "    try:\n",
    "        DKL_filtered_ind\n",
    "    except NameError:\n",
    "        pass\n",
    "    else:\n",
    "        if relevance.shape[1]!=data_init.shape[1]:\n",
    "            relevance_init[:,DKL_filtered_ind,:] = relevance\n",
    "            relevance = np.copy(relevance_init)\n",
    "\n",
    "Compute_Relevance.write_results_input_matrix(relevance,home_dir+'analysis/','results.dat')\n",
    "logger.info(\"Done\")"
   ]
  },
  {
   "cell_type": "code",
   "execution_count": null,
   "metadata": {},
   "outputs": [],
   "source": []
  }
 ],
 "metadata": {
  "kernelspec": {
   "display_name": "Python 2",
   "language": "python",
   "name": "python2"
  },
  "language_info": {
   "codemirror_mode": {
    "name": "ipython",
    "version": 2
   },
   "file_extension": ".py",
   "mimetype": "text/x-python",
   "name": "python",
   "nbconvert_exporter": "python",
   "pygments_lexer": "ipython2",
   "version": "2.7.14"
  },
  "toc": {
   "colors": {
    "hover_highlight": "#DAA520",
    "navigate_num": "#000000",
    "navigate_text": "#333333",
    "running_highlight": "#FF0000",
    "selected_highlight": "#FFD700",
    "sidebar_border": "#EEEEEE",
    "wrapper_background": "#FFFFFF"
   },
   "moveMenuLeft": true,
   "nav_menu": {
    "height": "102px",
    "width": "252px"
   },
   "navigate_menu": true,
   "number_sections": true,
   "sideBar": true,
   "threshold": 4,
   "toc_cell": false,
   "toc_section_display": "block",
   "toc_window_display": true,
   "widenNotebook": false
  },
  "varInspector": {
   "cols": {
    "lenName": 16,
    "lenType": 16,
    "lenVar": 40
   },
   "kernels_config": {
    "python": {
     "delete_cmd_postfix": "",
     "delete_cmd_prefix": "del ",
     "library": "var_list.py",
     "varRefreshCmd": "print(var_dic_list())"
    },
    "r": {
     "delete_cmd_postfix": ") ",
     "delete_cmd_prefix": "rm(",
     "library": "var_list.r",
     "varRefreshCmd": "cat(var_dic_list()) "
    }
   },
   "types_to_exclude": [
    "module",
    "function",
    "builtin_function_or_method",
    "instance",
    "_Feature"
   ],
   "window_display": false
  }
 },
 "nbformat": 4,
 "nbformat_minor": 2
}
