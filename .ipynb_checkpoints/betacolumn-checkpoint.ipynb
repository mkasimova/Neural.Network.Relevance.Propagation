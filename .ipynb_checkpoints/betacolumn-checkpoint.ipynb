{
 "cells": [
  {
   "cell_type": "code",
   "execution_count": 7,
   "metadata": {
    "ExecuteTime": {
     "end_time": "2018-10-24T15:26:09.266378Z",
     "start_time": "2018-10-24T15:26:08.761430Z"
    }
   },
   "outputs": [],
   "source": [
    "import numpy as np\n",
    "from biopandas.pdb import PandasPdb\n",
    "import pandas as pd\n",
    "import os\n",
    "\n",
    "env = \"oliver_gpcr\" #TODO load these things from config file / environment parameters\n",
    "\n",
    "if env == \"oliver_gpcr\":\n",
    "    rdir = os.path.expanduser(\"~/projects/gpcr/mega/Result_Data/beta2-dror/clustering/analysis/\")\n",
    "elif env == \"marina\":\n",
    "    rdir='/media/mkasimova/Data2/Anton.PRODUCTION_RUN/COMBINED/analysis/CLUSTERING.CHOSEN.CV/NEURAL.NETWORK/marina-relevance-prop/ALL_SC/analysis/'\n",
    "else:\n",
    "    raise Exception(\"No configuration for {}\".format(env))\n",
    "    \n",
    "pdbfid='all.pdb'\n",
    "beta='results.dat'\n",
    "ppdb = PandasPdb()\n",
    "ppdb.read_pdb(rdir+pdbfid)\n",
    "\n",
    "dl = [data.rstrip('\\n') for data in open(rdir+beta)]\n",
    "chain = len(dl)\n",
    "\n",
    "atom = ppdb.df['ATOM']\n",
    "count = 0\n",
    "\n",
    "for i, line in atom.iterrows():\n",
    "    atom.set_value(i, 'b_factor', float(dl[count].split()[0]))\n",
    "    try:\n",
    "        if line['residue_number'] != atom.loc[i+1,'residue_number']:\n",
    "            count = (count + 1)%chain\n",
    "    except KeyError:\n",
    "           pass\n",
    "ppdb.to_pdb(path=rdir+pdbfid+'.beta.pdb',records=None,gz=False,append_newline=True)"
   ]
  },
  {
   "cell_type": "code",
   "execution_count": null,
   "metadata": {},
   "outputs": [],
   "source": []
  },
  {
   "cell_type": "code",
   "execution_count": null,
   "metadata": {
    "collapsed": true
   },
   "outputs": [],
   "source": []
  }
 ],
 "metadata": {
  "kernelspec": {
   "display_name": "Python 2",
   "language": "python",
   "name": "python2"
  },
  "language_info": {
   "codemirror_mode": {
    "name": "ipython",
    "version": 2
   },
   "file_extension": ".py",
   "mimetype": "text/x-python",
   "name": "python",
   "nbconvert_exporter": "python",
   "pygments_lexer": "ipython2",
   "version": "2.7.14"
  },
  "toc": {
   "colors": {
    "hover_highlight": "#DAA520",
    "navigate_num": "#000000",
    "navigate_text": "#333333",
    "running_highlight": "#FF0000",
    "selected_highlight": "#FFD700",
    "sidebar_border": "#EEEEEE",
    "wrapper_background": "#FFFFFF"
   },
   "moveMenuLeft": true,
   "nav_menu": {
    "height": "12px",
    "width": "252px"
   },
   "navigate_menu": true,
   "number_sections": true,
   "sideBar": true,
   "threshold": 4,
   "toc_cell": false,
   "toc_section_display": "block",
   "toc_window_display": false,
   "widenNotebook": false
  },
  "varInspector": {
   "cols": {
    "lenName": 16,
    "lenType": 16,
    "lenVar": 40
   },
   "kernels_config": {
    "python": {
     "delete_cmd_postfix": "",
     "delete_cmd_prefix": "del ",
     "library": "var_list.py",
     "varRefreshCmd": "print(var_dic_list())"
    },
    "r": {
     "delete_cmd_postfix": ") ",
     "delete_cmd_prefix": "rm(",
     "library": "var_list.r",
     "varRefreshCmd": "cat(var_dic_list()) "
    }
   },
   "types_to_exclude": [
    "module",
    "function",
    "builtin_function_or_method",
    "instance",
    "_Feature"
   ],
   "window_display": false
  }
 },
 "nbformat": 4,
 "nbformat_minor": 2
}
