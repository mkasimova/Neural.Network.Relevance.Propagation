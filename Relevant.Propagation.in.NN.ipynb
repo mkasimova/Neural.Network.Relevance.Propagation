{
 "cells": [
  {
   "cell_type": "code",
   "execution_count": 6,
   "metadata": {},
   "outputs": [],
   "source": [
    "import logging\n",
    "import sys\n",
    "logging.basicConfig(\n",
    "    stream=sys.stdout,\n",
    "    level=logging.DEBUG,\n",
    "    format='%(asctime)s %(name)s-%(levelname)s: %(message)s',\n",
    "    datefmt='%Y-%m-%d %H:%M:%S')\n",
    "\n",
    "import numpy as np\n",
    "from scipy.spatial.distance import squareform\n",
    "sys.path.append('modules/')\n",
    "import Compute_Relevance\n",
    "import matplotlib.pyplot as plt\n",
    "\n",
    "logger = logging.getLogger(\"\")"
   ]
  },
  {
   "cell_type": "code",
   "execution_count": 7,
   "metadata": {
    "collapsed": true
   },
   "outputs": [],
   "source": [
    "'''\n",
    "\n",
    "INPUT DATA and INPUT PARAMETERS\n",
    "\n",
    "'''\n",
    "\n",
    "home_dir = '/media/mkasimova/Data2/Anton.PRODUCTION_RUN/COMBINED/analysis/CLUSTERING.CHOSEN.CV/NEURAL.NETWORK/marina-relevance-prop/VSD_SC/'\n",
    "# Load clusters indices and the array with collective variables\n",
    "clustering = np.loadtxt('/media/mkasimova/Data2/Anton.PRODUCTION_RUN/COMBINED/analysis/CLUSTERING.CHOSEN.CV/NEURAL.NETWORK/marina-relevance-prop/BIAS.CVs/cluster_indices_mean.0.sigma.0.67.2.txt')\n",
    "data = np.load(home_dir+'frame_i_j_contacts_dt1.npy')\n",
    "# Set number of iterations\n",
    "n_iter = 10\n",
    "# Set number of halves to use for relevance estimation\n",
    "n_halves = 2\n",
    "# Set parameters of the neural network\n",
    "hidden_layer_sizes = (100,)\n",
    "# Set points to keep for further analysis (some points should be discarded if clustering is not clean)\n",
    "points_to_keep = [[0,1450],\\\n",
    "                 [1750,3650],\\\n",
    "                 [4150,5900],\\\n",
    "                 [6800,-1]]"
   ]
  },
  {
   "cell_type": "code",
   "execution_count": null,
   "metadata": {
    "scrolled": true
   },
   "outputs": [
    {
     "name": "stdout",
     "output_type": "stream",
     "text": [
      "2018-10-10 14:10:26 Compute Relevance-INFO: Performing relevance propagation for the dataset with 18915 features and 9003 samples\n",
      "2018-10-10 14:10:26 Compute Relevance-INFO: Number of clusters is 2\n",
      "2018-10-10 14:10:26 Compute Relevance-INFO: Running iteration 1 ...\n",
      "2018-10-10 14:10:27 Compute Relevance-INFO: \t\t\tScaling the input dataset ...\n",
      "2018-10-10 14:10:32 Compute Relevance-INFO: \t\t\tTraining the neural network ...\n",
      "2018-10-10 14:10:41 Compute Relevance-INFO: \t\t\tChecking for overfit ...\n",
      "2018-10-10 14:10:43 Compute Relevance-INFO: \t\t\tOverfit error is 0.0444345700955\n",
      "2018-10-10 14:10:43 Compute Relevance-INFO: \t\t\tError is less than 5%, therefore computing relevance ...\n",
      "2018-10-10 14:10:47 Compute Relevance-INFO: \t\t\tRescaling relevance according to min and max in each frame ...\n",
      "2018-10-10 14:10:47 Compute Relevance-INFO: \t\t\t... and averaging it over each cluster\n",
      "2018-10-10 14:10:47 Compute Relevance-INFO: \t\t\tScaling the input dataset ...\n",
      "2018-10-10 14:10:53 Compute Relevance-INFO: \t\t\tTraining the neural network ...\n",
      "2018-10-10 14:11:02 Compute Relevance-INFO: \t\t\tChecking for overfit ...\n",
      "2018-10-10 14:11:04 Compute Relevance-INFO: \t\t\tOverfit error is 0.0222123500666\n",
      "2018-10-10 14:11:04 Compute Relevance-INFO: \t\t\tError is less than 5%, therefore computing relevance ...\n",
      "2018-10-10 14:11:07 Compute Relevance-INFO: \t\t\tRescaling relevance according to min and max in each frame ...\n",
      "2018-10-10 14:11:07 Compute Relevance-INFO: \t\t\t... and averaging it over each cluster\n",
      "2018-10-10 14:11:07 Compute Relevance-INFO: Running iteration 2 ...\n",
      "2018-10-10 14:11:08 Compute Relevance-INFO: \t\t\tScaling the input dataset ...\n",
      "2018-10-10 14:11:14 Compute Relevance-INFO: \t\t\tTraining the neural network ...\n",
      "2018-10-10 14:11:24 Compute Relevance-INFO: \t\t\tChecking for overfit ...\n",
      "2018-10-10 14:11:26 Compute Relevance-INFO: \t\t\tOverfit error is 0.0666518551433\n",
      "2018-10-10 14:11:26 Compute Relevance-INFO: \t\t\tError is less than 5%, therefore computing relevance ...\n",
      "2018-10-10 14:11:29 Compute Relevance-INFO: \t\t\tRescaling relevance according to min and max in each frame ...\n",
      "2018-10-10 14:11:29 Compute Relevance-INFO: \t\t\t... and averaging it over each cluster\n",
      "2018-10-10 14:11:30 Compute Relevance-INFO: \t\t\tScaling the input dataset ...\n",
      "2018-10-10 14:11:36 Compute Relevance-INFO: \t\t\tTraining the neural network ...\n",
      "2018-10-10 14:11:44 Compute Relevance-INFO: \t\t\tChecking for overfit ...\n",
      "2018-10-10 14:11:46 Compute Relevance-INFO: \t\t\tOverfit error is 0.0\n",
      "2018-10-10 14:11:46 Compute Relevance-INFO: \t\t\tError is less than 5%, therefore computing relevance ...\n",
      "2018-10-10 14:11:50 Compute Relevance-INFO: \t\t\tRescaling relevance according to min and max in each frame ...\n",
      "2018-10-10 14:11:50 Compute Relevance-INFO: \t\t\t... and averaging it over each cluster\n",
      "2018-10-10 14:11:50 Compute Relevance-INFO: Running iteration 3 ...\n",
      "2018-10-10 14:11:51 Compute Relevance-INFO: \t\t\tScaling the input dataset ...\n",
      "2018-10-10 14:11:57 Compute Relevance-INFO: \t\t\tTraining the neural network ...\n",
      "2018-10-10 14:12:05 Compute Relevance-INFO: \t\t\tChecking for overfit ...\n",
      "2018-10-10 14:12:07 Compute Relevance-INFO: \t\t\tOverfit error is 0.0666518551433\n",
      "2018-10-10 14:12:07 Compute Relevance-INFO: \t\t\tError is less than 5%, therefore computing relevance ...\n",
      "2018-10-10 14:12:11 Compute Relevance-INFO: \t\t\tRescaling relevance according to min and max in each frame ...\n",
      "2018-10-10 14:12:11 Compute Relevance-INFO: \t\t\t... and averaging it over each cluster\n",
      "2018-10-10 14:12:12 Compute Relevance-INFO: \t\t\tScaling the input dataset ...\n",
      "2018-10-10 14:12:17 Compute Relevance-INFO: \t\t\tTraining the neural network ...\n",
      "2018-10-10 14:12:27 Compute Relevance-INFO: \t\t\tChecking for overfit ...\n",
      "2018-10-10 14:12:29 Compute Relevance-INFO: \t\t\tOverfit error is 0.0\n",
      "2018-10-10 14:12:29 Compute Relevance-INFO: \t\t\tError is less than 5%, therefore computing relevance ...\n",
      "2018-10-10 14:12:32 Compute Relevance-INFO: \t\t\tRescaling relevance according to min and max in each frame ...\n",
      "2018-10-10 14:12:32 Compute Relevance-INFO: \t\t\t... and averaging it over each cluster\n",
      "2018-10-10 14:12:33 Compute Relevance-INFO: Running iteration 4 ...\n",
      "2018-10-10 14:12:34 Compute Relevance-INFO: \t\t\tScaling the input dataset ...\n",
      "2018-10-10 14:12:40 Compute Relevance-INFO: \t\t\tTraining the neural network ...\n",
      "2018-10-10 14:12:48 Compute Relevance-INFO: \t\t\tChecking for overfit ...\n",
      "2018-10-10 14:12:50 Compute Relevance-INFO: \t\t\tOverfit error is 0.0666518551433\n",
      "2018-10-10 14:12:50 Compute Relevance-INFO: \t\t\tError is less than 5%, therefore computing relevance ...\n",
      "2018-10-10 14:12:53 Compute Relevance-INFO: \t\t\tRescaling relevance according to min and max in each frame ...\n",
      "2018-10-10 14:12:53 Compute Relevance-INFO: \t\t\t... and averaging it over each cluster\n",
      "2018-10-10 14:12:54 Compute Relevance-INFO: \t\t\tScaling the input dataset ...\n",
      "2018-10-10 14:13:00 Compute Relevance-INFO: \t\t\tTraining the neural network ...\n",
      "2018-10-10 14:13:09 Compute Relevance-INFO: \t\t\tChecking for overfit ...\n",
      "2018-10-10 14:13:11 Compute Relevance-INFO: \t\t\tOverfit error is 0.0\n",
      "2018-10-10 14:13:11 Compute Relevance-INFO: \t\t\tError is less than 5%, therefore computing relevance ...\n",
      "2018-10-10 14:13:14 Compute Relevance-INFO: \t\t\tRescaling relevance according to min and max in each frame ...\n",
      "2018-10-10 14:13:14 Compute Relevance-INFO: \t\t\t... and averaging it over each cluster\n",
      "2018-10-10 14:13:15 Compute Relevance-INFO: Running iteration 5 ...\n",
      "2018-10-10 14:13:16 Compute Relevance-INFO: \t\t\tScaling the input dataset ...\n",
      "2018-10-10 14:13:21 Compute Relevance-INFO: \t\t\tTraining the neural network ...\n",
      "2018-10-10 14:13:30 Compute Relevance-INFO: \t\t\tChecking for overfit ...\n",
      "2018-10-10 14:13:32 Compute Relevance-INFO: \t\t\tOverfit error is 0.0444345700955\n",
      "2018-10-10 14:13:32 Compute Relevance-INFO: \t\t\tError is less than 5%, therefore computing relevance ...\n",
      "2018-10-10 14:13:35 Compute Relevance-INFO: \t\t\tRescaling relevance according to min and max in each frame ...\n",
      "2018-10-10 14:13:35 Compute Relevance-INFO: \t\t\t... and averaging it over each cluster\n",
      "2018-10-10 14:13:36 Compute Relevance-INFO: \t\t\tScaling the input dataset ...\n"
     ]
    }
   ],
   "source": [
    "'''\n",
    "\n",
    "RUN the CODE\n",
    "\n",
    "'''\n",
    "\n",
    "# Keep only chosen points in the input data\n",
    "data_keep, clustering_keep = Compute_Relevance.keep_datapoints(data,clustering,points_to_keep)\n",
    "\n",
    "# Run NN and relevance propagation\n",
    "data_vect = Compute_Relevance.vectorize(data_keep)\n",
    "\n",
    "# Output relevance[number of clusters, number of features, av/std]\n",
    "# Output error[n_iter*n_halves]\n",
    "\n",
    "relevance, error = Compute_Relevance.perform_relevance_propagation(data_vect,\\\n",
    "                                                                   clustering_keep,\\\n",
    "                                                                   hidden_layer_sizes,\\\n",
    "                                                                   n_iter,\\\n",
    "                                                                   n_halves)"
   ]
  },
  {
   "cell_type": "code",
   "execution_count": 5,
   "metadata": {},
   "outputs": [],
   "source": [
    "'''\n",
    "\n",
    "WRITE RESULTS\n",
    "\n",
    "'''\n",
    "\n",
    "relevance_per_residue = []\n",
    "\n",
    "for i in range(relevance.shape[0]):\n",
    "    for j in range(2):\n",
    "        relevance_per_residue.append(np.sum(squareform(relevance[i,:,j]),axis=1))\n",
    "\n",
    "relevance_per_residue = np.asarray(relevance_per_residue)\n",
    "np.savetxt(home_dir+'results.2.dat',relevance_per_residue.T)"
   ]
  },
  {
   "cell_type": "code",
   "execution_count": null,
   "metadata": {
    "collapsed": true
   },
   "outputs": [],
   "source": []
  }
 ],
 "metadata": {
  "kernelspec": {
   "display_name": "Python 2",
   "language": "python",
   "name": "python2"
  },
  "language_info": {
   "codemirror_mode": {
    "name": "ipython",
    "version": 2
   },
   "file_extension": ".py",
   "mimetype": "text/x-python",
   "name": "python",
   "nbconvert_exporter": "python",
   "pygments_lexer": "ipython2",
   "version": "2.7.13"
  }
 },
 "nbformat": 4,
 "nbformat_minor": 2
}
