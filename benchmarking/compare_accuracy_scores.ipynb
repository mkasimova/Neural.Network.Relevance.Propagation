{
 "cells": [
  {
   "cell_type": "markdown",
   "metadata": {},
   "source": [
    "# Init"
   ]
  },
  {
   "cell_type": "code",
   "execution_count": 1,
   "metadata": {
    "scrolled": true
   },
   "outputs": [
    {
     "name": "stdout",
     "output_type": "stream",
     "text": [
      "2019-05-23 14:11:48 matplotlib-DEBUG: $HOME=/home/oliverfl\n",
      "2019-05-23 14:11:48 matplotlib-DEBUG: matplotlib data path /home/oliverfl/anaconda3/envs/py2/lib/python2.7/site-packages/matplotlib/mpl-data\n",
      "2019-05-23 14:11:48 matplotlib-DEBUG: loaded rc file /home/oliverfl/anaconda3/envs/py2/lib/python2.7/site-packages/matplotlib/mpl-data/matplotlibrc\n",
      "2019-05-23 14:11:48 matplotlib-DEBUG: matplotlib version 2.2.3\n",
      "2019-05-23 14:11:48 matplotlib-DEBUG: interactive is False\n",
      "2019-05-23 14:11:48 matplotlib-DEBUG: platform is linux2\n",
      "2019-05-23 14:11:48 matplotlib-DEBUG: loaded modules: ['_multiprocessing', 'IPython.core.error', 'ipython_genutils.py3compat', 'traitlets.config.sys', 'concurrent.futures.types', 'ipykernel.parentpoller', 'traitlets.config.decorator', 'ctypes.os', 'pexpect.select', 'runpy', 'gc', 'numpy.lib.numpy', 'pty', 'prompt_toolkit.terminal.vt100_output', 'prompt_toolkit.key_binding.six', 'dateutil.parser.dateutil', 'pygments.filters', 'IPython.utils.pprint', 'numpy.core.info', 'jupyter_client.blocking.channels', 'numpy.random.threading', 'logging.weakref', 'pathlib2.fnmatch', 'ptyprocess.resource', 'dateutil.tz.os', 'pprint', 'ipykernel.getpass', 'matplotlib', 'prompt_toolkit.key_binding.manager', 'pathlib2.scandir', 'IPython.utils.simplegeneric', 'prompt_toolkit.key_binding.bindings.vi', 'ipykernel.traitlets', 'numpy.core.umath', 'IPython.core.magics.display', 'colorama.ansi', 'timeit', 'IPython.core.magics.traitlets', 'IPython.terminal.sys', 'string', 'pexpect.utils', 'prompt_toolkit.layout.six', 'multiprocessing.threading', 'numpy.lib.arraysetops', 'jupyter_client.blocking.__future__', 'IPython.utils.timing', 'encodings.utf_8', 'unittest.types', 'concurrent.futures.weakref', 'numpy.ctypeslib', 'dateutil.parser.decimal', 'json.encoder', 'unittest.signals', 'datetime', 'IPython.core.magics.extension', 'numpy.core.machar', 'zmq.backend.cython.utils', 'traitlets.six', 'ipython_genutils', 'prompt_toolkit.eventloop.abc', 'unittest.StringIO', 'numpy.core._internal', 'array', 'cmd', 'IPython.core.debugger', 'numpy.lib.function_base', 'concurrent.futures.collections', 'future.types.newobject', 'curses.os', 'numpy.ma.extras', 'IPython.lib.IPython', 'pygments.lexers.pygments', 'prompt_toolkit.styles.prompt_toolkit', 'shlex', 'zmq.backend.cython.zmq', 'IPython.core.ultratb', 'prompt_toolkit.key_binding.vi_state', 'ipywidgets.widgets.widget_bool', 'prompt_toolkit.clipboard', 'IPython.utils.resource', 'dis', 'prompt_toolkit.filters.utils', 'numpy.lib', 'logging.threading', 'ipykernel.importlib', 'IPython.core.splitinput', 'IPython.lib.types', 'unittest.result', 'ipywidgets.widgets.domwidget', 'pexpect.spawnbase', 'prompt_toolkit.__future__', 'IPython.terminal.unicodedata', 'IPython.core.excolors', 'jupyter_core.paths', 'ptyprocess.termios', 'IPython.utils.tempfile', 'prompt_toolkit.layout.screen', 'IPython.core.inspect', 'unittest.pprint', 'IPython.lib.getpass', 'IPython.core.magics.gc', 'abc', 'IPython.core.displaypub', 'zmq.utils.sys', 'bdb', 'dateutil.parser.warnings', 'numpy._globals', 'ast', 'numpy.lib.npyio', 'ipython_genutils.sys', 'matplotlib.sys', 'IPython.core.mimetypes', 'traitlets.os', 'zmq.backend.cython.codecs', 'IPython.utils.io', 'ntpath', 'IPython.terminal.__future__', 'zmq.sugar.warnings', 'numpy.random.mtrand', 'jupyter_client.adapter', 'encodings.aliases', 'IPython.utils.openpy', 'IPython.core.alias', 'inspect', 'ipykernel.warnings', 'IPython.core.datetime', 'ctypes.tempfile', 'ipywidgets.widgets.base64', 'prompt_toolkit.terminal', 'ipython_genutils.re', '_ctypes', 'exceptions', 'json.scanner', 'concurrent.futures.itertools', '__main__', 'colorama.winterm', 'jupyter_client.hmac', 'codecs', 'dateutil.warnings', 'jupyter_client.blocking.functools', 'prompt_toolkit.clipboard.six', 'IPython.core.shadowns', 'traitlets.config.loader', 'pexpect.run', 'pexpect.stat', 'ipython_genutils.locale', 'traitlets.config.json', 'IPython.utils.shutil', 'StringIO', 'ptyprocess.errno', 'concurrent.futures.atexit', 'wcwidth', 'colorama.win32', 'weakref', 'IPython.terminal.shortcuts', 'prompt_toolkit.styles.__future__', 'traitlets', 'ipywidgets.os', 'ipykernel.itertools', 'numpy.testing._private.utils', 'traitlets.traitlets', 'IPython.core.display', 'IPython.core.usage', 'numpy.lib.arraypad', 'IPython.terminal', 'numpy.random.warnings', 'base64', 'jupyter_client.os', 'dateutil.parser.isoparser', 'ipykernel.traceback', '_sre', 'pygments.formatters.html', 'ipykernel.cPickle', 'future.types.newdict', 'future.utils.sys', 'numpy.linalg', 'IPython.core.json', 'traitlets.types', 'matplotlib.cbook.warnings', 'sqlite3.dbapi2', 'IPython', 'logging.re', 'prompt_toolkit.clipboard.prompt_toolkit', 'urllib2', 'IPython.core.errno', 'select', 'ctypes._ctypes', '_heapq', 'IPython.core.display_trap', 'zmq.sugar.constants', 'prompt_toolkit.key_binding.bindings.prompt_toolkit', 'numpy.lib.financial', 'zmq.backend.cython.time', 'binascii', 'IPython.lib.contextlib', 'dateutil.calendar', 'pexpect.time', 'pygments.lexers.python', 'numpy.core.shape_base', 'IPython.core.logger', 'jupyter_client.manager', 'tokenize', 'pygments.formatters.sys', 'IPython.core.StringIO', 'matplotlib.json', 'IPython.core.magics.io', 'traitlets.utils.inspect', 'zmq.backend.cython.warnings', 'unittest.fnmatch', 'cPickle', 'jupyter_client.session', 'numpy.polynomial.hermite_e', 'ipykernel.comm.ipykernel', 'prompt_toolkit.pygments', 'IPython.core.magics.errno', 'future.builtins.future_builtins', 'IPython.utils.encoding', 'IPython.core.ast', 'IPython.core.keyword', 'IPython.lib.os', 'prompt_toolkit.clipboard.base', 'prompt_toolkit.styles.abc', 'prompt_toolkit.terminal.__future__', 'zmq.backend.cython.cPickle', 'IPython.core.getipython', 'numpy.compat', 'prompt_toolkit.key_binding.input_processor', 'numpy.core.fromnumeric', 'unicodedata', 'zmq', 'IPython.core.page', '_ast', 'IPython.utils.process', 'jupyter_client.sys', 'prompt_toolkit.styles.pygments', 'jupyter_client.io', 'zmq.sugar.tracker', 'jupyter_client.blocking.getpass', 'numpy.core.memmap', '_bisect', 'pathlib2.ctypes', 'IPython.extensions.textwrap', 'ptyprocess.pty', 'ipywidgets.widgets.mimetypes', 'fnmatch', 'sre_parse', 'tornado.concurrent', 'numpy.lib._version', 'pickle', 'jupyter_core.version', 'ipywidgets.widgets.ipykernel', '_scandir', 'future.types.__future__', 'pygments.regexopt', 'ipywidgets.widgets.widget_controller', 'jupyter_client.launcher', 'matplotlib.rcsetup', 'logging.cStringIO', 'cython_runtime', 'ipykernel.collections', 'numpy.lib.polynomial', 'IPython.terminal.debugger', 'dateutil.parser.__future__', 'prompt_toolkit.styles.six', 'numbers', 'IPython.utils.shlex', 'IPython.core.magics.signal', 'numpy.core.records', 'ipykernel.comm.ipython_genutils', 'prompt_toolkit.key_binding.abc', 'traitlets.inspect', 'future.builtins.iterators', 'ipykernel.zmq', 'IPython.utils.platform', 'strop', 'pygments.util', 'jupyter_client.jupyter_client', 'IPython.core.history', 'numpy.core.numeric', 'concurrent.futures.process', 'six', 'IPython.shutil', 'jupyter_client.connect', 'ipython_genutils.textwrap', 'dateutil.parser._parser', 'zmq.backend.cython.struct', 'prompt_toolkit.layout.__future__', 'prompt_toolkit.abc', 'IPython.utils.ipstruct', 'traitlets._version', 'prompt_toolkit.eventloop.base', 'dateutil.math', 'IPython.extensions.__future__', 'jupyter_client.jupyter_core', 'concurrent.pkgutil', 'ctypes.util', 'jupyter_client.blocking.sys', 'numpy.core.defchararray', 'IPython.core.magics.osm', 'numpy.linalg.lapack_lite', 'htmlentitydefs', 'zmq.backend.cython.threading', 'ipywidgets.widgets.widget_link', 'jupyter_core.tempfile', 'ipywidgets.widgets.contextlib', 'jupyter_client.blocking', 'numpy.linalg._umath_linalg', 'pexpect.os', 'codeop', 'future.types.collections', 'numpy.lib.arrayterator', 'tornado.platform.interface', 'pygments.formatter', 'os.path', 'IPython.core.magics.time', 'argparse', 'prompt_toolkit.eventloop.callbacks', 'ipykernel.copyreg', 'IPython.core.tempfile', 'IPython.core.payload', '_weakrefset', 'zmq.backend.select', 'ipykernel.copy', 'prompt_toolkit.bisect', 'unittest.traceback', 'ipywidgets.widgets.widget', 'traitlets.config.configurable', 'IPython.core.traitlets', 'tty', 'zmq.eventloop.queue', 'ipykernel.threading', 'pexpect.exceptions', 'prompt_toolkit.io', 'pygments.pygments', 'functools', 'tornado.platform.posix', 'prompt_toolkit.subprocess', 'numpy.core._multiarray_tests', 'backports.shutil_get_terminal_size.termios', 'sysconfig', 'IPython.terminal.embed', 'concurrent.futures.concurrent', 'ipykernel.serialize', 'jupyter_client._version', 'pexpect.contextlib', 'sqlite3.collections', 'pygments.formatters.types', 'dateutil.tz.time', 'prompt_toolkit.eventloop.__future__', 'builtins', 'uuid', 'jupyter_core.os', 'numpy.compat.py3k', 'tempfile', 'curses', 'prompt_toolkit.tempfile', 'imp', 'prompt_toolkit.wcwidth', 'multiprocessing.os', 'jupyter_core.sys', 'IPython.utils.tempdir', 'matplotlib.compat', 'zmq.utils.constant_names', 'multiprocessing.itertools', 'backports.shutil_get_terminal_size.collections', 'enum.sys', 'jupyter_client.datetime', 'matplotlib._color_data', 'jupyter_client.random', 'ipywidgets.widgets.docutils', 'traitlets.utils.sentinel', 'ptyprocess.os', 'numpy.linalg.info', 'future.types.numbers', 'zmq.zmq', 'ptyprocess.codecs', 'prompt_toolkit.input', 'numpy.polynomial.polynomial', 'zmq.eventloop.tornado', 'IPython.core.traceback', 'unittest.util', 'IPython.utils._tokenize_py2', 'IPython.core.__main__', 'IPython.extensions.inspect', 'ipython_genutils._version', 'prompt_toolkit.layout.mouse_handlers', 'IPython.utils.hashlib', 'hmac', 'zmq.eventloop.__future__', 'decorator', 'IPython.core.zipimport', 'pygments.lexers.sys', 'httplib', 'pygments.unistring', 'prompt_toolkit.cache', 'IPython.terminal.interactiveshell', 'IPython.extensions.traitlets', 'decimal', 'ipywidgets.widgets.itertools', 'numpy.lib._datasource', 'IPython.core.warnings', 'IPython.utils.imp', 'logging.handlers', 'dateutil.tz.datetime', 'token', 'prompt_toolkit.key_binding.digraphs', 'prompt_toolkit.auto_suggest', 'prompt_toolkit.buffer', 'zmq.backend', 'unittest.runner', 'IPython.testing.sys', 'pygments.formatters.os', 'IPython.utils.warnings', 'pathlib2.six', 'ptyprocess.fcntl', 'cStringIO', 'IPython.utils.errno', 'mkl_fft._pydfti', 'backports.shutil_get_terminal_size.struct', 'IPython.core.io', 'IPython.terminal.pt_inputhooks', 'IPython.core.magics.namespace', 'traitlets.config.copy', 'ipywidgets.widgets.widget_color', 'traitlets.utils.ipython_genutils', 'zmq.os', 'zmq.sugar.frame', 'multiprocessing.process', 'ctypes.errno', 'encodings', 'IPython.core.magics.history', 'IPython.core.__future__', 'IPython.core.displayhook', 'pexpect.expect', 'IPython.core.binascii', 'future.types.struct', 'numpy.matrixlib', 'ipykernel.comm.uuid', 'IPython.core.interactiveshell', 'traitlets.ipython_genutils', 'IPython.core.operator', 'IPython.core.crashhandler', 'IPython.utils', 'numpy.fft.helper', 'zmq.ctypes', 'prompt_toolkit.layout.time', 'prompt_toolkit.threading', 'dateutil.six', 're', 'pygments.filters.re', 'numpy.fft.fftpack_lite', 'future.types', 'IPython.core.magics.IPython', 'IPython.utils.capture', 'ipykernel.errno', 'ipykernel.ipkernel', 'sqlite3.time', 'dateutil.relativedelta', 'math', 'IPython.core.IPython', 'pygments.formatters.fnmatch', 'wcwidth.__future__', 'ipykernel.comm.manager', 'IPython.core.importlib', 'ipython_genutils.errno', 'dateutil.tz.six', 'IPython.lib.sys', 'prompt_toolkit.interface', 'prompt_toolkit.terminal.vt100_input', 'numpy.lib.ufunclike', 'dateutil.tz.tz', 'prompt_toolkit.key_binding.bindings.six', 'ctypes.struct', 'IPython.utils.colorable', 'ipykernel.ctypes', 'ipywidgets.widgets.IPython', 'prompt_toolkit.filters', '_locale', 'IPython.core.logging', 'logging', 'prompt_toolkit.enums', 'thread', 'numpy.lib.shape_base', 'IPython.core.events', 'prompt_toolkit.eventloop', 'traceback', 'ipykernel.signal', 'multiprocessing', 'concurrent.futures.time', 'IPython.core.copy', 'IPython.core.builtin_trap', 'zmq.backend.platform', 'IPython.utils.coloransi', 'multiprocessing.util', 'IPython.utils._process_posix', 'colorama.os', 'numpy._mklinit', 'future.types.newbytes', 'ipywidgets.widgets.widget_layout', 'ctypes.re', 'pathlib2.os', 'prompt_toolkit.filters.six', '_collections', 'prompt_toolkit.mouse_events', 'ipykernel.jupyter_core', 'jupyter_client.multikernelmanager', 'numpy.random', 'prompt_toolkit.key_binding.bindings.__future__', 'ipykernel.kernelbase', 'traitlets.config.os', 'traitlets.config.ast', 'multiprocessing.sys', 'ipykernel.uuid', 'future.builtins', 'ipywidgets.widgets.widget_button', 'pexpect.pty_spawn', 'pygments.filter', 'numpy.core.arrayprint', 'IPython.utils.locale', 'ctypes.sys', 'IPython.core.magics.config', 'pygments.lexers.__future__', 'pexpect', 'posixpath', 'jupyter_client.channels', 'numpy.testing._private', 'ipykernel.atexit', 'zmq.sugar.atexit', 'IPython.utils._sysinfo', 'prompt_toolkit.filters.cli', 'traitlets.logging', 'colorama.contextlib', 'types', 'zmq.backend.cython._device', 'typing', 'prompt_toolkit.utils', 'prompt_toolkit.clipboard.in_memory', 'IPython.core.linecache', 'ipywidgets.widgets.widget_string', 'matplotlib.cbook.functools', 'json._json', 'numpy._import_tools', 'curses.sys', 'ipykernel.jupyter_client', '_codecs', 'traitlets.contextlib', 'numpy.testing._private.pytesttester', 'ipykernel.comm.sys', 'IPython.core.unicodedata', 'enum.collections', 'json.sys', 'encodings.ascii', 'future.builtins.__builtin__', 'IPython.utils.os', 'ipykernel.datapub', 'pygments.styles.pygments', 'concurrent.futures.multiprocessing', 'pygments.time', 'zmq.eventloop.ioloop', 'copy', 'ipykernel.datetime', 'prompt_toolkit.styles.collections', 'ipykernel.comm.logging', 'ipython_genutils.shutil', 'hashlib', 'prompt_toolkit', 'zmq.error', 'keyword', 'ipython_genutils.random', 'distutils', 'ipywidgets.widgets.widget_core', 'numpy.lib.nanfunctions', 'IPython.extensions.IPython', 'ipywidgets.widgets.sys', 'unittest.weakref', 'numpy.fft.info', 'future', 'posix', 'IPython.core.hashlib', 'pygments.lexers.fnmatch', '_curses', 'ipywidgets.widgets.widget_box', 'IPython.utils.generics', 'ipykernel.connect', 'backports.shutil_get_terminal_size.os', 'ipywidgets.IPython', 'prompt_toolkit.layout.collections', 'sre_compile', 'ipykernel', 'dateutil.tz._factories', '_hashlib', 'prompt_toolkit.layout.utils', 'IPython.utils.ulinecache', 'zmq.eventloop.cPickle', 'IPython.core.magics.code', 'urllib', 'IPython.core.bdb', 'logging.collections', 'IPython.core.threading', 'zmq.eventloop.zmq', 'pygments.__future__', 'future.utils.types', 'colorama.initialise', 'multiprocessing.atexit', 'calendar', 'dateutil.operator', 'prompt_toolkit.string', 'unittest.time', 'prompt_toolkit.layout.re', 'dateutil._version', 'pexpect.pty', 'future.utils.numbers', 'bz2', 'ipykernel.types', 'dateutil.parser', 'prompt_toolkit.token', 'IPython.core.pprint', 'jupyter_client.ipython_genutils', 'encodings.codecs', 'ipywidgets', 'IPython.utils.__builtin__', 'IPython.terminal.os', 'IPython.lib.threading', 'zmq.utils.jsonapi', 'curses.curses', 'ipywidgets.widgets.datetime', 'numpy.lib.utils', 'ipykernel.IPython', 'IPython.core.completer', 'prompt_toolkit.layout.toolbars', 'ipywidgets.widgets.json', 'unittest.difflib', '_ssl', 'pexpect.ptyprocess', 'IPython.utils.sys', 'IPython.utils.re', 'tornado', 'IPython.lib.clipboard', 'glob', 'pathlib2.operator', 'multiprocessing.multiprocessing', 'IPython.utils.inspect', 'pygments.formatters', 'zmq.backend.cython.sys', 'gzip', 'IPython.core.base64', 'pexpect.errno', '_sqlite3', 'ipython_genutils.text', '_thread', 'IPython.core.shellapp', 'zmq.backend.cython.random', 'numpy.lib.twodim_base', 'prompt_toolkit.selection', 'six.moves.urllib.request', 'matplotlib.cbook', 'future.utils.__builtin__', 'concurrent.futures.sys', 'dateutil.parser.calendar', 'pygments.modeline', 'future.types.string', 'zmq.backend.cython.error', 'IPython.utils.wildcard', 'IPython.core.extensions', 'IPython.utils.tokenutil', '_io', 'linecache', '_strptime', 'ipywidgets.widgets.trait_types', 'IPython.core.compilerop', 'ipykernel.comm', 'future.types.newstr', 'jupyter_client.zmq', 'numpy.linalg.linalg', 'pathlib2.urllib', 'scandir', 'prompt_toolkit.terminal.six', 'ipywidgets.widgets.widget_output', 'numpy.lib._iotools', 'prompt_toolkit.key_binding.bindings.named_commands', 'ipywidgets.widgets.traitlets', 'future.standard_library', 'jupyter_client.json', 'random', 'pygments.styles', 'zmq.sugar.context', 'subprocess', 'IPython.extensions.storemagic', 'prompt_toolkit.key_binding.weakref', 'backports.shutil_get_terminal_size.fcntl', 'ptyprocess', 'pygments.operator', 'logging.os', 'ctypes._endian', 'encodings.encodings', 'ptyprocess.time', 'ipykernel.numbers', 'colorama.ansitowin32', 'pygments.formatters._mapping', 'logging.stat', 'numpy.__config__', '_cython_0_28_5', 'importlib', 'prompt_toolkit.styles.from_pygments', 'IPython.core.magic', 'ipywidgets.widgets.ipython_genutils', 'IPython.utils.dir2', '_json', 'prompt_toolkit.key_binding.bindings.basic', 'unittest.sys', 'ipykernel.logging', 'traitlets.config.argparse', 'ipython_genutils.importstring', 'jupyter_client.blocking.traitlets', 'logging.thread', 'cProfile', 'prompt_toolkit.styles.defaults', 'prompt_toolkit.buffer_mapping', 'ipywidgets.widgets.functools', 'prompt_toolkit.history', 'IPython.lib.re', 'pathlib2', 'pygments.sys', 'prompt_toolkit.terminal.termios', 'prompt_toolkit.styles', 'concurrent.futures.threading', 'repr', 'ipykernel.pickleutil', 'wcwidth.table_zero', 'ssl', 'traitlets.config.__future__', 'prompt_toolkit.reactive', 'numpy.version', 'ipython_genutils.platform', 'distutils.re', 'prompt_toolkit.terminal.tty', '_lsprof', 'IPython.os', 'pygments.lexer', 'prompt_toolkit.completion', 'ptyprocess.ptyprocess', 'numpy.lib.type_check', 'numpy.testing._private.nosetester', 'traitlets.config.collections', 'resource', 'IPython.terminal.traitlets', 'bisect', 'traitlets.config', 'unittest', 'queue', 'IPython.utils.IPython', 'pydoc', 'threading', 'prompt_toolkit.keys', 'IPython.core.prefilter', 'ipywidgets.widgets.widget_float', 'prompt_toolkit.styles.from_dict', 'jupyter_client.hashlib', 'dateutil.tz.functools', 'IPython.lib.datetime', 'cycler', 'IPython.core.string', 'pathlib2.errno', 'numpy.fft', 'ipywidgets.widgets.widget_selection', 'dateutil._common', 'pathlib2.io', 'IPython.core.textwrap', 'jupyter_client.errno', 'future.backports.misc', 'locale', 'unittest.re', 'ipywidgets.widgets.widget_date', 'prompt_toolkit.document', 'ptyprocess.sys', 'atexit', 'IPython.core.autocall', 'dateutil.parser.io', 'IPython.core.sys', 'pexpect.sys', 'zmq.backend.cython.message', 'ipykernel.comm.traitlets', 'sphinxcontrib', 'IPython.core.magics.__future__', 'traitlets.sys', 'IPython.core.magics.pylab', 'dateutil', 'ipywidgets.widgets.numbers', 'traitlets.utils.bunch', 'backports.shutil_get_terminal_size.get_terminal_size', 'tornado.log', 'jupyter_client.managerabc', 'future.builtins.future', 'numpy.core.numerictypes', 'IPython.lib.io', 'pygments.StringIO', 'IPython.lib.subprocess', 'ipykernel.displayhook', 'zmq.sys', 'ctypes.subprocess', 'prompt_toolkit.validation', 'fcntl', 'ipywidgets.widgets.collections', 'IPython.utils.path', 'mkl_fft._version', 'ipywidgets.widgets.inspect', 'IPython.core.atexit', 'pygments.plugin', 'zmq.eventloop.warnings', 'prompt_toolkit.layout.controls', 'zmq.utils', 'jupyter_client.localinterfaces', 'Queue', 'numpy.lib.info', 'jupyter_client.shutil', 'ctypes', 'IPython.lib.collections', 'IPython.core.magics.re', 'backports.functools_lru_cache', 'IPython.utils._process_common', 'pickleshare', 'ipykernel.ipykernel', 'ipython_genutils.functools', 'prompt_toolkit.types', 'numpy.matrixlib.defmatrix', 'traitlets.config.application', 'jupyter_client.socket', 'pexpect.codecs', 'matplotlib.compat.subprocess', 'prompt_toolkit.key_binding.bindings', 'prompt_toolkit.filters.base', 'itertools', 'jupyter_client.blocking.zmq', 'opcode', 'colorama.sys', 'pstats', 'future.utils.copy', 'prompt_toolkit.key_binding.bindings.math', 'ptyprocess.signal', 'traitlets.config.six', 'pdb', 'future.types.newrange', 'IPython.core.magics.subprocess', 'IPython.terminal.signal', 'numpy.sys', 'IPython.extensions.os', 'IPython.core.magics.atexit', 'six.moves', 'IPython.terminal.logging', 'zmq.errno', 'prompt_toolkit.key_binding.collections', 'numpy.fft.fftpack', 'IPython.testing', 'prompt_toolkit.renderer', 'sqlite3.datetime', 'zmq.sugar.socket', 'prompt_toolkit.key_binding.bindings.string', 'pygments.lexers.re', 'prompt_toolkit.shortcuts', 'pygments', 'logging.errno', 'pathlib2.re', 'curses._curses', 'future.types.future', 'prompt_toolkit.signal', 'ipykernel.imp', 'dateutil.parser.re', 'prompt_toolkit.shlex', 'IPython.core.hooks', 'numpy.os', 'IPython.display', 'pkgutil', 'IPython.core.tokenize', 'platform', 'future.utils', 'IPython.lib.__future__', 'IPython.utils.sentinel', 'ipykernel.tornado', 'IPython.core.magics.warnings', 'logging.struct', 'sre_constants', 'zmq.backend.os', 'json', 'pygments.styles.default', 'prompt_toolkit.filters.prompt_toolkit', 'mkl_fft._numpy_fft', 'numpy.core.function_base', 'jupyter_client.jsonutil', 'ipykernel.platform', 'numpy', 'zmq.sugar.random', 'IPython.lib.warnings', 'json.re', 'prompt_toolkit.sys', 'zmq.utils.itertools', 'prompt_toolkit.layout.lexers', 'zmq.eventloop', 'ipywidgets.widgets', 'subprocess32', 'dateutil.parser.time', 'termios', 'pygments.itertools', 'IPython.IPython', 'ptyprocess.shutil', 'prompt_toolkit.application', 'zmq.sugar', 'logging.atexit', 'logging.cPickle', 'IPython.core.completerlib', 'matplotlib.cbook._backports', 'pyparsing', 'IPython.core.sqlite3', 'unittest.main', 'future.builtins.newsuper', 'zmq.sugar.stopwatch', 'getpass', 'ipykernel.__future__', 'concurrent.futures.logging', 'prompt_toolkit.inspect', 'prompt_toolkit.functools', 'ptyprocess.util', 'storemagic', 'zlib', 'jupyter_client.blocking.jupyter_client', 'prompt_toolkit.textwrap', 'numpy.core.multiarray_tests', 'jupyter_client.blocking.client', 'ipython_genutils.__builtin__', 'concurrent.futures.Queue', 'multiprocessing.weakref', 'numpy.lib.stride_tricks', 'IPython.terminal.prompt_toolkit', 'jupyter_client.binascii', 'json.decoder', 'traitlets.enum', 'unittest.signal', 'copy_reg', 'IPython.core.magics.os', 'ipykernel.kernelapp', 'tornado.platform.auto', 'IPython.utils.linecache', 'site', 'ipywidgets.widgets.widget_selectioncontainer', 'copyreg', 'IPython.core.shutil', 'dateutil.tz', 'io', 'ipython_genutils.string', 'prompt_toolkit.search_state', 'IPython.core.pygments', 'shutil', 'dateutil.parser.datetime', 'IPython.utils.random', 'jupyter_client.clientabc', 'prompt_toolkit.clipboard.collections', 'pygments.filters.pygments', 'zmq.sugar.zmq', 'zmq.backend.sys', 'prompt_toolkit.terminal.os', 'prompt_toolkit.styles.base', 'IPython.lib.backgroundjobs', 'IPython.lib.logging', 'ipykernel.zmqshell', 'IPython.utils.decorators', 'future.builtins.decimal', 'IPython.testing.skipdoctest', 'numpy.ctypes', 'ipywidgets.widgets.__future__', 'IPython.core.magics.script', 'numpy.core', 'future.builtins.newround', 'sqlite3', 'pygments.formatters.pygments', 'prompt_toolkit.weakref', 'IPython.core.magics.basic', 'IPython.core.magics.auto', 'traitlets.config.traitlets', 'IPython.core.macro', 'ipywidgets.widgets.widget_style', 'IPython.core.magics.pprint', 'IPython.utils.data', 'rfc822', 'unittest.collections', 'numpy.polynomial.polyutils', 'json.json', 'IPython.terminal.ipapp', 'IPython.core.types', 'sys', 'pathlib2.stat', 'numpy.compat._inspect', 'IPython.terminal.IPython', 'multiprocessing.subprocess', 'importlib.sys', 'numpy.polynomial.legendre', 'ipykernel.re', 'jupyter_client.traitlets', 'IPython.terminal.pt_inputhooks.importlib', 'ipywidgets.traitlets', 'tornado.util', 'distutils.sys', 'IPython.utils.importstring', 'unittest.functools', 'prompt_toolkit.output', 'matplotlib.fontconfig_pattern', '_weakref', 'pygments.formatters.__future__', 'IPython.core.inputtransformer', 'difflib', 'urlparse', 'ipykernel.binascii', 'prompt_toolkit.key_binding.prompt_toolkit', 'pygments.cStringIO', 'ipywidgets.widgets.re', 'IPython.core.decorator', 'IPython.core.application', 'ipykernel._version', 'IPython.core', 'unittest.os', 'prompt_toolkit.layout.processors', 'IPython.utils.terminal', 'traitlets.utils.six', 'logging.logging', 'prompt_toolkit.key_binding.registry', 'heapq', 'concurrent.futures._base', 'concurrent.futures', 'IPython.core.time', 'prompt_toolkit.terminal.array', 'prompt_toolkit.key_binding.bindings.completion', 'IPython.extensions', 'ipykernel._thread', 'matplotlib.cbook.textwrap', 'prompt_toolkit.key_binding.defaults', 'ptyprocess.struct', 'zmq.backend.cython.socket', 'IPython.terminal.pt_inputhooks.os', 'IPython.core.oinspect', 'zmq.sugar.time', 'prompt_toolkit.key_binding.bindings.codecs', 'zmq.sugar.attrsettr', 'tornado.platform.epoll', 'ipywidgets.widgets.widget_description', 'matplotlib.colors', 'tornado.escape', 'IPython.core.os', 'zmq.backend.cython.constants', 'ipython_genutils.path', 'IPython.utils._signatures', 'jupyter_client.logging', 'struct', 'backports_abc', 'numpy.random.info', 'IPython.utils.strdispatch', 'IPython.core.inputsplitter', 'IPython.utils.tokenize2', 'prompt_toolkit.terminal.errno', 'mkl_fft', 'future.builtins.io', 'IPython.lib', 'sqlite3._sqlite3', 'prompt_toolkit.key_binding', 'IPython.utils.string', 'collections', 'jupyter_client.cPickle', 'prompt_toolkit.eventloop.six', 'prompt_toolkit.filters.collections', 'logging.socket', 'ipykernel.comm.comm', 'distutils.types', 'IPython.extensions.sys', 'backports.shutil_get_terminal_size.ctypes', 'traitlets.utils', 'ipython_genutils.encoding', 'dateutil.tz._common', 'zipimport', 'IPython.core.struct', 'pathlib2.sys', 'IPython.core.magics.execution', 'jupyter_client', 'IPython.terminal.magics', 'textwrap', 'zmq.platform', 'pexpect.io', 'pathlib2.functools', 'getopt', 'numpy.lib.scimath', 'jupyter_client.channelsabc', 'prompt_toolkit.filters.__future__', 'pexpect.traceback', 'ipykernel.math', 'traitlets.config.re', 'zmq.backend.cython._version', 'pexpect.types', 'future.backports', 'IPython.lib.random', 'ipykernel.codeutil', 'IPython.utils.frame', 'signal', 'IPython.core.payloadpage', 'prompt_toolkit.terminal.prompt_toolkit', 'prompt_toolkit.filters.abc', 'prompt_toolkit.re', 'IPython.terminal.warnings', 'jupyter_client.dateutil', 'prompt_toolkit.layout.containers', 'unittest.suite', 'numpy.core.multiarray', 'IPython.core.magics', 'zmq.backend.cython.context', 'pygments.lexers.types', 'zmq.eventloop.zmqstream', 'IPython.core.getopt', 'jupyter_client.kernelspec', 'IPython.lib.display', 'ipywidgets._version', 'IPython.terminal.prompts', 'mimetypes', 'numpy.core.getlimits', 'dateutil.tz.sys', 'ipykernel.io', 'prompt_toolkit.key_binding.bindings.emacs', 'pygments.lexers._mapping', 'IPython.utils.token', 'IPython.utils.module_paths', 'pygments.lexers.os', 'logging.traceback', 'numpy.lib.index_tricks', 'IPython.core.magic_arguments', 'pygments.codecs', 'traitlets.utils.getargspec', 'dateutil.parser.six', 'IPython.core.magics.logging', 'wcwidth.table_wide', 'warnings', 'IPython.utils.sysinfo', 'backports', 'ipywidgets.widgets.valuewidget', 'IPython.core.argparse', 'IPython.lib.security', 'numpy.lib.mixins', 'jupyter_client.warnings', 'numpy.ma.core', 'IPython.core.subprocess', 'pygments.formatters.re', 'traitlets.config.logging', 'ipython_genutils.warnings', 'IPython.utils.subprocess', 'jupyter_client.abc', 'prompt_toolkit.key_binding.bindings.itertools', 'mpl_toolkits', 'IPython.utils.syspathcontext', 'UserDict', 'traitlets.config.ipython_genutils', 'enum', 'matplotlib._version', 'six.moves.urllib', 'pygments.os', 'prompt_toolkit.prompt_toolkit', 'IPython.utils.PyColorize', 'ipywidgets.widgets.widget_int', 'tornado.platform.common', 'prompt_toolkit.time', 'numpy.random.operator', 'IPython.terminal.wcwidth', 'logging.sys', 'pexpect.re', 'IPython.terminal.ptutils', 'future.builtins.newnext', 'unittest.loader', '_functools', 'ipykernel.sys', 'socket', 'pathlib2.ntpath', 'ipykernel.socket', 'IPython.core.pylabtools', 'zmq.sugar.version', 'backports.shutil_get_terminal_size', 'pexpect.signal', 'prompt_toolkit.datetime', 'IPython.utils.contexts', 'IPython.core.imp', 'ipykernel.iostream', 'ipykernel.os', 'colorama', 'IPython.core.pdb', 'dateutil.tz.struct', 'os', 'marshal', 'zmq.sugar.sys', 'distutils.version', 'matplotlib.cbook.deprecation', '__future__', 'simplegeneric', 'tornado.speedups', 'traitlets.utils.functools', 'numpy.random.numpy', 'IPython.lib.deepreload', 'ipywidgets.widgets.interaction', 'prompt_toolkit.clipboard.__future__', '__builtin__', 'zmq.backend.cython', 'IPython.utils.functools', 'numpy.polynomial', 'prompt_toolkit.layout.itertools', 'numpy.lib.format', 'operator', 'prompt_toolkit.layout.menus', 'json.struct', 'pygments.token', 'pathlib2.collections', 'dateutil.parser.functools', 'zmq.backend.cython._poll', 'IPython.core.re', 'errno', 'unittest.case', '_socket', 'future.types.sys', 'prompt_toolkit.clipboard.abc', 'jupyter_client.blocking.queue', 'IPython.core.glob', 'IPython.core.abc', 'prompt_toolkit.layout.prompt_toolkit', 'jupyter_client.re', 'pathlib2.posixpath', 'prompt_toolkit.terminal.re', '_warnings', 'IPython.core.magics.sys', 'multiprocessing._multiprocessing', 'IPython.core.latex_symbols', 'prompt_toolkit.key_binding.__future__', 'IPython.utils.text', 'encodings.__builtin__', 'IPython.utils.__future__', 'ipython_genutils.os', 'prompt_toolkit.layout.math', 'tornado.platform', 'IPython.core.profiledir', 'future.builtins.misc', 'numpy._distributor_init', 'prompt_toolkit.layout.abc', 'pwd', 'future_builtins', 'curses.wrapper', 'prompt_toolkit.six', 'backports.shutil_get_terminal_size.sys', 'IPython.utils.pexpect', '_posixsubprocess32', 'IPython.utils.types', '_sysconfigdata', '_struct', 'ptyprocess.builtins', 'ipykernel.heartbeat', 'typing.re', 'future.types.copy', 'prompt_toolkit.filters.weakref', 'numpy.lib.histograms', 'jupyter_client.pprint', 'IPython.core.functools', 'dateutil.tz.bisect', 'IPython.paths', 'IPython.terminal.pygments', 'jupyter_client.subprocess', 'logging.time', 'prompt_toolkit.filters.types', 'numpy.polynomial.chebyshev', 'ipykernel.ipython_genutils', 'zmq.sugar.errno', 'IPython.lib.imp', 'logging.warnings', 'IPython.tempfile', 'mimetools', 'multiprocessing.signal', 'pygments.re', 'dateutil.datetime', 'colorama.atexit', 'logging.codecs', '_random', 'zmq.backend.cython.copy', 'numpy.polynomial._polybase', 'zmq.utils.zmq', 'prompt_toolkit.layout.margins', 'matplotlib.testing', 'numpy.polynomial.hermite', 'contextlib', 'IPython.utils.time', 'prompt_toolkit.layout.dimension', 'concurrent.futures.thread', 'numpy.add_newdocs', 'future.utils.inspect', 'IPython.lib.hashlib', 'traitlets.warnings', 'prompt_toolkit.key_binding.bindings.scroll', 'IPython.utils.glob', 'zmq.sugar.cPickle', 'zmq.utils.strtypes', 'future.types.newint', 'grp', 'IPython.core.release', 'IPython.lib.pretty', 'colorama.ctypes', 'ipywidgets.widgets.widget_media', 'gettext', 'ptyprocess.io', 'dateutil.parser.string', '_abcoll', 'prompt_toolkit.os', 'pexpect.tty', 'IPython.core.codeop', 'traitlets.log', 'prompt_toolkit.layout.prompt', 'wcwidth.wcwidth', 'ipython_genutils.types', 'genericpath', 'stat', 'jupyter_core', 'pygments.lexers', 'IPython.core.formatters', 'jupyter_client.client', 'IPython.warnings', 'unittest.warnings', 'prompt_toolkit.collections', 'prompt_toolkit.styles.utils', 'ipykernel.time', 'zmq.sugar.threading', 'concurrent', 'numpy.polynomial.laguerre', 'numpy.core.einsumfunc', 'ctypes.ctypes', 'future.types.newlist', 'pygments.style', 'numpy.testing', 'numpy.ma', 'future.utils.functools', 'numpy.core._methods', 'numpy.testing._private.decorators', 'IPython.core.itertools', 'zmq.sugar.poll', 'distutils.string', 'prompt_toolkit.layout', 'traitlets.utils.importstring', 'tornado.stack_context', 'ipykernel.jsonutil', 'ipywidgets.widgets.warnings', 'IPython.utils.signatures', 'jupyter_client.blocking.time', 'time', 'colorama.re', 'tornado.ioloop', 'typing.io', 'IPython.utils.py3compat', 'traitlets.re']\n"
     ]
    },
    {
     "name": "stdout",
     "output_type": "stream",
     "text": [
      "2019-05-23 14:11:48 matplotlib-DEBUG: CACHEDIR=/home/oliverfl/.cache/matplotlib\n",
      "2019-05-23 14:11:48 matplotlib.font_manager-DEBUG: Using fontManager instance from /home/oliverfl/.cache/matplotlib/fontList.json\n",
      "2019-05-23 14:11:49 matplotlib.backends-DEBUG: backend module://ipykernel.pylab.backend_inline version unknown\n",
      "2019-05-23 14:11:49 accuracy_comp-INFO: Started\n",
      "2019-05-23 14:11:49 matplotlib.backends-DEBUG: backend module://ipykernel.pylab.backend_inline version unknown\n"
     ]
    }
   ],
   "source": [
    "from __future__ import absolute_import, division, print_function\n",
    "\n",
    "import logging\n",
    "import sys\n",
    "logging.basicConfig(\n",
    "    stream=sys.stdout,\n",
    "    level=logging.DEBUG,\n",
    "    format='%(asctime)s %(name)s-%(levelname)s: %(message)s',\n",
    "    datefmt='%Y-%m-%d %H:%M:%S')\n",
    "import os\n",
    "import matplotlib.pyplot as plt\n",
    "plt.style.use(\"seaborn-colorblind\")\n",
    "import numpy as np\n",
    "\n",
    "plt.rcParams['figure.autolayout'] = True\n",
    "plt.rcParams['font.family'] = 'sans-serif'\n",
    "_blue = [50.0 / 256.0, 117.0 / 256.0, 220.0 / 256.0]\n",
    "_gray = [33.0 / 256.0, 36.0 / 256.0, 50.0 / 256.0]\n",
    "\n",
    "logger = logging.getLogger(\"accuracy_comp\")\n",
    "\n",
    "logger.info(\"Started\")"
   ]
  },
  {
   "cell_type": "markdown",
   "metadata": {},
   "source": [
    "# Define methods\n",
    "\n",
    "Methods considered:\n",
    " * **AUC** = Area under the ROC curve\n",
    " * **ranked_accuracy** = sort the residues according to their relevance and seek the bandgap. Score the True positives above the bandgap\n",
    " * **ignoring irrelevant** = $\\sum_{x} / \\sum_{\\phi} $ where $x$ = relevance of truly relevant atoms and $\\phi$ = relevance of all atoms\n",
    " * **MSE accuracy** = Based on the normalized Mean squared error (MSE) $1-\\frac{|\\bar{x}-\\bar{\\phi}|^2}{|\\bar{x}|^2+|\\bar{\\phi}|^2}$ where $\\bar{\\phi}$ is the measured importance and $\\bar{x}$ is the true importance"
   ]
  },
  {
   "cell_type": "code",
   "execution_count": 2,
   "metadata": {},
   "outputs": [
    {
     "name": "stdout",
     "output_type": "stream",
     "text": [
      "2019-05-23 14:11:49 accuracy_comp-DEBUG: Done\n"
     ]
    }
   ],
   "source": [
    "def compute_AUC(relevant_residues, importance):\n",
    "    \"\"\"\n",
    "    Computes area under ROC\n",
    "    \"\"\"\n",
    "\n",
    "    auc = 0\n",
    "    nresidues = importance.shape[0]\n",
    "    actives = np.chararray(nresidues)\n",
    "    actives[:] = 'd'\n",
    "    ind_a = relevant_residues\n",
    "    actives[ind_a] = 'a'\n",
    "\n",
    "    actives_len = len(ind_a)\n",
    "    decoys_len = nresidues - actives_len\n",
    "\n",
    "    ind_scores_sorted = np.argsort(-importance)\n",
    "    actives_sorted = actives[ind_scores_sorted]\n",
    "\n",
    "    tp = 0\n",
    "    fp = 0\n",
    "    tp_rate = []\n",
    "    fp_rate = []\n",
    "    for j in actives_sorted:\n",
    "        if j == 'a':\n",
    "            tp += 1\n",
    "        else:\n",
    "            fp += 1\n",
    "        tp_rate.append(float(tp) / float(actives_len))\n",
    "        fp_rate.append(float(fp) / float(decoys_len))\n",
    "\n",
    "    for j in range(len(fp_rate) - 1):\n",
    "        auc += (fp_rate[j + 1] - fp_rate[j]) * (tp_rate[j + 1] + tp_rate[j]) / 2\n",
    "\n",
    "    return auc\n",
    "\n",
    "\n",
    "def compute_ranked_accuracy(relevant_residues, importance):\n",
    "    \"\"\"\n",
    "    Computes ( TP + TN )/( P + N )\n",
    "    \"\"\"\n",
    "    nresidues = importance.shape[0]\n",
    "\n",
    "    importance_SORTED = -np.sort(-importance)\n",
    "    importance_SORTED_ind = np.argsort(-importance)\n",
    "\n",
    "    difference = []\n",
    "    for j in range(nresidues - 1):\n",
    "        difference.append(importance_SORTED[j] - importance_SORTED[j + 1])\n",
    "    difference_max = max(difference)\n",
    "    difference_max_index = difference.index(difference_max)\n",
    "\n",
    "    POSITIVE = importance_SORTED_ind[0:difference_max_index + 1]\n",
    "    NEGATIVE = importance_SORTED_ind[difference_max_index + 1:]\n",
    "\n",
    "    ind_a = relevant_residues\n",
    "\n",
    "    TP = len(list(set(POSITIVE) & set(ind_a)))\n",
    "    # FP = len(POSITIVE) - TP\n",
    "\n",
    "    ind_d = [j for j in np.arange(0, nresidues, 1) if j not in ind_a]\n",
    "    TN = len(list(set(NEGATIVE) & set(ind_d)))\n",
    "    # FN = len(NEGATIVE) - TN\n",
    "\n",
    "    accuracy = (TP + TN) / nresidues\n",
    "\n",
    "    return accuracy\n",
    "\n",
    "def compute_relevant_fraction(relevant_residues, importance):\n",
    "    return importance[relevant_residues].sum()/importance.sum()\n",
    "\n",
    "def compute_mse_accuracy(relevant_residues, importance):\n",
    "    true_importance = np.zeros(importance.shape)\n",
    "    #The code is written to handle weighted true importance (i.e. when not all residues are equally relevant as well)\n",
    "    true_importance[relevant_residues] = 1\n",
    "    norm = np.linalg.norm(importance - true_importance)\n",
    "    return 1 - norm**2 / (np.linalg.norm(true_importance)**2 + np.linalg.norm(importance)**2)\n",
    "\n",
    "def compute_accuracy(relevant_residues, importance, method):\n",
    "    if method == 'ranked_accuray':\n",
    "        return compute_ranked_accuracy(relevant_residues, importance)\n",
    "    elif method == 'auc':\n",
    "        return compute_AUC(relevant_residues, importance)\n",
    "    elif method == 'ignoring irrelevant':\n",
    "        return compute_relevant_fraction(relevant_residues, importance)\n",
    "    elif method == 'finding all':\n",
    "        return compute_mse_accuracy(relevant_residues, importance)\n",
    "    else:\n",
    "        raise Exception(\"Unknown method {}\".format(method))\n",
    "        \n",
    "logger.debug(\"Done\")"
   ]
  },
  {
   "cell_type": "markdown",
   "metadata": {},
   "source": [
    "# Construct artifical importance profiles"
   ]
  },
  {
   "cell_type": "code",
   "execution_count": 23,
   "metadata": {},
   "outputs": [
    {
     "name": "stdout",
     "output_type": "stream",
     "text": [
      "2019-05-23 14:26:05 accuracy_comp-DEBUG: Done\n"
     ]
    }
   ],
   "source": [
    "class ImportanceProfile(object):\n",
    "    \"\"\"\n",
    "    Container class for importance and true values\n",
    "    \"\"\"\n",
    "    def __init__(self, importance, relevant_residues, name):\n",
    "        self.importance = importance\n",
    "        self.relevant_residues = relevant_residues\n",
    "        self.name = name\n",
    "        self.methods = [\n",
    "                #'auc', 'ranked_accuray',\n",
    "                'finding all',\n",
    "                'ignoring irrelevant'\n",
    "                       ]\n",
    "        self.accuracy = None\n",
    "        \n",
    "        \n",
    "    def compute_accuracy(self):\n",
    "        accuracy = []\n",
    "        for method in self.methods:\n",
    "            a = compute_accuracy(self.relevant_residues, self.importance, method)\n",
    "            accuracy.append(abs(a))\n",
    "        self.accuracy = np.array(accuracy)\n",
    "        return self\n",
    "    \n",
    "    def plot(self, ax):\n",
    "        ax.plot(self.importance, color='black')\n",
    "        accuracy_text = \"; \".join(\"{}: {:.2f}\".format(self.methods[i], self.accuracy[i]) for i in range(len(self.accuracy)))\n",
    "        for h in self.relevant_residues:\n",
    "            ax.axvline(h, linestyle='--', color=_blue, linewidth=2)\n",
    "        ax.set_title(\"{}\\n({})\".format(self.name,accuracy_text))\n",
    "        #plt.suptitle(accuracy_text,x=0.2, y=0, horizontalalignment='left')\n",
    "        ax.set_xlabel(\"Residue #\")\n",
    "        ax.set_ylabel(\"Importance\")\n",
    "        return self\n",
    "\n",
    "\n",
    "def skew(importance, relevant_residues):\n",
    "    for i,r in enumerate(relevant_residues):\n",
    "        importance[r] /=(i+1)\n",
    "    return importance\n",
    "\n",
    "def noisify(importance, strength):\n",
    "    noise = np.random.rand(*importance.shape)*strength\n",
    "    importance = importance + noise\n",
    "    importance /= importance.max() #normalize\n",
    "    return importance\n",
    "\n",
    "def create_profiles():\n",
    "    nresidues = 50\n",
    "    relevant_residues = [10, 20, 30, 40]\n",
    "    perfect_importance = np.zeros(nresidues)\n",
    "    perfect_importance[relevant_residues] = 1\n",
    "\n",
    "    #Perfect is what it is -> should give a score of 1\n",
    "    perfect = ImportanceProfile(perfect_importance.copy(), relevant_residues, \"Perfect\")\n",
    "\n",
    "    #perfect skewed has no noise but difference importance per residue\n",
    "    perfect_skewed = ImportanceProfile(skew(perfect_importance.copy(), relevant_residues), relevant_residues, \"Perfect skewed\")\n",
    "\n",
    "    #Good has some noise to unimportant residues\n",
    "    good_importance = noisify(perfect_importance, 0.25)\n",
    "    good = ImportanceProfile(good_importance.copy(), relevant_residues, \"Good\")\n",
    "\n",
    "    #Good_skewed \n",
    "    good_skewed = ImportanceProfile(skew(good_importance.copy(), relevant_residues), relevant_residues, \"Good skewed\")\n",
    "\n",
    "    #Noisy\n",
    "    #noisy_importance = noisify(perfect_importance, 0.99)\n",
    "    #noisy = ImportanceProfile(noisy_importance.copy(), relevant_residues, \"Noisy\")\n",
    "    #noisy_skewed = ImportanceProfile(skew(noisy_importance.copy(), relevant_residues), relevant_residues, \"Noisy skewed\")\n",
    "\n",
    "    #Nonsense\n",
    "    nonsense = ImportanceProfile(noisify(np.zeros(nresidues), 1), relevant_residues, \"Random\")\n",
    "    \n",
    "    #Inverted\n",
    "    inverted = ImportanceProfile(1 - perfect_importance, relevant_residues, \"Inverted\")\n",
    "    \n",
    "    profiles = [perfect, \n",
    "                perfect_skewed, \n",
    "                good, \n",
    "                good_skewed, \n",
    "                #noisy, \n",
    "                #noisy_skewed, \n",
    "                nonsense, \n",
    "                inverted]\n",
    "    \n",
    "    return profiles\n",
    "logger.debug(\"Done\")"
   ]
  },
  {
   "cell_type": "markdown",
   "metadata": {},
   "source": [
    "# Compare accuracy scores for measured vs actual relevance profile"
   ]
  },
  {
   "cell_type": "code",
   "execution_count": 24,
   "metadata": {
    "scrolled": false
   },
   "outputs": [
    {
     "name": "stdout",
     "output_type": "stream",
     "text": [
      "2019-05-23 14:26:07 accuracy_comp-DEBUG: Done\n"
     ]
    },
    {
     "data": {
      "text/plain": [
       "<Figure size 950.4x432 with 0 Axes>"
      ]
     },
     "metadata": {},
     "output_type": "display_data"
    }
   ],
   "source": [
    "profiles = create_profiles()\n",
    "fig, axs = plt.subplots(2,3, sharex=True, sharey=True, figsize=(3*4.4,2*3))\n",
    "for idx, ax in enumerate(axs.flatten()):\n",
    "    p = profiles[idx]\n",
    "    accuracy = p.compute_accuracy()\n",
    "    p.plot(ax)\n",
    "#     logger.info(\"\\n\\t-------%s-------------\\n\\n\\t%s\\n\", \n",
    "#                 p.name, \n",
    "#                 \"\\n\\t\".join([\"{:.2f}:\\t({})\".format(a, m) for m,a in accuracy])\n",
    "#                )    \n",
    "fig.savefig(\"../output/accuracy_scores_comparison.svg\")\n",
    "plt.clf()\n",
    "logger.debug(\"Done\")"
   ]
  },
  {
   "cell_type": "markdown",
   "metadata": {},
   "source": [
    "## Get som statistics\n",
    "\n",
    "Average this over several runs of random values"
   ]
  },
  {
   "cell_type": "code",
   "execution_count": 31,
   "metadata": {},
   "outputs": [
    {
     "name": "stdout",
     "output_type": "stream",
     "text": [
      "2019-05-23 14:31:34 accuracy_comp-INFO: \n",
      "\t-------Perfect-------------\n",
      "\n",
      "\t1.00 +- 0.00:\t(finding all)\n",
      "\t1.00 +- 0.00:\t(ignoring irrelevant)\n",
      "\n",
      "2019-05-23 14:31:34 accuracy_comp-INFO: \n",
      "\t-------Perfect skewed-------------\n",
      "\n",
      "\t0.77 +- 0.00:\t(finding all)\n",
      "\t1.00 +- 0.00:\t(ignoring irrelevant)\n",
      "\n",
      "2019-05-23 14:31:34 accuracy_comp-INFO: \n",
      "\t-------Good-------------\n",
      "\n",
      "\t0.92 +- 0.01:\t(finding all)\n",
      "\t0.44 +- 0.02:\t(ignoring irrelevant)\n",
      "\n",
      "2019-05-23 14:31:34 accuracy_comp-INFO: \n",
      "\t-------Good skewed-------------\n",
      "\n",
      "\t0.66 +- 0.01:\t(finding all)\n",
      "\t0.29 +- 0.02:\t(ignoring irrelevant)\n",
      "\n",
      "2019-05-23 14:31:34 accuracy_comp-INFO: \n",
      "\t-------Random-------------\n",
      "\n",
      "\t0.17 +- 0.06:\t(finding all)\n",
      "\t0.07 +- 0.02:\t(ignoring irrelevant)\n",
      "\n",
      "2019-05-23 14:31:34 accuracy_comp-INFO: \n",
      "\t-------Inverted-------------\n",
      "\n",
      "\t0.00 +- 0.00:\t(finding all)\n",
      "\t0.00 +- 0.00:\t(ignoring irrelevant)\n",
      "\n",
      "2019-05-23 14:31:34 accuracy_comp-DEBUG: Done with 20 iterations\n"
     ]
    }
   ],
   "source": [
    "niterations = 20\n",
    "results = []\n",
    "for i in range(niterations):\n",
    "    profiles = create_profiles()\n",
    "    for j, p in enumerate(profiles):\n",
    "        p.compute_accuracy()\n",
    "        #averaging code written when we kept data in a different way - TODO make it more comprehensible\n",
    "        if i == 0:\n",
    "            acc = [(p.methods[idx], [p.accuracy[idx]]) for idx in range(len(p.methods))]\n",
    "            results.append((p.name, acc))\n",
    "        else:\n",
    "            old_accuracy = results[j][1]\n",
    "            for k in range(len(p.accuracy)):\n",
    "                old_accuracy[k][1].append(p.accuracy[k])\n",
    "        \n",
    "text = \"\"\n",
    "for name, accuracy  in results:\n",
    "    logger.info(\"\\n\\t-------%s-------------\\n\\n\\t%s\\n\", \n",
    "                name, \n",
    "                \"\\n\\t\".join([\"{:.2f} +- {:.2f}:\\t({})\".format(np.mean(a), np.std(a), m) for m,a in accuracy])\n",
    "                )    \n",
    "logger.debug(\"Done with %s iterations\", niterations)"
   ]
  },
  {
   "cell_type": "code",
   "execution_count": null,
   "metadata": {},
   "outputs": [],
   "source": []
  }
 ],
 "metadata": {
  "kernelspec": {
   "display_name": "Python 2",
   "language": "python",
   "name": "python2"
  },
  "language_info": {
   "codemirror_mode": {
    "name": "ipython",
    "version": 2
   },
   "file_extension": ".py",
   "mimetype": "text/x-python",
   "name": "python",
   "nbconvert_exporter": "python",
   "pygments_lexer": "ipython2",
   "version": "2.7.15"
  },
  "toc": {
   "base_numbering": 1,
   "nav_menu": {},
   "number_sections": true,
   "sideBar": true,
   "skip_h1_title": false,
   "title_cell": "Table of Contents",
   "title_sidebar": "Contents",
   "toc_cell": false,
   "toc_position": {
    "height": "calc(100% - 180px)",
    "left": "10px",
    "top": "150px",
    "width": "512px"
   },
   "toc_section_display": true,
   "toc_window_display": true
  }
 },
 "nbformat": 4,
 "nbformat_minor": 2
}
