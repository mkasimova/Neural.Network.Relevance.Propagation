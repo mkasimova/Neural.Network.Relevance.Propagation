{
 "cells": [
  {
   "cell_type": "markdown",
   "metadata": {},
   "source": [
    "# Init"
   ]
  },
  {
   "cell_type": "code",
   "execution_count": 1,
   "metadata": {
    "ExecuteTime": {
     "end_time": "2018-11-01T08:39:35.988653Z",
     "start_time": "2018-11-01T08:39:35.558329Z"
    }
   },
   "outputs": [],
   "source": [
    "from __future__ import absolute_import, division, print_function\n",
    "\n",
    "import logging\n",
    "import sys\n",
    "\n",
    "logging.basicConfig(\n",
    "    stream=sys.stdout,\n",
    "    level=logging.DEBUG,\n",
    "    format='%(asctime)s %(name)s-%(levelname)s: %(message)s',\n",
    "    datefmt='%Y-%m-%d %H:%M:%S')\n",
    "import os\n",
    "import numpy as np\n",
    "from modules import utils, feature_extraction as fe, postprocessing, visualization\n",
    "import matplotlib.pyplot as plt\n",
    "\n",
    "logger = logging.getLogger(\"beta2\")\n"
   ]
  },
  {
   "cell_type": "markdown",
   "metadata": {},
   "source": [
    "## Load data \n",
    "\n",
    "Data should be in an appropriate format and filtered before when we load it here. It does not have to be scaled. "
   ]
  },
  {
   "cell_type": "code",
   "execution_count": 14,
   "metadata": {
    "ExecuteTime": {
     "end_time": "2018-11-01T15:34:35.680926Z",
     "start_time": "2018-11-01T15:34:32.414298Z"
    }
   },
   "outputs": [
    {
     "name": "stdout",
     "output_type": "stream",
     "text": [
      "2018-11-01 16:34:35 beta2-INFO: Loaded data of shape (857, 39903) and 3 clusters\n"
     ]
    }
   ],
   "source": [
    "feature_type = \"contacts_5_cutoff\" # \"contacts_5_cutoff\" or \"CA_inv\"\n",
    "working_dir = os.path.expanduser(\"~/projects/gpcr/mega/Result_Data/beta2-dror/clustering/{}/\".format(feature_type))\n",
    "raw_data = np.load(working_dir + \"samples.npy\")\n",
    "scale_data = True\n",
    "cluster_indices = np.loadtxt(working_dir + 'cluster_indices_.txt')\n",
    "data = utils.vectorize(raw_data)  # Our training data to classifiers\n",
    "labels = utils.create_class_labels(cluster_indices)  #Our training labels to classifiers\n",
    "feature_to_resids = np.load(\n",
    "    working_dir + \"feature_to_resids.npy\")  #Mapping from residue Id to the index of that residue in the data (for proteins with missing residues)\n",
    "if len(data) != len(labels) or data.shape[1] != len(feature_to_resids):\n",
    "    raise Exception()\n",
    "logger.info(\"Loaded data of shape %s and %s clusters\", data.shape, len(set(cluster_indices)))\n"
   ]
  },
  {
   "cell_type": "markdown",
   "metadata": {},
   "source": [
    "## Define the different methods to use\n",
    "\n",
    "Every method is encapsulated in a so called FeatureExtractor class which all follow the same interface"
   ]
  },
  {
   "cell_type": "code",
   "execution_count": 15,
   "metadata": {
    "ExecuteTime": {
     "end_time": "2018-11-01T15:34:35.736008Z",
     "start_time": "2018-11-01T15:34:35.730758Z"
    }
   },
   "outputs": [
    {
     "name": "stdout",
     "output_type": "stream",
     "text": [
      "2018-11-01 16:34:35 beta2-INFO: Done. using 5 feature extractors\n"
     ]
    }
   ],
   "source": [
    "n_iterations, n_splits = 4, 4\n",
    "feature_extractors = [\n",
    "    fe.MlpFeatureExtractor(data, labels, n_splits=n_splits, n_iterations=n_iterations, hidden_layer_sizes=(100, 50, 25)),\n",
    "    fe.ElmFeatureExtractor(data, labels, n_splits=n_splits, n_iterations=n_iterations),\n",
    "    fe.KLFeatureExtractor(data, labels, n_splits=n_splits),\n",
    "    fe.PCAFeatureExtractor(data, labels, n_splits=n_splits),\n",
    "    fe.RandomForestFeatureExtractor(data, labels, n_splits=n_splits, n_iterations=n_iterations),\n",
    "]\n",
    "logger.info(\"Done. using %s feature extractors\", len(feature_extractors))\n"
   ]
  },
  {
   "cell_type": "markdown",
   "metadata": {},
   "source": [
    "# Run the relevance analysis"
   ]
  },
  {
   "cell_type": "code",
   "execution_count": 16,
   "metadata": {
    "ExecuteTime": {
     "end_time": "2018-11-01T15:44:40.827422Z",
     "start_time": "2018-11-01T15:34:35.780138Z"
    },
    "scrolled": true
   },
   "outputs": [
    {
     "name": "stdout",
     "output_type": "stream",
     "text": [
      "2018-11-01 16:34:35 beta2-INFO: Computing relevance for extractors MLP\n",
      "2018-11-01 16:34:39 Extracting feature-DEBUG: Iteration 1 of 16\n",
      "2018-11-01 16:35:00 Extracting feature-DEBUG: Error: 62.9457364341\n",
      "2018-11-01 16:35:00 Extracting feature-WARNING: Error too high - not computing feature importance.\n",
      "2018-11-01 16:35:00 Extracting feature-DEBUG: Iteration 2 of 16\n",
      "2018-11-01 16:35:20 Extracting feature-DEBUG: Error: 62.9457364341\n",
      "2018-11-01 16:35:20 Extracting feature-WARNING: Error too high - not computing feature importance.\n",
      "2018-11-01 16:35:20 Extracting feature-DEBUG: Iteration 3 of 16\n",
      "2018-11-01 16:35:43 Extracting feature-DEBUG: Error: 62.9457364341\n",
      "2018-11-01 16:35:43 Extracting feature-WARNING: Error too high - not computing feature importance.\n",
      "2018-11-01 16:35:43 Extracting feature-DEBUG: Iteration 4 of 16\n",
      "2018-11-01 16:35:55 Extracting feature-DEBUG: Error: 62.7906976744\n",
      "2018-11-01 16:35:55 Extracting feature-WARNING: Error too high - not computing feature importance.\n",
      "2018-11-01 16:35:55 Extracting feature-DEBUG: Iteration 5 of 16\n",
      "2018-11-01 16:36:11 Extracting feature-DEBUG: Error: 2.33644859813\n",
      "2018-11-01 16:36:11 Extracting feature-DEBUG: Computing feature importance on all data.\n",
      "2018-11-01 16:36:13 Extracting feature-DEBUG: Iteration 6 of 16\n",
      "2018-11-01 16:36:29 Extracting feature-DEBUG: Error: 2.02492211838\n",
      "2018-11-01 16:36:29 Extracting feature-DEBUG: Computing feature importance on all data.\n",
      "2018-11-01 16:36:31 Extracting feature-DEBUG: Iteration 7 of 16\n",
      "2018-11-01 16:36:53 Extracting feature-DEBUG: Error: 2.18068535826\n",
      "2018-11-01 16:36:53 Extracting feature-DEBUG: Computing feature importance on all data.\n",
      "2018-11-01 16:36:56 Extracting feature-DEBUG: Iteration 8 of 16\n",
      "2018-11-01 16:37:20 Extracting feature-DEBUG: Error: 2.33644859813\n",
      "2018-11-01 16:37:20 Extracting feature-DEBUG: Computing feature importance on all data.\n",
      "2018-11-01 16:37:22 Extracting feature-DEBUG: Iteration 9 of 16\n",
      "2018-11-01 16:37:44 Extracting feature-DEBUG: Error: 0.0\n",
      "2018-11-01 16:37:44 Extracting feature-DEBUG: Computing feature importance on all data.\n",
      "2018-11-01 16:37:45 Extracting feature-DEBUG: Iteration 10 of 16\n",
      "2018-11-01 16:38:13 Extracting feature-DEBUG: Error: 0.0\n",
      "2018-11-01 16:38:13 Extracting feature-DEBUG: Computing feature importance on all data.\n",
      "2018-11-01 16:38:14 Extracting feature-DEBUG: Iteration 11 of 16\n",
      "2018-11-01 16:38:29 Extracting feature-DEBUG: Error: 0.0\n",
      "2018-11-01 16:38:29 Extracting feature-DEBUG: Computing feature importance on all data.\n",
      "2018-11-01 16:38:30 Extracting feature-DEBUG: Iteration 12 of 16\n",
      "2018-11-01 16:38:47 Extracting feature-DEBUG: Error: 0.0\n",
      "2018-11-01 16:38:47 Extracting feature-DEBUG: Computing feature importance on all data.\n",
      "2018-11-01 16:38:49 Extracting feature-DEBUG: Iteration 13 of 16\n",
      "2018-11-01 16:39:08 Extracting feature-DEBUG: Error: 0.0\n",
      "2018-11-01 16:39:08 Extracting feature-DEBUG: Computing feature importance on all data.\n",
      "2018-11-01 16:39:11 Extracting feature-DEBUG: Iteration 14 of 16\n",
      "2018-11-01 16:39:26 Extracting feature-DEBUG: Error: 0.0\n",
      "2018-11-01 16:39:26 Extracting feature-DEBUG: Computing feature importance on all data.\n",
      "2018-11-01 16:39:28 Extracting feature-DEBUG: Iteration 15 of 16\n",
      "2018-11-01 16:39:45 Extracting feature-DEBUG: Error: 0.0\n",
      "2018-11-01 16:39:45 Extracting feature-DEBUG: Computing feature importance on all data.\n",
      "2018-11-01 16:39:46 Extracting feature-DEBUG: Iteration 16 of 16\n",
      "2018-11-01 16:40:02 Extracting feature-DEBUG: Error: 0.0\n",
      "2018-11-01 16:40:02 Extracting feature-DEBUG: Computing feature importance on all data.\n",
      "2018-11-01 16:40:03 beta2-INFO: Computing relevance for extractors ELM\n",
      "2018-11-01 16:40:08 Extracting feature-DEBUG: Iteration 1 of 16\n",
      "2018-11-01 16:40:09 elm-INFO: Automatically settings number of nodes in first layer to 4000\n",
      "2018-11-01 16:40:15 Extracting feature-DEBUG: Error: 40.9302325581\n",
      "2018-11-01 16:40:15 Extracting feature-WARNING: Error too high - not computing feature importance.\n",
      "2018-11-01 16:40:15 Extracting feature-DEBUG: Iteration 2 of 16\n",
      "2018-11-01 16:40:16 elm-INFO: Automatically settings number of nodes in first layer to 4000\n",
      "2018-11-01 16:40:23 Extracting feature-DEBUG: Error: 36.8992248062\n",
      "2018-11-01 16:40:23 Extracting feature-WARNING: Error too high - not computing feature importance.\n",
      "2018-11-01 16:40:23 Extracting feature-DEBUG: Iteration 3 of 16\n",
      "2018-11-01 16:40:24 elm-INFO: Automatically settings number of nodes in first layer to 4000\n",
      "2018-11-01 16:40:36 Extracting feature-DEBUG: Error: 39.6899224806\n",
      "2018-11-01 16:40:36 Extracting feature-WARNING: Error too high - not computing feature importance.\n",
      "2018-11-01 16:40:36 Extracting feature-DEBUG: Iteration 4 of 16\n",
      "2018-11-01 16:40:38 elm-INFO: Automatically settings number of nodes in first layer to 4000\n",
      "2018-11-01 16:40:47 Extracting feature-DEBUG: Error: 36.5891472868\n",
      "2018-11-01 16:40:47 Extracting feature-WARNING: Error too high - not computing feature importance.\n",
      "2018-11-01 16:40:47 Extracting feature-DEBUG: Iteration 5 of 16\n",
      "2018-11-01 16:40:48 elm-INFO: Automatically settings number of nodes in first layer to 4000\n",
      "2018-11-01 16:40:55 Extracting feature-DEBUG: Error: 4.36137071651\n",
      "2018-11-01 16:40:55 Extracting feature-DEBUG: Computing feature importance on all data.\n",
      "2018-11-01 16:41:13 Extracting feature-DEBUG: Iteration 6 of 16\n",
      "2018-11-01 16:41:14 elm-INFO: Automatically settings number of nodes in first layer to 4000\n",
      "2018-11-01 16:41:20 Extracting feature-DEBUG: Error: 4.04984423676\n",
      "2018-11-01 16:41:20 Extracting feature-DEBUG: Computing feature importance on all data.\n",
      "2018-11-01 16:41:38 Extracting feature-DEBUG: Iteration 7 of 16\n",
      "2018-11-01 16:41:40 elm-INFO: Automatically settings number of nodes in first layer to 4000\n",
      "2018-11-01 16:41:46 Extracting feature-DEBUG: Error: 4.04984423676\n",
      "2018-11-01 16:41:46 Extracting feature-DEBUG: Computing feature importance on all data.\n",
      "2018-11-01 16:42:07 Extracting feature-DEBUG: Iteration 8 of 16\n",
      "2018-11-01 16:42:08 elm-INFO: Automatically settings number of nodes in first layer to 4000\n",
      "2018-11-01 16:42:15 Extracting feature-DEBUG: Error: 4.36137071651\n",
      "2018-11-01 16:42:15 Extracting feature-DEBUG: Computing feature importance on all data.\n",
      "2018-11-01 16:42:31 Extracting feature-DEBUG: Iteration 9 of 16\n",
      "2018-11-01 16:42:32 elm-INFO: Automatically settings number of nodes in first layer to 4000\n",
      "2018-11-01 16:42:39 Extracting feature-DEBUG: Error: 15.2647975078\n",
      "2018-11-01 16:42:39 Extracting feature-WARNING: Error too high - not computing feature importance.\n",
      "2018-11-01 16:42:39 Extracting feature-DEBUG: Iteration 10 of 16\n",
      "2018-11-01 16:42:40 elm-INFO: Automatically settings number of nodes in first layer to 4000\n",
      "2018-11-01 16:42:47 Extracting feature-DEBUG: Error: 10.5919003115\n",
      "2018-11-01 16:42:47 Extracting feature-WARNING: Error too high - not computing feature importance.\n",
      "2018-11-01 16:42:47 Extracting feature-DEBUG: Iteration 11 of 16\n",
      "2018-11-01 16:42:48 elm-INFO: Automatically settings number of nodes in first layer to 4000\n",
      "2018-11-01 16:42:54 Extracting feature-DEBUG: Error: 14.953271028\n",
      "2018-11-01 16:42:54 Extracting feature-WARNING: Error too high - not computing feature importance.\n",
      "2018-11-01 16:42:54 Extracting feature-DEBUG: Iteration 12 of 16\n",
      "2018-11-01 16:42:55 elm-INFO: Automatically settings number of nodes in first layer to 4000\n",
      "2018-11-01 16:43:02 Extracting feature-DEBUG: Error: 15.5763239875\n",
      "2018-11-01 16:43:02 Extracting feature-WARNING: Error too high - not computing feature importance.\n",
      "2018-11-01 16:43:02 Extracting feature-DEBUG: Iteration 13 of 16\n",
      "2018-11-01 16:43:03 elm-INFO: Automatically settings number of nodes in first layer to 4000\n",
      "2018-11-01 16:43:10 Extracting feature-DEBUG: Error: 7.47663551402\n",
      "2018-11-01 16:43:10 Extracting feature-WARNING: Error too high - not computing feature importance.\n",
      "2018-11-01 16:43:10 Extracting feature-DEBUG: Iteration 14 of 16\n",
      "2018-11-01 16:43:11 elm-INFO: Automatically settings number of nodes in first layer to 4000\n",
      "2018-11-01 16:43:20 Extracting feature-DEBUG: Error: 7.78816199377\n",
      "2018-11-01 16:43:20 Extracting feature-WARNING: Error too high - not computing feature importance.\n",
      "2018-11-01 16:43:20 Extracting feature-DEBUG: Iteration 15 of 16\n",
      "2018-11-01 16:43:21 elm-INFO: Automatically settings number of nodes in first layer to 4000\n"
     ]
    },
    {
     "name": "stdout",
     "output_type": "stream",
     "text": [
      "2018-11-01 16:43:28 Extracting feature-DEBUG: Error: 7.78816199377\n",
      "2018-11-01 16:43:28 Extracting feature-WARNING: Error too high - not computing feature importance.\n",
      "2018-11-01 16:43:28 Extracting feature-DEBUG: Iteration 16 of 16\n",
      "2018-11-01 16:43:29 elm-INFO: Automatically settings number of nodes in first layer to 4000\n",
      "2018-11-01 16:43:36 Extracting feature-DEBUG: Error: 7.47663551402\n",
      "2018-11-01 16:43:36 Extracting feature-WARNING: Error too high - not computing feature importance.\n",
      "2018-11-01 16:43:36 beta2-INFO: Computing relevance for extractors KL\n",
      "2018-11-01 16:43:40 Extracting feature-DEBUG: Iteration 1 of 4\n",
      "2018-11-01 16:43:43 Extracting feature-DEBUG: Computing feature importance on all data.\n",
      "2018-11-01 16:43:43 Extracting feature-DEBUG: Iteration 2 of 4\n",
      "2018-11-01 16:43:46 Extracting feature-DEBUG: Computing feature importance on all data.\n",
      "2018-11-01 16:43:46 Extracting feature-DEBUG: Iteration 3 of 4\n",
      "2018-11-01 16:43:49 Extracting feature-DEBUG: Computing feature importance on all data.\n",
      "2018-11-01 16:43:49 Extracting feature-DEBUG: Iteration 4 of 4\n",
      "2018-11-01 16:43:52 Extracting feature-DEBUG: Computing feature importance on all data.\n",
      "2018-11-01 16:43:52 beta2-INFO: Computing relevance for extractors PCA\n",
      "2018-11-01 16:43:52 Extracting feature-DEBUG: Iteration 1 of 4\n",
      "2018-11-01 16:43:52 PCA featurizer-INFO: Training PCA\n"
     ]
    },
    {
     "name": "stderr",
     "output_type": "stream",
     "text": [
      "modules/postprocessing.py:187: RuntimeWarning: invalid value encountered in true_divide\n",
      "  relevances[:,i] = (relevances[:,i] - offset)/scale\n"
     ]
    },
    {
     "name": "stdout",
     "output_type": "stream",
     "text": [
      "2018-11-01 16:43:57 Extracting feature-DEBUG: Computing feature importance on all data.\n",
      "2018-11-01 16:43:57 PCA featurizer-INFO: Selecting 156 components\n",
      "2018-11-01 16:43:57 Extracting feature-DEBUG: Iteration 2 of 4\n",
      "2018-11-01 16:43:57 PCA featurizer-INFO: Training PCA\n",
      "2018-11-01 16:44:03 Extracting feature-DEBUG: Computing feature importance on all data.\n",
      "2018-11-01 16:44:03 PCA featurizer-INFO: Selecting 149 components\n",
      "2018-11-01 16:44:03 Extracting feature-DEBUG: Iteration 3 of 4\n",
      "2018-11-01 16:44:03 PCA featurizer-INFO: Training PCA\n",
      "2018-11-01 16:44:10 Extracting feature-DEBUG: Computing feature importance on all data.\n",
      "2018-11-01 16:44:10 PCA featurizer-INFO: Selecting 152 components\n",
      "2018-11-01 16:44:10 Extracting feature-DEBUG: Iteration 4 of 4\n",
      "2018-11-01 16:44:10 PCA featurizer-INFO: Training PCA\n",
      "2018-11-01 16:44:15 Extracting feature-DEBUG: Computing feature importance on all data.\n",
      "2018-11-01 16:44:15 PCA featurizer-INFO: Selecting 149 components\n",
      "2018-11-01 16:44:15 beta2-INFO: Computing relevance for extractors RF\n",
      "2018-11-01 16:44:19 Extracting feature-DEBUG: Iteration 1 of 16\n",
      "2018-11-01 16:44:20 RF featurizer-INFO: Training RF\n",
      "2018-11-01 16:44:20 Extracting feature-DEBUG: Error: 62.9457364341\n",
      "2018-11-01 16:44:20 Extracting feature-WARNING: Error too high - not computing feature importance.\n",
      "2018-11-01 16:44:20 Extracting feature-DEBUG: Iteration 2 of 16\n",
      "2018-11-01 16:44:21 RF featurizer-INFO: Training RF\n",
      "2018-11-01 16:44:22 Extracting feature-DEBUG: Error: 62.9457364341\n",
      "2018-11-01 16:44:22 Extracting feature-WARNING: Error too high - not computing feature importance.\n",
      "2018-11-01 16:44:22 Extracting feature-DEBUG: Iteration 3 of 16\n",
      "2018-11-01 16:44:23 RF featurizer-INFO: Training RF\n",
      "2018-11-01 16:44:23 Extracting feature-DEBUG: Error: 62.9457364341\n",
      "2018-11-01 16:44:23 Extracting feature-WARNING: Error too high - not computing feature importance.\n",
      "2018-11-01 16:44:23 Extracting feature-DEBUG: Iteration 4 of 16\n",
      "2018-11-01 16:44:24 RF featurizer-INFO: Training RF\n",
      "2018-11-01 16:44:24 Extracting feature-DEBUG: Error: 62.9457364341\n",
      "2018-11-01 16:44:24 Extracting feature-WARNING: Error too high - not computing feature importance.\n",
      "2018-11-01 16:44:24 Extracting feature-DEBUG: Iteration 5 of 16\n",
      "2018-11-01 16:44:25 RF featurizer-INFO: Training RF\n",
      "2018-11-01 16:44:25 Extracting feature-DEBUG: Error: 3.11526479751\n",
      "2018-11-01 16:44:25 Extracting feature-DEBUG: Computing feature importance on all data.\n",
      "2018-11-01 16:44:25 Extracting feature-DEBUG: Iteration 6 of 16\n",
      "2018-11-01 16:44:26 RF featurizer-INFO: Training RF\n",
      "2018-11-01 16:44:27 Extracting feature-DEBUG: Error: 2.95950155763\n",
      "2018-11-01 16:44:27 Extracting feature-DEBUG: Computing feature importance on all data.\n",
      "2018-11-01 16:44:27 Extracting feature-DEBUG: Iteration 7 of 16\n",
      "2018-11-01 16:44:28 RF featurizer-INFO: Training RF\n",
      "2018-11-01 16:44:28 Extracting feature-DEBUG: Error: 2.49221183801\n",
      "2018-11-01 16:44:28 Extracting feature-DEBUG: Computing feature importance on all data.\n",
      "2018-11-01 16:44:28 Extracting feature-DEBUG: Iteration 8 of 16\n",
      "2018-11-01 16:44:29 RF featurizer-INFO: Training RF\n",
      "2018-11-01 16:44:29 Extracting feature-DEBUG: Error: 3.27102803738\n",
      "2018-11-01 16:44:29 Extracting feature-DEBUG: Computing feature importance on all data.\n",
      "2018-11-01 16:44:29 Extracting feature-DEBUG: Iteration 9 of 16\n",
      "2018-11-01 16:44:30 RF featurizer-INFO: Training RF\n",
      "2018-11-01 16:44:31 Extracting feature-DEBUG: Error: 0.0\n",
      "2018-11-01 16:44:31 Extracting feature-DEBUG: Computing feature importance on all data.\n",
      "2018-11-01 16:44:31 Extracting feature-DEBUG: Iteration 10 of 16\n",
      "2018-11-01 16:44:32 RF featurizer-INFO: Training RF\n",
      "2018-11-01 16:44:32 Extracting feature-DEBUG: Error: 0.0\n",
      "2018-11-01 16:44:32 Extracting feature-DEBUG: Computing feature importance on all data.\n",
      "2018-11-01 16:44:32 Extracting feature-DEBUG: Iteration 11 of 16\n",
      "2018-11-01 16:44:33 RF featurizer-INFO: Training RF\n",
      "2018-11-01 16:44:33 Extracting feature-DEBUG: Error: 0.0\n",
      "2018-11-01 16:44:33 Extracting feature-DEBUG: Computing feature importance on all data.\n",
      "2018-11-01 16:44:34 Extracting feature-DEBUG: Iteration 12 of 16\n",
      "2018-11-01 16:44:34 RF featurizer-INFO: Training RF\n",
      "2018-11-01 16:44:35 Extracting feature-DEBUG: Error: 0.0\n",
      "2018-11-01 16:44:35 Extracting feature-DEBUG: Computing feature importance on all data.\n",
      "2018-11-01 16:44:35 Extracting feature-DEBUG: Iteration 13 of 16\n",
      "2018-11-01 16:44:36 RF featurizer-INFO: Training RF\n",
      "2018-11-01 16:44:36 Extracting feature-DEBUG: Error: 0.0\n",
      "2018-11-01 16:44:36 Extracting feature-DEBUG: Computing feature importance on all data.\n",
      "2018-11-01 16:44:36 Extracting feature-DEBUG: Iteration 14 of 16\n",
      "2018-11-01 16:44:37 RF featurizer-INFO: Training RF\n",
      "2018-11-01 16:44:37 Extracting feature-DEBUG: Error: 0.0\n",
      "2018-11-01 16:44:37 Extracting feature-DEBUG: Computing feature importance on all data.\n",
      "2018-11-01 16:44:38 Extracting feature-DEBUG: Iteration 15 of 16\n",
      "2018-11-01 16:44:38 RF featurizer-INFO: Training RF\n",
      "2018-11-01 16:44:39 Extracting feature-DEBUG: Error: 0.0\n",
      "2018-11-01 16:44:39 Extracting feature-DEBUG: Computing feature importance on all data.\n",
      "2018-11-01 16:44:39 Extracting feature-DEBUG: Iteration 16 of 16\n",
      "2018-11-01 16:44:40 RF featurizer-INFO: Training RF\n",
      "2018-11-01 16:44:40 Extracting feature-DEBUG: Error: 0.0\n",
      "2018-11-01 16:44:40 Extracting feature-DEBUG: Computing feature importance on all data.\n",
      "2018-11-01 16:44:40 beta2-INFO: Done\n"
     ]
    }
   ],
   "source": [
    "results = []\n",
    "for extractor in feature_extractors:\n",
    "    logger.info(\"Computing relevance for extractors %s\", extractor.name)\n",
    "    feature_importance, std_feature_importance, errors = extractor.extract_features()\n",
    "    #logger.info(\"Get feature_importance and std of shapes %s, %s\", feature_importance.shape, std_feature_importance.shape)\n",
    "    results.append((extractor, feature_importance, std_feature_importance, errors))\n",
    "logger.info(\"Done\")\n"
   ]
  },
  {
   "cell_type": "markdown",
   "metadata": {
    "collapsed": true
   },
   "source": [
    "# Remap and persist results "
   ]
  },
  {
   "cell_type": "code",
   "execution_count": 17,
   "metadata": {
    "ExecuteTime": {
     "end_time": "2018-11-01T15:44:44.881952Z",
     "start_time": "2018-11-01T15:44:40.872240Z"
    },
    "scrolled": true
   },
   "outputs": [
    {
     "name": "stdout",
     "output_type": "stream",
     "text": [
      "2018-11-01 16:44:41 postprocessing-WARNING: importance is None for residues set([130])\n",
      "2018-11-01 16:44:41 postprocessing-WARNING: importance is None for residues set([130])\n",
      "2018-11-01 16:44:41 postprocessing-WARNING: importance is None for residues set([130])\n",
      "2018-11-01 16:44:41 postprocessing-WARNING: importance is None for residues set([130])\n",
      "2018-11-01 16:44:42 postprocessing-WARNING: importance is None for residues set([130])\n",
      "2018-11-01 16:44:42 postprocessing-WARNING: importance is None for residues set([130])\n",
      "2018-11-01 16:44:42 postprocessing-WARNING: importance is None for residues set([130])\n",
      "2018-11-01 16:44:42 postprocessing-WARNING: importance is None for residues set([130])\n",
      "2018-11-01 16:44:43 postprocessing-WARNING: importance is None for residues set([130])\n",
      "2018-11-01 16:44:43 postprocessing-WARNING: importance is None for residues set([130])\n",
      "2018-11-01 16:44:43 postprocessing-WARNING: importance is None for residues set([130])\n",
      "2018-11-01 16:44:43 postprocessing-WARNING: importance is None for residues set([130])\n",
      "2018-11-01 16:44:43 postprocessing-DEBUG: Not possible to compute importance per cluster\n",
      "2018-11-01 16:44:44 postprocessing-WARNING: importance is None for residues set([130])\n",
      "2018-11-01 16:44:44 postprocessing-WARNING: importance is None for residues set([130])\n",
      "2018-11-01 16:44:44 postprocessing-DEBUG: Not possible to compute importance per cluster\n",
      "2018-11-01 16:44:44 postprocessing-WARNING: importance is None for residues set([130])\n",
      "2018-11-01 16:44:44 postprocessing-WARNING: importance is None for residues set([130])\n",
      "2018-11-01 16:44:44 beta2-INFO: Done\n"
     ]
    }
   ],
   "source": [
    "postprocessors = []\n",
    "for (extractor, feature_importance, std_feature_importance, errors) in results:\n",
    "    p = postprocessing.PostProcessor(extractor, feature_importance, std_feature_importance, errors, cluster_indices,\n",
    "                                     working_dir, feature_to_resids=feature_to_resids)\n",
    "    p.average()\n",
    "    p.persist()\n",
    "    postprocessors.append(p)\n",
    "\n",
    "logger.info(\"Done\")\n"
   ]
  },
  {
   "cell_type": "markdown",
   "metadata": {},
   "source": [
    "# Visualize results"
   ]
  },
  {
   "cell_type": "code",
   "execution_count": 19,
   "metadata": {
    "ExecuteTime": {
     "end_time": "2018-11-01T16:47:01.790188Z",
     "start_time": "2018-11-01T16:47:01.078696Z"
    }
   },
   "outputs": [
    {
     "data": {
      "image/png": "[encoded data removed]",
      "text/plain": [
       "<matplotlib.figure.Figure at 0x7f3332bbdc10>"
      ]
     },
     "metadata": {},
     "output_type": "display_data"
    },
    {
     "data": {
      "image/png": "[encoded data removed]",
      "text/plain": [
       "<matplotlib.figure.Figure at 0x7f3332e75f10>"
      ]
     },
     "metadata": {},
     "output_type": "display_data"
    },
    {
     "name": "stdout",
     "output_type": "stream",
     "text": [
      "2018-11-01 17:47:01 beta2-INFO: Done\n"
     ]
    }
   ],
   "source": [
    "visualization.visualize(postprocessors)\n",
    "logger.info(\"Done\")"
   ]
  },
  {
   "cell_type": "code",
   "execution_count": null,
   "metadata": {},
   "outputs": [],
   "source": []
  }
 ],
 "metadata": {
  "kernelspec": {
   "display_name": "Python 2",
   "language": "python",
   "name": "python2"
  },
  "language_info": {
   "codemirror_mode": {
    "name": "ipython",
    "version": 2
   },
   "file_extension": ".py",
   "mimetype": "text/x-python",
   "name": "python",
   "nbconvert_exporter": "python",
   "pygments_lexer": "ipython2",
   "version": "2.7.14"
  },
  "toc": {
   "colors": {
    "hover_highlight": "#DAA520",
    "navigate_num": "#000000",
    "navigate_text": "#333333",
    "running_highlight": "#FF0000",
    "selected_highlight": "#FFD700",
    "sidebar_border": "#EEEEEE",
    "wrapper_background": "#FFFFFF"
   },
   "moveMenuLeft": true,
   "nav_menu": {
    "height": "102px",
    "width": "252px"
   },
   "navigate_menu": true,
   "number_sections": true,
   "sideBar": true,
   "threshold": 4,
   "toc_cell": false,
   "toc_position": {
    "height": "1213px",
    "left": "0px",
    "right": "20px",
    "top": "107px",
    "width": "212px"
   },
   "toc_section_display": "block",
   "toc_window_display": true,
   "widenNotebook": false
  },
  "varInspector": {
   "cols": {
    "lenName": 16,
    "lenType": 16,
    "lenVar": 40
   },
   "kernels_config": {
    "python": {
     "delete_cmd_postfix": "",
     "delete_cmd_prefix": "del ",
     "library": "var_list.py",
     "varRefreshCmd": "print(var_dic_list())"
    },
    "r": {
     "delete_cmd_postfix": ") ",
     "delete_cmd_prefix": "rm(",
     "library": "var_list.r",
     "varRefreshCmd": "cat(var_dic_list()) "
    }
   },
   "types_to_exclude": [
    "module",
    "function",
    "builtin_function_or_method",
    "instance",
    "_Feature"
   ],
   "window_display": false
  }
 },
 "nbformat": 4,
 "nbformat_minor": 2
}
