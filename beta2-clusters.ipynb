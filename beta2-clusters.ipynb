{
 "cells": [
  {
   "cell_type": "markdown",
   "metadata": {},
   "source": [
    "# Init"
   ]
  },
  {
   "cell_type": "code",
   "execution_count": 1,
   "metadata": {
    "ExecuteTime": {
     "end_time": "2018-12-03T17:21:48.283063Z",
     "start_time": "2018-12-03T17:21:44.716589Z"
    }
   },
   "outputs": [],
   "source": [
    "from __future__ import absolute_import, division, print_function\n",
    "\n",
    "import logging\n",
    "import sys\n",
    "\n",
    "logging.basicConfig(\n",
    "    stream=sys.stdout,\n",
    "    level=logging.DEBUG,\n",
    "    format='%(asctime)s %(name)s-%(levelname)s: %(message)s',\n",
    "    datefmt='%Y-%m-%d %H:%M:%S')\n",
    "import os\n",
    "import numpy as np\n",
    "from modules import utils, feature_extraction as fe, postprocessing, visualization\n",
    "from modules.data_generation import DataGenerator\n",
    "from modules import filtering, data_projection as dp\n",
    "import matplotlib.pyplot as plt\n",
    "\n",
    "logger = logging.getLogger(\"beta2\")\n"
   ]
  },
  {
   "cell_type": "markdown",
   "metadata": {},
   "source": [
    "## Load data \n",
    "\n",
    "Data should be in an appropriate format and filtered before when we load it here. It does not have to be scaled. "
   ]
  },
  {
   "cell_type": "code",
   "execution_count": 2,
   "metadata": {
    "ExecuteTime": {
     "end_time": "2018-12-03T17:21:48.989718Z",
     "start_time": "2018-12-03T17:21:48.285209Z"
    }
   },
   "outputs": [
    {
     "name": "stdout",
     "output_type": "stream",
     "text": [
      "2018-12-03 18:21:48 beta2-INFO: Loaded data of shape (857, 40186) and 3 clusters for feature_type CA_inv\n"
     ]
    }
   ],
   "source": [
    "feature_type = \"CA_inv\" # \"contacts_5_cutoff\", \"closest_heavy_inv\" or \"CA_inv\"\n",
    "working_dir = os.path.expanduser(\"~/projects/gpcr/mega/Result_Data/beta2-dror/clustering/{}/\".format(feature_type))\n",
    "raw_data = np.load(working_dir + \"samples.npy\")\n",
    "scale_data = True\n",
    "cluster_indices = np.loadtxt(working_dir + 'cluster_indices_.txt')\n",
    "data = utils.vectorize(raw_data)  # Our training data to classifiers\n",
    "labels = utils.create_class_labels(cluster_indices)  #Our training labels to classifiers\n",
    "feature_to_resids = np.load(\n",
    "    working_dir + \"feature_to_resids.npy\")  #Mapping from residue Id to the index of that residue in the data (for proteins with missing residues)\n",
    "if len(data) != len(labels) or data.shape[1] != len(feature_to_resids):\n",
    "    raise Exception()\n",
    "logger.info(\"Loaded data of shape %s and %s clusters for feature_type %s\", data.shape, len(set(cluster_indices)), feature_type)\n"
   ]
  },
  {
   "cell_type": "markdown",
   "metadata": {},
   "source": [
    "## Define the different methods to use\n",
    "\n",
    "Every method is encapsulated in a so called FeatureExtractor class which all follow the same interface"
   ]
  },
  {
   "cell_type": "code",
   "execution_count": 5,
   "metadata": {
    "ExecuteTime": {
     "end_time": "2018-12-03T17:23:06.260388Z",
     "start_time": "2018-12-03T17:23:06.021515Z"
    }
   },
   "outputs": [
    {
     "name": "stdout",
     "output_type": "stream",
     "text": [
      "2018-12-03 18:23:06 beta2-INFO: Done. using 2 feature extractors\n"
     ]
    }
   ],
   "source": [
    "n_iterations, n_splits = 1, 1\n",
    "rbm_data = np.copy(data)\n",
    "np.random.shuffle(rbm_data)\n",
    "filter_by_distance_cutoff = False\n",
    "feature_extractors = [\n",
    "#      fe.MlpFeatureExtractor(data, cluster_indices, n_splits=n_splits, n_iterations=n_iterations, \n",
    "#                             hidden_layer_sizes=(100,), #, 50, 25),\n",
    "#                             activation=\"relu\",\n",
    "#                             filter_by_distance_cutoff=filter_by_distance_cutof),\n",
    "    #fe.RbmFeatureExtractor(rbm_data, cluster_indices, n_splits=n_splits, n_iterations=n_iterations, \n",
    "    #                       n_components=8,\n",
    "    #                       filter_by_distance_cutoff=filter_by_distance_cutoff),                           \n",
    "     fe.ElmFeatureExtractor(data, cluster_indices, n_splits=n_splits, n_iterations=n_iterations,\n",
    "                            filter_by_distance_cutoff=filter_by_distance_cutoff,\n",
    "                            alpha=1, activation=\"relu\"),\n",
    "#      fe.KLFeatureExtractor(data, cluster_indices, n_splits=n_splits,\n",
    "#                             filter_by_distance_cutoff=filter_by_distance_cutoff),\n",
    "     fe.PCAFeatureExtractor(data, cluster_indices, n_splits=n_splits,\n",
    "                            filter_by_distance_cutoff=filter_by_distance_cutoff),\n",
    "#      fe.RandomForestFeatureExtractor(data, cluster_indices, n_splits=n_splits, n_iterations=n_iterations,\n",
    "#                             filter_by_distance_cutoff=filter_by_distance_cutoff),\n",
    "]\n",
    "logger.info(\"Done. using %s feature extractors\", len(feature_extractors))\n"
   ]
  },
  {
   "cell_type": "markdown",
   "metadata": {},
   "source": [
    "# Run the relevance analysis"
   ]
  },
  {
   "cell_type": "code",
   "execution_count": null,
   "metadata": {
    "ExecuteTime": {
     "start_time": "2018-12-03T17:23:06.835Z"
    },
    "scrolled": false
   },
   "outputs": [
    {
     "name": "stdout",
     "output_type": "stream",
     "text": [
      "2018-12-03 18:23:06 beta2-INFO: Computing relevance for extractors ELM\n",
      "2018-12-03 18:23:06 Extracting features-INFO: Performing feature extraction with ELM on data of shape (857, 40186)\n",
      "2018-12-03 18:23:16 Extracting features-INFO: Using all data in training and validation sets\n"
     ]
    }
   ],
   "source": [
    "results = []\n",
    "for extractor in feature_extractors:\n",
    "    logger.info(\"Computing relevance for extractors %s\", extractor.name)\n",
    "    feature_importance, std_feature_importance, errors = extractor.extract_features()\n",
    "    #logger.info(\"Get feature_importance and std of shapes %s, %s\", feature_importance.shape, std_feature_importance.shape)\n",
    "    results.append((extractor, feature_importance, std_feature_importance, errors))\n",
    "logger.info(\"Done\")\n"
   ]
  },
  {
   "cell_type": "markdown",
   "metadata": {
    "collapsed": true
   },
   "source": [
    "# Remap and persist results "
   ]
  },
  {
   "cell_type": "code",
   "execution_count": null,
   "metadata": {
    "ExecuteTime": {
     "start_time": "2018-12-03T17:23:07.828Z"
    },
    "scrolled": true
   },
   "outputs": [],
   "source": [
    "postprocessors = []\n",
    "for (extractor, feature_importance, std_feature_importance, errors) in results:\n",
    "    p = postprocessing.PostProcessor(extractor, feature_importance, std_feature_importance, errors, cluster_indices,\n",
    "                                     working_dir, \n",
    "                                     pdb_file=working_dir + \"analysis/all_orig.pdb\",\n",
    "                                     feature_to_resids=feature_to_resids, filter_results=True)\n",
    "    p.average()\n",
    "    p.persist()\n",
    "    postprocessors.append(p)\n",
    "\n",
    "logger.info(\"Done\")\n"
   ]
  },
  {
   "cell_type": "markdown",
   "metadata": {},
   "source": [
    "# Visualize results"
   ]
  },
  {
   "cell_type": "code",
   "execution_count": null,
   "metadata": {
    "ExecuteTime": {
     "start_time": "2018-12-03T17:23:08.531Z"
    }
   },
   "outputs": [],
   "source": [
    "data_projectors = []\n",
    "for p in postprocessors:\n",
    "    #p.filter_feature_importance_by_rank(filter_by_rank_cutoff=filter_by_rank_cutoff)\n",
    "    #p.average().persist()\n",
    "    projector = dp.DataProjector(p, data)\n",
    "    projector.project().score_projection()\n",
    "    data_projectors.append([projector])\n",
    "visualization.visualize([[p] for p in postprocessors],data_projectors)\n",
    "logger.info(\"Done. The settings were n_iterations, n_splits = %s, %s.\\nFiltering (filter_by_distance_cutoff, filter_by_DKL, filter_by_KS_test = %s, %s, %s)\", \n",
    "            n_iterations, n_splits, filter_by_distance_cutoff, filter_by_DKL, filter_by_KS_test)"
   ]
  },
  {
   "cell_type": "code",
   "execution_count": null,
   "metadata": {},
   "outputs": [],
   "source": []
  },
  {
   "cell_type": "code",
   "execution_count": null,
   "metadata": {},
   "outputs": [],
   "source": []
  }
 ],
 "metadata": {
  "kernelspec": {
   "display_name": "Python 2",
   "language": "python",
   "name": "python2"
  },
  "language_info": {
   "codemirror_mode": {
    "name": "ipython",
    "version": 2
   },
   "file_extension": ".py",
   "mimetype": "text/x-python",
   "name": "python",
   "nbconvert_exporter": "python",
   "pygments_lexer": "ipython2",
   "version": "2.7.14"
  },
  "toc": {
   "base_numbering": 1,
   "colors": {
    "hover_highlight": "#DAA520",
    "navigate_num": "#000000",
    "navigate_text": "#333333",
    "running_highlight": "#FF0000",
    "selected_highlight": "#FFD700",
    "sidebar_border": "#EEEEEE",
    "wrapper_background": "#FFFFFF"
   },
   "moveMenuLeft": true,
   "nav_menu": {
    "height": "102px",
    "width": "252px"
   },
   "navigate_menu": true,
   "number_sections": true,
   "sideBar": true,
   "skip_h1_title": false,
   "threshold": 4,
   "title_cell": "Table of Contents",
   "title_sidebar": "Contents",
   "toc_cell": false,
   "toc_position": {
    "height": "1142px",
    "left": "0px",
    "right": "20px",
    "top": "107px",
    "width": "212px"
   },
   "toc_section_display": "block",
   "toc_window_display": true,
   "widenNotebook": false
  },
  "varInspector": {
   "cols": {
    "lenName": 16,
    "lenType": 16,
    "lenVar": 40
   },
   "kernels_config": {
    "python": {
     "delete_cmd_postfix": "",
     "delete_cmd_prefix": "del ",
     "library": "var_list.py",
     "varRefreshCmd": "print(var_dic_list())"
    },
    "r": {
     "delete_cmd_postfix": ") ",
     "delete_cmd_prefix": "rm(",
     "library": "var_list.r",
     "varRefreshCmd": "cat(var_dic_list()) "
    }
   },
   "types_to_exclude": [
    "module",
    "function",
    "builtin_function_or_method",
    "instance",
    "_Feature"
   ],
   "window_display": false
  }
 },
 "nbformat": 4,
 "nbformat_minor": 2
}
