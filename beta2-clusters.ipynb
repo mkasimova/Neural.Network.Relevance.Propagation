{
 "cells": [
  {
   "cell_type": "markdown",
   "metadata": {},
   "source": [
    "# Init"
   ]
  },
  {
   "cell_type": "code",
   "execution_count": 1,
   "metadata": {
    "ExecuteTime": {
     "end_time": "2018-10-29T15:53:00.229012Z",
     "start_time": "2018-10-29T15:52:59.788773Z"
    }
   },
   "outputs": [],
   "source": [
    "from __future__ import absolute_import, division, print_function\n",
    "\n",
    "import logging\n",
    "import sys\n",
    "logging.basicConfig(\n",
    "    stream=sys.stdout,\n",
    "    level=logging.DEBUG,\n",
    "    format='%(asctime)s %(name)s-%(levelname)s: %(message)s',\n",
    "    datefmt='%Y-%m-%d %H:%M:%S')\n",
    "import os\n",
    "import numpy as np\n",
    "from modules import utils, feature_extraction as fe, postprocessing\n",
    "import matplotlib.pyplot as plt\n",
    "\n",
    "logger = logging.getLogger(\"beta2\")"
   ]
  },
  {
   "cell_type": "markdown",
   "metadata": {},
   "source": [
    "## Load data \n",
    "\n",
    "Data should be in an appropriate format and filtered before when we load it here. It does not have to be scaled. "
   ]
  },
  {
   "cell_type": "code",
   "execution_count": 2,
   "metadata": {
    "ExecuteTime": {
     "end_time": "2018-10-29T15:53:00.726710Z",
     "start_time": "2018-10-29T15:53:00.230492Z"
    }
   },
   "outputs": [
    {
     "name": "stdout",
     "output_type": "stream",
     "text": [
      "2018-10-29 16:53:00 beta2-INFO: Loaded data of shape (857, 40186) and 3 clusters\n"
     ]
    }
   ],
   "source": [
    "working_dir = os.path.expanduser(\"~/projects/gpcr/mega/Result_Data/beta2-dror/clustering/\")\n",
    "raw_data = np.load(working_dir + \"frame_distances_CA_inv.npy\")\n",
    "scale_data = True\n",
    "#data = np.load(home_dir + \"training_samples_CA_inv.npy\")\n",
    "cluster_indices = np.loadtxt(working_dir + 'cluster_indices_.txt')\n",
    "data = utils.vectorize(raw_data) # Our training data to classifiers\n",
    "labels = utils.create_class_labels(cluster_indices)  #Our training labels to classifiers\n",
    "index_to_residue_mapping = None #Mapping from residue Id to the index of that residue in the data (for proteins with missing residues)\n",
    "logger.info(\"Loaded data of shape %s and %s clusters\", data.shape, len(set(cluster_indices)))"
   ]
  },
  {
   "cell_type": "markdown",
   "metadata": {},
   "source": [
    "## Define the different methods to use\n",
    "\n",
    "Every method is encapsulated in a so called FeatureExtractor class which all follow the same interface"
   ]
  },
  {
   "cell_type": "code",
   "execution_count": 7,
   "metadata": {
    "ExecuteTime": {
     "end_time": "2018-10-29T15:53:30.746968Z",
     "start_time": "2018-10-29T15:53:30.731217Z"
    }
   },
   "outputs": [
    {
     "name": "stdout",
     "output_type": "stream",
     "text": [
      "2018-10-29 16:53:30 beta2-INFO: Done. using 1 feature extractors\n"
     ]
    }
   ],
   "source": [
    "n_iterations, n_splits = 1, 4\n",
    "feature_extractors = [\n",
    "    fe.MlpFeatureExtractor(data, labels, n_splits=n_splits, n_iterations=n_iterations),\n",
    "    #fe.ElmFeatureExtractor(data, labels, n_splits=n_splits, n_iterations=n_iterations),\n",
    "    fe.KLFeatureExtractor(data, labels, n_splits=n_splits, n_iterations=n_iterations),\n",
    "    #fe.PCA_feature_extract(data, labels, n_splits=n_splits, n_iterations=n_iterations),\n",
    "    #fe.RF_feature_extract(data, labels, n_splits=n_splits, n_iterations=n_iterations),\n",
    "]\n",
    "logger.info(\"Done. using %s feature extractors\", len(feature_extractors))"
   ]
  },
  {
   "cell_type": "markdown",
   "metadata": {},
   "source": [
    "# Run the relevance analysis"
   ]
  },
  {
   "cell_type": "code",
   "execution_count": null,
   "metadata": {
    "ExecuteTime": {
     "start_time": "2018-10-29T15:53:31.524Z"
    },
    "scrolled": true
   },
   "outputs": [
    {
     "name": "stdout",
     "output_type": "stream",
     "text": [
      "2018-10-29 16:53:31 beta2-INFO: Computing relevance for extractors KL\n",
      "2018-10-29 16:53:31 Extracting feature-DEBUG: Iteration 1 of 2\n",
      "2018-10-29 16:53:35 Extracting feature-DEBUG: Computing feature importance on all data.\n"
     ]
    }
   ],
   "source": [
    "results = []\n",
    "for extractor in feature_extractors:\n",
    "    logger.info(\"Computing relevance for extractors %s\", extractor.name)\n",
    "    feature_importance, std_feature_importance, errors = extractor.extract_features()\n",
    "    logger.info(\"Get feature_importance and std of shapes %s, %s\", feature_importance.shape, std_feature_importance.shape)\n",
    "    results.append((extractor, feature_importance, std_feature_importance))\n",
    "logger.info(\"Done\")"
   ]
  },
  {
   "cell_type": "markdown",
   "metadata": {
    "collapsed": true
   },
   "source": [
    "# Remap and persist results "
   ]
  },
  {
   "cell_type": "code",
   "execution_count": null,
   "metadata": {
    "ExecuteTime": {
     "end_time": "2018-10-29T15:53:00.853838Z",
     "start_time": "2018-10-29T15:52:59.789Z"
    },
    "scrolled": true
   },
   "outputs": [],
   "source": [
    "for (extractor, feature_importance, std_feature_importance) in results:\n",
    "    postprocessing.average_and_persist(extractor, feature_importance, std_feature_importance, cluster_indices, working_dir, visualize=True)\n",
    "\n",
    "plt.show()\n",
    "logger.info(\"Done\")"
   ]
  },
  {
   "cell_type": "code",
   "execution_count": null,
   "metadata": {},
   "outputs": [],
   "source": []
  }
 ],
 "metadata": {
  "kernelspec": {
   "display_name": "Python 2",
   "language": "python",
   "name": "python2"
  },
  "language_info": {
   "codemirror_mode": {
    "name": "ipython",
    "version": 2
   },
   "file_extension": ".py",
   "mimetype": "text/x-python",
   "name": "python",
   "nbconvert_exporter": "python",
   "pygments_lexer": "ipython2",
   "version": "2.7.14"
  },
  "toc": {
   "colors": {
    "hover_highlight": "#DAA520",
    "navigate_num": "#000000",
    "navigate_text": "#333333",
    "running_highlight": "#FF0000",
    "selected_highlight": "#FFD700",
    "sidebar_border": "#EEEEEE",
    "wrapper_background": "#FFFFFF"
   },
   "moveMenuLeft": true,
   "nav_menu": {
    "height": "102px",
    "width": "252px"
   },
   "navigate_menu": true,
   "number_sections": true,
   "sideBar": true,
   "threshold": 4,
   "toc_cell": false,
   "toc_position": {
    "height": "1213px",
    "left": "0px",
    "right": "20px",
    "top": "107px",
    "width": "212px"
   },
   "toc_section_display": "block",
   "toc_window_display": true,
   "widenNotebook": false
  },
  "varInspector": {
   "cols": {
    "lenName": 16,
    "lenType": 16,
    "lenVar": 40
   },
   "kernels_config": {
    "python": {
     "delete_cmd_postfix": "",
     "delete_cmd_prefix": "del ",
     "library": "var_list.py",
     "varRefreshCmd": "print(var_dic_list())"
    },
    "r": {
     "delete_cmd_postfix": ") ",
     "delete_cmd_prefix": "rm(",
     "library": "var_list.r",
     "varRefreshCmd": "cat(var_dic_list()) "
    }
   },
   "types_to_exclude": [
    "module",
    "function",
    "builtin_function_or_method",
    "instance",
    "_Feature"
   ],
   "window_display": false
  }
 },
 "nbformat": 4,
 "nbformat_minor": 2
}
