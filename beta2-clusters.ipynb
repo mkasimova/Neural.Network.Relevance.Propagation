{
 "cells": [
  {
   "cell_type": "markdown",
   "metadata": {},
   "source": [
    "# Init"
   ]
  },
  {
   "cell_type": "code",
   "execution_count": 1,
   "metadata": {
    "ExecuteTime": {
     "end_time": "2018-11-05T18:12:40.822234Z",
     "start_time": "2018-11-05T18:12:40.385590Z"
    },
    "collapsed": true
   },
   "outputs": [],
   "source": [
    "from __future__ import absolute_import, division, print_function\n",
    "\n",
    "import logging\n",
    "import sys\n",
    "\n",
    "logging.basicConfig(\n",
    "    stream=sys.stdout,\n",
    "    level=logging.DEBUG,\n",
    "    format='%(asctime)s %(name)s-%(levelname)s: %(message)s',\n",
    "    datefmt='%Y-%m-%d %H:%M:%S')\n",
    "import os\n",
    "import numpy as np\n",
    "from modules import utils, feature_extraction as fe, postprocessing, visualization\n",
    "import matplotlib.pyplot as plt\n",
    "\n",
    "logger = logging.getLogger(\"beta2\")\n"
   ]
  },
  {
   "cell_type": "markdown",
   "metadata": {},
   "source": [
    "## Load data \n",
    "\n",
    "Data should be in an appropriate format and filtered before when we load it here. It does not have to be scaled. "
   ]
  },
  {
   "cell_type": "code",
   "execution_count": 2,
   "metadata": {
    "ExecuteTime": {
     "end_time": "2018-11-05T18:12:41.450319Z",
     "start_time": "2018-11-05T18:12:40.944931Z"
    }
   },
   "outputs": [
    {
     "name": "stdout",
     "output_type": "stream",
     "text": [
      "2018-11-05 19:12:41 beta2-INFO: Loaded data of shape (857, 39903) and 3 clusters\n"
     ]
    }
   ],
   "source": [
    "feature_type = \"contacts_5_cutoff\" # \"contacts_5_cutoff\" or \"CA_inv\"\n",
    "working_dir = os.path.expanduser(\"~/projects/gpcr/mega/Result_Data/beta2-dror/clustering/{}/\".format(feature_type))\n",
    "raw_data = np.load(working_dir + \"samples.npy\")\n",
    "scale_data = True\n",
    "cluster_indices = np.loadtxt(working_dir + 'cluster_indices_.txt')\n",
    "data = utils.vectorize(raw_data)  # Our training data to classifiers\n",
    "labels = utils.create_class_labels(cluster_indices)  #Our training labels to classifiers\n",
    "feature_to_resids = np.load(\n",
    "    working_dir + \"feature_to_resids.npy\")  #Mapping from residue Id to the index of that residue in the data (for proteins with missing residues)\n",
    "if len(data) != len(labels) or data.shape[1] != len(feature_to_resids):\n",
    "    raise Exception()\n",
    "logger.info(\"Loaded data of shape %s and %s clusters\", data.shape, len(set(cluster_indices)))\n"
   ]
  },
  {
   "cell_type": "markdown",
   "metadata": {},
   "source": [
    "## Define the different methods to use\n",
    "\n",
    "Every method is encapsulated in a so called FeatureExtractor class which all follow the same interface"
   ]
  },
  {
   "cell_type": "code",
   "execution_count": 3,
   "metadata": {
    "ExecuteTime": {
     "end_time": "2018-11-05T18:12:42.557839Z",
     "start_time": "2018-11-05T18:12:42.552547Z"
    }
   },
   "outputs": [
    {
     "name": "stdout",
     "output_type": "stream",
     "text": [
      "2018-11-05 19:12:42 beta2-INFO: Done. using 2 feature extractors\n"
     ]
    }
   ],
   "source": [
    "n_iterations, n_splits = 1, 1\n",
    "feature_extractors = [\n",
    "    #fe.MlpFeatureExtractor(data, labels, n_splits=n_splits, n_iterations=n_iterations, hidden_layer_sizes=(100, 50, 25)),\n",
    "    fe.RbmFeatureExtractor(data, labels, n_splits=n_splits, n_iterations=n_iterations, n_components=128),\n",
    "    #fe.ElmFeatureExtractor(data, labels, n_splits=n_splits, n_iterations=n_iterations),\n",
    "    fe.KLFeatureExtractor(data, labels, n_splits=n_splits),\n",
    "    #fe.PCAFeatureExtractor(data, labels, n_splits=n_splits),\n",
    "    #fe.RandomForestFeatureExtractor(data, labels, n_splits=n_splits, n_iterations=n_iterations),\n",
    "]\n",
    "logger.info(\"Done. using %s feature extractors\", len(feature_extractors))\n"
   ]
  },
  {
   "cell_type": "markdown",
   "metadata": {},
   "source": [
    "# Run the relevance analysis"
   ]
  },
  {
   "cell_type": "code",
   "execution_count": null,
   "metadata": {
    "ExecuteTime": {
     "start_time": "2018-11-05T18:13:03.952Z"
    },
    "scrolled": true
   },
   "outputs": [
    {
     "name": "stdout",
     "output_type": "stream",
     "text": [
      "2018-11-05 19:13:03 beta2-INFO: Computing relevance for extractors RB\n",
      "2018-11-05 19:13:03 Extracting feature-INFO: Using all data in training and validation sets\n",
      "2018-11-05 19:13:07 Extracting feature-DEBUG: Iteration 1 of 1\n"
     ]
    }
   ],
   "source": [
    "results = []\n",
    "for extractor in feature_extractors:\n",
    "    logger.info(\"Computing relevance for extractors %s\", extractor.name)\n",
    "    feature_importance, std_feature_importance, errors = extractor.extract_features()\n",
    "    #logger.info(\"Get feature_importance and std of shapes %s, %s\", feature_importance.shape, std_feature_importance.shape)\n",
    "    results.append((extractor, feature_importance, std_feature_importance, errors))\n",
    "logger.info(\"Done\")\n"
   ]
  },
  {
   "cell_type": "markdown",
   "metadata": {
    "collapsed": true
   },
   "source": [
    "# Remap and persist results "
   ]
  },
  {
   "cell_type": "code",
   "execution_count": null,
   "metadata": {
    "ExecuteTime": {
     "start_time": "2018-11-05T17:59:58.957Z"
    },
    "collapsed": true,
    "scrolled": true
   },
   "outputs": [],
   "source": [
    "postprocessors = []\n",
    "for (extractor, feature_importance, std_feature_importance, errors) in results:\n",
    "    p = postprocessing.PostProcessor(extractor, feature_importance, std_feature_importance, errors, cluster_indices,\n",
    "                                     working_dir, feature_to_resids=feature_to_resids)\n",
    "    p.average()\n",
    "    p.persist()\n",
    "    postprocessors.append(p)\n",
    "\n",
    "logger.info(\"Done\")\n"
   ]
  },
  {
   "cell_type": "markdown",
   "metadata": {},
   "source": [
    "# Visualize results"
   ]
  },
  {
   "cell_type": "code",
   "execution_count": null,
   "metadata": {
    "ExecuteTime": {
     "start_time": "2018-11-05T17:59:59.997Z"
    },
    "collapsed": true
   },
   "outputs": [],
   "source": [
    "visualization.visualize(postprocessors)\n",
    "logger.info(\"Done\")"
   ]
  },
  {
   "cell_type": "code",
   "execution_count": null,
   "metadata": {
    "collapsed": true
   },
   "outputs": [],
   "source": []
  }
 ],
 "metadata": {
  "kernelspec": {
   "display_name": "Python 2",
   "language": "python",
   "name": "python2"
  },
  "language_info": {
   "codemirror_mode": {
    "name": "ipython",
    "version": 2
   },
   "file_extension": ".py",
   "mimetype": "text/x-python",
   "name": "python",
   "nbconvert_exporter": "python",
   "pygments_lexer": "ipython2",
   "version": "2.7.13"
  },
  "toc": {
   "base_numbering": 1,
   "nav_menu": {
    "height": "102px",
    "width": "252px"
   },
   "number_sections": true,
   "sideBar": true,
   "skip_h1_title": false,
   "title_cell": "Table of Contents",
   "title_sidebar": "Contents",
   "toc_cell": false,
   "toc_position": {
    "height": "1213px",
    "left": "0px",
    "right": "20px",
    "top": "107px",
    "width": "212px"
   },
   "toc_section_display": "block",
   "toc_window_display": true
  },
  "varInspector": {
   "cols": {
    "lenName": 16,
    "lenType": 16,
    "lenVar": 40
   },
   "kernels_config": {
    "python": {
     "delete_cmd_postfix": "",
     "delete_cmd_prefix": "del ",
     "library": "var_list.py",
     "varRefreshCmd": "print(var_dic_list())"
    },
    "r": {
     "delete_cmd_postfix": ") ",
     "delete_cmd_prefix": "rm(",
     "library": "var_list.r",
     "varRefreshCmd": "cat(var_dic_list()) "
    }
   },
   "types_to_exclude": [
    "module",
    "function",
    "builtin_function_or_method",
    "instance",
    "_Feature"
   ],
   "window_display": false
  }
 },
 "nbformat": 4,
 "nbformat_minor": 2
}
