{
 "cells": [
  {
   "cell_type": "markdown",
   "metadata": {},
   "source": [
    "# Init"
   ]
  },
  {
   "cell_type": "code",
   "execution_count": 2,
   "metadata": {
    "ExecuteTime": {
     "end_time": "2018-11-09T15:06:35.097704Z",
     "start_time": "2018-11-09T15:06:33.912460Z"
    }
   },
   "outputs": [],
   "source": [
    "from __future__ import absolute_import, division, print_function\n",
    "\n",
    "import logging\n",
    "import sys\n",
    "\n",
    "logging.basicConfig(\n",
    "    stream=sys.stdout,\n",
    "    level=logging.DEBUG,\n",
    "    format='%(asctime)s %(name)s-%(levelname)s: %(message)s',\n",
    "    datefmt='%Y-%m-%d %H:%M:%S')\n",
    "import os\n",
    "import numpy as np\n",
    "from modules import utils, feature_extraction as fe, postprocessing, visualization\n",
    "import matplotlib.pyplot as plt\n",
    "\n",
    "logger = logging.getLogger(\"beta2\")\n"
   ]
  },
  {
   "cell_type": "markdown",
   "metadata": {},
   "source": [
    "## Load data \n",
    "\n",
    "Data should be in an appropriate format and filtered before when we load it here. It does not have to be scaled. "
   ]
  },
  {
   "cell_type": "code",
   "execution_count": 3,
   "metadata": {
    "ExecuteTime": {
     "end_time": "2018-11-09T13:06:55.951973Z",
     "start_time": "2018-11-09T13:06:52.606818Z"
    }
   },
   "outputs": [
    {
     "name": "stdout",
     "output_type": "stream",
     "text": [
      "2018-11-09 14:06:55 beta2-INFO: Loaded data of shape (857, 40186) and 3 clusters\n"
     ]
    }
   ],
   "source": [
    "feature_type = \"CA_inv\" # \"contacts_5_cutoff\" or \"CA_inv\"\n",
    "working_dir = os.path.expanduser(\"~/projects/gpcr/mega/Result_Data/beta2-dror/clustering/{}/\".format(feature_type))\n",
    "raw_data = np.load(working_dir + \"samples.npy\")\n",
    "scale_data = True\n",
    "cluster_indices = np.loadtxt(working_dir + 'cluster_indices_.txt')\n",
    "data = utils.vectorize(raw_data)  # Our training data to classifiers\n",
    "labels = utils.create_class_labels(cluster_indices)  #Our training labels to classifiers\n",
    "feature_to_resids = np.load(\n",
    "    working_dir + \"feature_to_resids.npy\")  #Mapping from residue Id to the index of that residue in the data (for proteins with missing residues)\n",
    "if len(data) != len(labels) or data.shape[1] != len(feature_to_resids):\n",
    "    raise Exception()\n",
    "logger.info(\"Loaded data of shape %s and %s clusters\", data.shape, len(set(cluster_indices)))\n"
   ]
  },
  {
   "cell_type": "markdown",
   "metadata": {},
   "source": [
    "## Define the different methods to use\n",
    "\n",
    "Every method is encapsulated in a so called FeatureExtractor class which all follow the same interface"
   ]
  },
  {
   "cell_type": "code",
   "execution_count": 30,
   "metadata": {
    "ExecuteTime": {
     "end_time": "2018-11-09T14:34:06.238549Z",
     "start_time": "2018-11-09T14:34:06.055693Z"
    }
   },
   "outputs": [
    {
     "name": "stdout",
     "output_type": "stream",
     "text": [
      "2018-11-09 15:34:06 beta2-INFO: Done. using 4 feature extractors\n"
     ]
    }
   ],
   "source": [
    "n_iterations, n_splits = 20, 1\n",
    "rbm_data = np.copy(data)\n",
    "np.random.shuffle(rbm_data)\n",
    "filter_by_distance_cutoff, filter_by_DKL, filter_by_KS_test = True, False, False \n",
    "feature_extractors = [\n",
    "    #fe.MlpFeatureExtractor(data, cluster_indices, n_splits=n_splits, n_iterations=n_iterations, hidden_layer_sizes=(100, 50, 25),\n",
    "    #                       filter_by_distance_cutoff=filter_by_distance_cutoff, filter_by_DKL=filter_by_DKL, filter_by_KS_test=filter_by_KS_test),\n",
    "    fe.RbmFeatureExtractor(rbm_data, cluster_indices, n_splits=n_splits, n_iterations=n_iterations, n_components=32,\n",
    "                           filter_by_distance_cutoff=filter_by_distance_cutoff, filter_by_DKL=filter_by_DKL, filter_by_KS_test=filter_by_KS_test),                           \n",
    "    #fe.ElmFeatureExtractor(data, labels, n_splits=n_splits, n_iterations=n_iterations,\n",
    "                           #filter_by_distance_cutoff=filter_by_distance_cutoff, filter_by_DKL=filter_by_DKL, filter_by_KS_test=filter_by_KS_test),\n",
    "    fe.KLFeatureExtractor(data, cluster_indices, n_splits=n_splits,\n",
    "                           filter_by_distance_cutoff=filter_by_distance_cutoff, filter_by_DKL=filter_by_DKL, filter_by_KS_test=filter_by_KS_test),\n",
    "    fe.PCAFeatureExtractor(data, cluster_indices, n_splits=n_splits,\n",
    "                           filter_by_distance_cutoff=filter_by_distance_cutoff, filter_by_DKL=filter_by_DKL, filter_by_KS_test=filter_by_KS_test),\n",
    "    fe.RandomForestFeatureExtractor(data, cluster_indices, n_splits=n_splits, n_iterations=n_iterations,\n",
    "                           filter_by_distance_cutoff=filter_by_distance_cutoff, filter_by_DKL=filter_by_DKL, filter_by_KS_test=filter_by_KS_test),\n",
    "]\n",
    "logger.info(\"Done. using %s feature extractors\", len(feature_extractors))\n"
   ]
  },
  {
   "cell_type": "markdown",
   "metadata": {},
   "source": [
    "# Run the relevance analysis"
   ]
  },
  {
   "cell_type": "code",
   "execution_count": 31,
   "metadata": {
    "ExecuteTime": {
     "end_time": "2018-11-09T14:34:27.518183Z",
     "start_time": "2018-11-09T14:34:06.982806Z"
    },
    "scrolled": true
   },
   "outputs": [
    {
     "name": "stdout",
     "output_type": "stream",
     "text": [
      "2018-11-09 15:34:06 beta2-INFO: Computing relevance for extractors RBM\n",
      "2018-11-09 15:34:06 Extracting features-INFO: Performing feature extraction with RBM on data of shape (857, 40186)\n",
      "2018-11-09 15:34:06 filtering-INFO: Number of features before distance cutoff based filtering is 40186\n",
      "2018-11-09 15:34:07 filtering-INFO: Number of features after distance cutoff based filtering is 523\n",
      "2018-11-09 15:34:07 Extracting features-INFO: Using all data in training and validation sets\n",
      "2018-11-09 15:34:17 Extracting features-INFO: Done with RBM\n",
      "2018-11-09 15:34:17 Extracting features-INFO: ------------------------------\n",
      "2018-11-09 15:34:17 beta2-INFO: Computing relevance for extractors KL\n",
      "2018-11-09 15:34:17 Extracting features-INFO: Performing feature extraction with KL on data of shape (857, 40186)\n",
      "2018-11-09 15:34:17 filtering-INFO: Number of features before distance cutoff based filtering is 40186\n",
      "2018-11-09 15:34:17 filtering-INFO: Number of features after distance cutoff based filtering is 523\n",
      "2018-11-09 15:34:17 Extracting features-INFO: Using all data in training and validation sets\n",
      "2018-11-09 15:34:18 Extracting features-INFO: Done with KL\n",
      "2018-11-09 15:34:18 Extracting features-INFO: ------------------------------\n",
      "2018-11-09 15:34:18 beta2-INFO: Computing relevance for extractors PCA\n",
      "2018-11-09 15:34:18 Extracting features-INFO: Performing feature extraction with PCA on data of shape (857, 40186)\n",
      "2018-11-09 15:34:18 filtering-INFO: Number of features before distance cutoff based filtering is 40186\n",
      "2018-11-09 15:34:18 filtering-INFO: Number of features after distance cutoff based filtering is 523\n",
      "2018-11-09 15:34:18 Extracting features-INFO: Using all data in training and validation sets\n",
      "2018-11-09 15:34:18 PCA featurizer-INFO: Selecting 87 components\n",
      "2018-11-09 15:34:18 Extracting features-INFO: Done with PCA\n",
      "2018-11-09 15:34:18 Extracting features-INFO: ------------------------------\n",
      "2018-11-09 15:34:18 beta2-INFO: Computing relevance for extractors RF\n",
      "2018-11-09 15:34:18 Extracting features-INFO: Performing feature extraction with RF on data of shape (857, 40186)\n",
      "2018-11-09 15:34:18 filtering-INFO: Number of features before distance cutoff based filtering is 40186\n",
      "2018-11-09 15:34:19 filtering-INFO: Number of features after distance cutoff based filtering is 523\n",
      "2018-11-09 15:34:19 Extracting features-INFO: Using all data in training and validation sets\n",
      "2018-11-09 15:34:27 Extracting features-INFO: Done with RF\n",
      "2018-11-09 15:34:27 Extracting features-INFO: ------------------------------\n",
      "2018-11-09 15:34:27 beta2-INFO: Done\n"
     ]
    }
   ],
   "source": [
    "results = []\n",
    "for extractor in feature_extractors:\n",
    "    logger.info(\"Computing relevance for extractors %s\", extractor.name)\n",
    "    feature_importance, std_feature_importance, errors = extractor.extract_features()\n",
    "    #logger.info(\"Get feature_importance and std of shapes %s, %s\", feature_importance.shape, std_feature_importance.shape)\n",
    "    results.append((extractor, feature_importance, std_feature_importance, errors))\n",
    "logger.info(\"Done\")\n"
   ]
  },
  {
   "cell_type": "markdown",
   "metadata": {
    "collapsed": true
   },
   "source": [
    "# Remap and persist results "
   ]
  },
  {
   "cell_type": "code",
   "execution_count": 36,
   "metadata": {
    "ExecuteTime": {
     "end_time": "2018-11-09T14:40:16.252935Z",
     "start_time": "2018-11-09T14:40:11.030342Z"
    },
    "scrolled": true
   },
   "outputs": [
    {
     "name": "stdout",
     "output_type": "stream",
     "text": [
      "2018-11-09 15:40:11 postprocessing-INFO: Rescaling feature importances ...\n",
      "2018-11-09 15:40:11 postprocessing-INFO: Filtering feature importances by sigma 2\n",
      "2018-11-09 15:40:11 postprocessing-INFO: Filtering feature importances by cutoff 0.5\n",
      "2018-11-09 15:40:11 postprocessing-DEBUG: Not possible to compute importance per cluster\n",
      "2018-11-09 15:40:11 postprocessing-INFO: Rescaling feature importances ...\n",
      "2018-11-09 15:40:11 postprocessing-WARNING: importance is None for residues set([1, 2, 228, 6, 8, 265, 13, 15, 17, 18, 21, 22, 9, 345])\n",
      "2018-11-09 15:40:12 postprocessing-WARNING: importance is None for residues set([1, 2, 228, 6, 8, 265, 13, 15, 17, 18, 21, 22, 9, 345])\n",
      "2018-11-09 15:40:12 postprocessing-INFO: Rescaling feature importances ...\n",
      "2018-11-09 15:40:12 postprocessing-INFO: Filtering feature importances by sigma 2\n",
      "2018-11-09 15:40:12 postprocessing-INFO: Filtering feature importances by cutoff 0.5\n",
      "2018-11-09 15:40:12 postprocessing-INFO: Rescaling feature importances ...\n",
      "2018-11-09 15:40:12 postprocessing-WARNING: importance is None for residues set([1, 2, 228, 6, 8, 265, 13, 15, 17, 18, 21, 22, 9, 345])\n",
      "2018-11-09 15:40:13 postprocessing-WARNING: importance is None for residues set([1, 2, 228, 6, 8, 265, 13, 15, 17, 18, 21, 22, 9, 345])\n",
      "2018-11-09 15:40:13 postprocessing-WARNING: importance is None for residues set([1, 2, 228, 6, 8, 265, 13, 15, 17, 18, 21, 22, 9, 345])\n",
      "2018-11-09 15:40:13 postprocessing-WARNING: importance is None for residues set([1, 2, 228, 6, 8, 265, 13, 15, 17, 18, 21, 22, 9, 345])\n",
      "2018-11-09 15:40:13 postprocessing-INFO: Rescaling feature importances ...\n",
      "2018-11-09 15:40:13 postprocessing-INFO: Filtering feature importances by sigma 2\n",
      "2018-11-09 15:40:13 postprocessing-INFO: Filtering feature importances by cutoff 0.5\n",
      "2018-11-09 15:40:13 postprocessing-DEBUG: Not possible to compute importance per cluster\n",
      "2018-11-09 15:40:14 postprocessing-INFO: Rescaling feature importances ...\n",
      "2018-11-09 15:40:14 postprocessing-WARNING: importance is None for residues set([1, 2, 228, 6, 8, 265, 13, 15, 17, 18, 21, 22, 9, 345])\n",
      "2018-11-09 15:40:15 postprocessing-WARNING: importance is None for residues set([1, 2, 228, 6, 8, 265, 13, 15, 17, 18, 21, 22, 9, 345])\n",
      "2018-11-09 15:40:15 postprocessing-INFO: Rescaling feature importances ...\n",
      "2018-11-09 15:40:15 postprocessing-INFO: Filtering feature importances by sigma 2\n",
      "2018-11-09 15:40:15 postprocessing-INFO: Filtering feature importances by cutoff 0.5\n",
      "2018-11-09 15:40:15 postprocessing-DEBUG: Not possible to compute importance per cluster\n",
      "2018-11-09 15:40:15 postprocessing-INFO: Rescaling feature importances ...\n",
      "2018-11-09 15:40:15 postprocessing-WARNING: importance is None for residues set([1, 2, 228, 6, 8, 265, 13, 15, 17, 18, 21, 22, 9, 345])\n",
      "2018-11-09 15:40:16 postprocessing-WARNING: importance is None for residues set([1, 2, 228, 6, 8, 265, 13, 15, 17, 18, 21, 22, 9, 345])\n",
      "2018-11-09 15:40:16 beta2-INFO: Done\n"
     ]
    }
   ],
   "source": [
    "postprocessors = []\n",
    "for (extractor, feature_importance, std_feature_importance, errors) in results:\n",
    "    p = postprocessing.PostProcessor(extractor, feature_importance, std_feature_importance, errors, cluster_indices,\n",
    "                                     working_dir, \n",
    "                                     pdb_file=working_dir + \"analysis/all_orig.pdb\",\n",
    "                                     feature_to_resids=feature_to_resids, filter_results=True)\n",
    "    p.average()\n",
    "    p.persist()\n",
    "    postprocessors.append(p)\n",
    "\n",
    "logger.info(\"Done\")\n"
   ]
  },
  {
   "cell_type": "markdown",
   "metadata": {},
   "source": [
    "# Visualize results"
   ]
  },
  {
   "cell_type": "code",
   "execution_count": 1,
   "metadata": {
    "ExecuteTime": {
     "end_time": "2018-11-09T14:53:43.643882Z",
     "start_time": "2018-11-09T14:53:43.598573Z"
    }
   },
   "outputs": [
    {
     "ename": "NameError",
     "evalue": "name 'visualization' is not defined",
     "output_type": "error",
     "traceback": [
      "\u001b[0;31m---------------------------------------------------------------------------\u001b[0m",
      "\u001b[0;31mNameError\u001b[0m                                 Traceback (most recent call last)",
      "\u001b[0;32m<ipython-input-1-b26b54b21888>\u001b[0m in \u001b[0;36m<module>\u001b[0;34m()\u001b[0m\n\u001b[0;32m----> 1\u001b[0;31m \u001b[0mvisualization\u001b[0m\u001b[0;34m.\u001b[0m\u001b[0mvisualize\u001b[0m\u001b[0;34m(\u001b[0m\u001b[0mpostprocessors\u001b[0m\u001b[0;34m)\u001b[0m\u001b[0;34m\u001b[0m\u001b[0m\n\u001b[0m\u001b[1;32m      2\u001b[0m logger.info(\"Done. The settings were n_iterations, n_splits = %s, %s.\\nFiltering (filter_by_distance_cutoff, filter_by_DKL, filter_by_KS_test = %s, %s, %s)\", \n\u001b[1;32m      3\u001b[0m             n_iterations, n_splits, filter_by_distance_cutoff, filter_by_DKL, filter_by_KS_test)\n",
      "\u001b[0;31mNameError\u001b[0m: name 'visualization' is not defined"
     ]
    }
   ],
   "source": [
    "visualization.visualize(postprocessors)\n",
    "logger.info(\"Done. The settings were n_iterations, n_splits = %s, %s.\\nFiltering (filter_by_distance_cutoff, filter_by_DKL, filter_by_KS_test = %s, %s, %s)\", \n",
    "            n_iterations, n_splits, filter_by_distance_cutoff, filter_by_DKL, filter_by_KS_test)"
   ]
  },
  {
   "cell_type": "code",
   "execution_count": null,
   "metadata": {},
   "outputs": [],
   "source": []
  },
  {
   "cell_type": "code",
   "execution_count": null,
   "metadata": {},
   "outputs": [],
   "source": []
  }
 ],
 "metadata": {
  "kernelspec": {
   "display_name": "Python 2",
   "language": "python",
   "name": "python2"
  },
  "language_info": {
   "codemirror_mode": {
    "name": "ipython",
    "version": 2
   },
   "file_extension": ".py",
   "mimetype": "text/x-python",
   "name": "python",
   "nbconvert_exporter": "python",
   "pygments_lexer": "ipython2",
   "version": "2.7.14"
  },
  "toc": {
   "base_numbering": 1,
   "colors": {
    "hover_highlight": "#DAA520",
    "navigate_num": "#000000",
    "navigate_text": "#333333",
    "running_highlight": "#FF0000",
    "selected_highlight": "#FFD700",
    "sidebar_border": "#EEEEEE",
    "wrapper_background": "#FFFFFF"
   },
   "moveMenuLeft": true,
   "nav_menu": {
    "height": "102px",
    "width": "252px"
   },
   "navigate_menu": true,
   "number_sections": true,
   "sideBar": true,
   "skip_h1_title": false,
   "threshold": 4,
   "title_cell": "Table of Contents",
   "title_sidebar": "Contents",
   "toc_cell": false,
   "toc_position": {
    "height": "1142px",
    "left": "0px",
    "right": "20px",
    "top": "107px",
    "width": "212px"
   },
   "toc_section_display": "block",
   "toc_window_display": true,
   "widenNotebook": false
  },
  "varInspector": {
   "cols": {
    "lenName": 16,
    "lenType": 16,
    "lenVar": 40
   },
   "kernels_config": {
    "python": {
     "delete_cmd_postfix": "",
     "delete_cmd_prefix": "del ",
     "library": "var_list.py",
     "varRefreshCmd": "print(var_dic_list())"
    },
    "r": {
     "delete_cmd_postfix": ") ",
     "delete_cmd_prefix": "rm(",
     "library": "var_list.r",
     "varRefreshCmd": "cat(var_dic_list()) "
    }
   },
   "types_to_exclude": [
    "module",
    "function",
    "builtin_function_or_method",
    "instance",
    "_Feature"
   ],
   "window_display": false
  }
 },
 "nbformat": 4,
 "nbformat_minor": 2
}
