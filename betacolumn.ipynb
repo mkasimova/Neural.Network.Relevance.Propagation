{
 "cells": [
  {
   "cell_type": "code",
   "execution_count": 9,
   "metadata": {
    "collapsed": true
   },
   "outputs": [],
   "source": [
    "rdir='/media/mkasimova/Data2/Anton.PRODUCTION_RUN/COMBINED/analysis/CLUSTERING.CHOSEN.CV/NEURAL.NETWORK/marina-relevance-prop/ALL_SC/analysis/'\n",
    "pdbfid='all.pdb'\n",
    "beta='results.dat'\n",
    "\n",
    "import numpy as np\n",
    "from biopandas.pdb import PandasPdb\n",
    "import pandas as pd\n",
    "\n",
    "ppdb = PandasPdb()\n",
    "ppdb.read_pdb(rdir+pdbfid)\n",
    "\n",
    "dl = [data.rstrip('\\n') for data in open(rdir+beta)]\n",
    "chain = len(dl)\n",
    "\n",
    "atom = ppdb.df['ATOM']\n",
    "count = 0\n",
    "\n",
    "for i, line in atom.iterrows():\n",
    "    atom.set_value(i, 'b_factor', float(dl[count].split()[0]))\n",
    "    try:\n",
    "        if line['residue_number'] != atom.loc[i+1,'residue_number']:\n",
    "            count = (count + 1)%chain\n",
    "    except KeyError:\n",
    "           pass\n",
    "ppdb.to_pdb(path=rdir+pdbfid+'.beta.pdb',records=None,gz=False,append_newline=True)"
   ]
  },
  {
   "cell_type": "code",
   "execution_count": null,
   "metadata": {
    "collapsed": true
   },
   "outputs": [],
   "source": []
  }
 ],
 "metadata": {
  "kernelspec": {
   "display_name": "Python 2",
   "language": "python",
   "name": "python2"
  },
  "language_info": {
   "codemirror_mode": {
    "name": "ipython",
    "version": 2
   },
   "file_extension": ".py",
   "mimetype": "text/x-python",
   "name": "python",
   "nbconvert_exporter": "python",
   "pygments_lexer": "ipython2",
   "version": "2.7.13"
  }
 },
 "nbformat": 4,
 "nbformat_minor": 2
}
