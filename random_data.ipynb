{
 "cells": [
  {
   "cell_type": "markdown",
   "metadata": {},
   "source": [
    "# Init"
   ]
  },
  {
   "cell_type": "code",
   "execution_count": 1,
   "metadata": {
    "ExecuteTime": {
     "end_time": "2018-10-30T18:41:50.694697Z",
     "start_time": "2018-10-30T18:41:50.229096Z"
    }
   },
   "outputs": [],
   "source": [
    "from __future__ import absolute_import, division, print_function\n",
    "\n",
    "import logging\n",
    "import sys\n",
    "\n",
    "logging.basicConfig(\n",
    "    stream=sys.stdout,\n",
    "    level=logging.DEBUG,\n",
    "    format='%(asctime)s %(name)s-%(levelname)s: %(message)s',\n",
    "    datefmt='%Y-%m-%d %H:%M:%S')\n",
    "import os\n",
    "import numpy as np\n",
    "from modules import utils, feature_extraction as fe, postprocessing, visualization\n",
    "from modules.data_generation import DataGenerator\n",
    "import matplotlib.pyplot as plt\n",
    "\n",
    "logger = logging.getLogger(\"dataGenNb\")\n"
   ]
  },
  {
   "cell_type": "markdown",
   "metadata": {},
   "source": [
    "## Generate data \n",
    "\n",
    "Data should be in an appropriate format and filtered before when we load it here. It does not have to be scaled. "
   ]
  },
  {
   "cell_type": "code",
   "execution_count": 3,
   "metadata": {
    "ExecuteTime": {
     "end_time": "2018-10-30T18:42:00.697803Z",
     "start_time": "2018-10-30T18:41:58.364269Z"
    }
   },
   "outputs": [
    {
     "name": "stdout",
     "output_type": "stream",
     "text": [
      "2018-10-30 19:42:00 dataGenNb-INFO: Generated data of shape (1500, 435) and 3 clusters\n"
     ]
    }
   ],
   "source": [
    "dg = DataGenerator(natoms=30, nclusters=3, nframes_per_cluster=500, noise_level=1e-3)\n",
    "dg.generate_clusters()\n",
    "feature_to_resids = dg.feature_to_resids()\n",
    "data, labels = dg.generate_frames()\n",
    "cluster_indices = labels.argmax(axis=1)\n",
    "feature_to_resids = None\n",
    "logger.info(\"Generated data of shape %s and %s clusters\", data.shape, labels.shape[1])"
   ]
  },
  {
   "cell_type": "markdown",
   "metadata": {},
   "source": [
    "## Define the different methods to use\n",
    "\n",
    "Every method is encapsulated in a so called FeatureExtractor class which all follow the same interface"
   ]
  },
  {
   "cell_type": "code",
   "execution_count": 6,
   "metadata": {
    "ExecuteTime": {
     "end_time": "2018-10-30T18:42:37.913072Z",
     "start_time": "2018-10-30T18:42:37.909010Z"
    }
   },
   "outputs": [
    {
     "name": "stdout",
     "output_type": "stream",
     "text": [
      "2018-10-30 19:42:37 dataGenNb-INFO: Done. using 5 feature extractors\n"
     ]
    }
   ],
   "source": [
    "n_iterations, n_splits = 10, 1\n",
    "feature_extractors = [\n",
    "    fe.MlpFeatureExtractor(data, labels, n_splits=n_splits, n_iterations=n_iterations),\n",
    "    fe.ElmFeatureExtractor(data, labels, n_splits=n_splits, n_iterations=n_iterations),\n",
    "    fe.KLFeatureExtractor(data, labels, n_splits=n_splits),\n",
    "    fe.PCAFeatureExtractor(data, labels, n_splits=n_splits),\n",
    "    fe.RandomForestFeatureExtractor(data, labels, n_splits=n_splits, n_iterations=n_iterations),\n",
    "]\n",
    "logger.info(\"Done. using %s feature extractors\", len(feature_extractors))\n"
   ]
  },
  {
   "cell_type": "markdown",
   "metadata": {},
   "source": [
    "# Run the relevance analysis"
   ]
  },
  {
   "cell_type": "code",
   "execution_count": 7,
   "metadata": {
    "ExecuteTime": {
     "end_time": "2018-10-30T18:42:50.860141Z",
     "start_time": "2018-10-30T18:42:40.184728Z"
    },
    "scrolled": true
   },
   "outputs": [
    {
     "name": "stdout",
     "output_type": "stream",
     "text": [
      "2018-10-30 19:42:40 dataGenNb-INFO: Computing relevance for extractors MLP\n",
      "2018-10-30 19:42:40 Extracting feature-INFO: Using all data in training and validation sets\n",
      "2018-10-30 19:42:40 Extracting feature-DEBUG: Iteration 1 of 10\n",
      "2018-10-30 19:42:40 Extracting feature-DEBUG: Error: 0.0\n",
      "2018-10-30 19:42:40 Extracting feature-DEBUG: Computing feature importance on all data.\n",
      "2018-10-30 19:42:40 Extracting feature-DEBUG: Iteration 2 of 10\n",
      "2018-10-30 19:42:40 Extracting feature-DEBUG: Error: 0.0\n",
      "2018-10-30 19:42:40 Extracting feature-DEBUG: Computing feature importance on all data.\n",
      "2018-10-30 19:42:40 Extracting feature-DEBUG: Iteration 3 of 10\n",
      "2018-10-30 19:42:40 Extracting feature-DEBUG: Error: 0.0\n",
      "2018-10-30 19:42:40 Extracting feature-DEBUG: Computing feature importance on all data.\n",
      "2018-10-30 19:42:41 Extracting feature-DEBUG: Iteration 4 of 10\n",
      "2018-10-30 19:42:41 Extracting feature-DEBUG: Error: 0.0\n",
      "2018-10-30 19:42:41 Extracting feature-DEBUG: Computing feature importance on all data.\n",
      "2018-10-30 19:42:41 Extracting feature-DEBUG: Iteration 5 of 10\n",
      "2018-10-30 19:42:41 Extracting feature-DEBUG: Error: 0.0\n",
      "2018-10-30 19:42:41 Extracting feature-DEBUG: Computing feature importance on all data.\n",
      "2018-10-30 19:42:41 Extracting feature-DEBUG: Iteration 6 of 10\n",
      "2018-10-30 19:42:41 Extracting feature-DEBUG: Error: 0.0\n",
      "2018-10-30 19:42:41 Extracting feature-DEBUG: Computing feature importance on all data.\n",
      "2018-10-30 19:42:41 Extracting feature-DEBUG: Iteration 7 of 10\n",
      "2018-10-30 19:42:42 Extracting feature-DEBUG: Error: 0.0\n",
      "2018-10-30 19:42:42 Extracting feature-DEBUG: Computing feature importance on all data.\n",
      "2018-10-30 19:42:42 Extracting feature-DEBUG: Iteration 8 of 10\n",
      "2018-10-30 19:42:42 Extracting feature-DEBUG: Error: 0.0\n",
      "2018-10-30 19:42:42 Extracting feature-DEBUG: Computing feature importance on all data.\n",
      "2018-10-30 19:42:42 Extracting feature-DEBUG: Iteration 9 of 10\n",
      "2018-10-30 19:42:42 Extracting feature-DEBUG: Error: 0.0\n",
      "2018-10-30 19:42:42 Extracting feature-DEBUG: Computing feature importance on all data.\n",
      "2018-10-30 19:42:42 Extracting feature-DEBUG: Iteration 10 of 10\n",
      "2018-10-30 19:42:42 Extracting feature-DEBUG: Error: 0.0\n",
      "2018-10-30 19:42:42 Extracting feature-DEBUG: Computing feature importance on all data.\n",
      "2018-10-30 19:42:42 dataGenNb-INFO: Computing relevance for extractors ELM\n",
      "2018-10-30 19:42:42 Extracting feature-INFO: Using all data in training and validation sets\n",
      "2018-10-30 19:42:42 Extracting feature-DEBUG: Iteration 1 of 10\n",
      "2018-10-30 19:42:43 elm-INFO: Automatically settings number of nodes in first layer to 435\n",
      "2018-10-30 19:42:43 Extracting feature-DEBUG: Error: 0.0\n",
      "2018-10-30 19:42:43 Extracting feature-DEBUG: Computing feature importance on all data.\n",
      "2018-10-30 19:42:43 Extracting feature-DEBUG: Iteration 2 of 10\n",
      "2018-10-30 19:42:43 elm-INFO: Automatically settings number of nodes in first layer to 435\n",
      "2018-10-30 19:42:43 Extracting feature-DEBUG: Error: 0.0\n",
      "2018-10-30 19:42:43 Extracting feature-DEBUG: Computing feature importance on all data.\n",
      "2018-10-30 19:42:43 Extracting feature-DEBUG: Iteration 3 of 10\n",
      "2018-10-30 19:42:43 elm-INFO: Automatically settings number of nodes in first layer to 435\n",
      "2018-10-30 19:42:43 Extracting feature-DEBUG: Error: 0.0\n",
      "2018-10-30 19:42:43 Extracting feature-DEBUG: Computing feature importance on all data.\n",
      "2018-10-30 19:42:43 Extracting feature-DEBUG: Iteration 4 of 10\n",
      "2018-10-30 19:42:43 elm-INFO: Automatically settings number of nodes in first layer to 435\n",
      "2018-10-30 19:42:43 Extracting feature-DEBUG: Error: 0.0\n",
      "2018-10-30 19:42:43 Extracting feature-DEBUG: Computing feature importance on all data.\n",
      "2018-10-30 19:42:43 Extracting feature-DEBUG: Iteration 5 of 10\n",
      "2018-10-30 19:42:43 elm-INFO: Automatically settings number of nodes in first layer to 435\n",
      "2018-10-30 19:42:43 Extracting feature-DEBUG: Error: 0.0\n",
      "2018-10-30 19:42:43 Extracting feature-DEBUG: Computing feature importance on all data.\n",
      "2018-10-30 19:42:44 Extracting feature-DEBUG: Iteration 6 of 10\n",
      "2018-10-30 19:42:44 elm-INFO: Automatically settings number of nodes in first layer to 435\n",
      "2018-10-30 19:42:44 Extracting feature-DEBUG: Error: 0.0\n",
      "2018-10-30 19:42:44 Extracting feature-DEBUG: Computing feature importance on all data.\n",
      "2018-10-30 19:42:44 Extracting feature-DEBUG: Iteration 7 of 10\n",
      "2018-10-30 19:42:44 elm-INFO: Automatically settings number of nodes in first layer to 435\n",
      "2018-10-30 19:42:44 Extracting feature-DEBUG: Error: 0.0\n",
      "2018-10-30 19:42:44 Extracting feature-DEBUG: Computing feature importance on all data.\n",
      "2018-10-30 19:42:44 Extracting feature-DEBUG: Iteration 8 of 10\n",
      "2018-10-30 19:42:44 elm-INFO: Automatically settings number of nodes in first layer to 435\n",
      "2018-10-30 19:42:44 Extracting feature-DEBUG: Error: 0.0\n",
      "2018-10-30 19:42:44 Extracting feature-DEBUG: Computing feature importance on all data.\n",
      "2018-10-30 19:42:44 Extracting feature-DEBUG: Iteration 9 of 10\n",
      "2018-10-30 19:42:44 elm-INFO: Automatically settings number of nodes in first layer to 435\n",
      "2018-10-30 19:42:44 Extracting feature-DEBUG: Error: 0.0\n",
      "2018-10-30 19:42:44 Extracting feature-DEBUG: Computing feature importance on all data.\n",
      "2018-10-30 19:42:44 Extracting feature-DEBUG: Iteration 10 of 10\n",
      "2018-10-30 19:42:44 elm-INFO: Automatically settings number of nodes in first layer to 435\n",
      "2018-10-30 19:42:44 Extracting feature-DEBUG: Error: 0.0\n",
      "2018-10-30 19:42:44 Extracting feature-DEBUG: Computing feature importance on all data.\n",
      "2018-10-30 19:42:45 dataGenNb-INFO: Computing relevance for extractors KL\n",
      "2018-10-30 19:42:45 Extracting feature-INFO: Using all data in training and validation sets\n",
      "2018-10-30 19:42:45 Extracting feature-DEBUG: Iteration 1 of 1\n",
      "2018-10-30 19:42:45 Extracting feature-DEBUG: Computing feature importance on all data.\n",
      "2018-10-30 19:42:45 dataGenNb-INFO: Computing relevance for extractors PCA\n",
      "2018-10-30 19:42:45 Extracting feature-INFO: Using all data in training and validation sets\n",
      "2018-10-30 19:42:45 Extracting feature-DEBUG: Iteration 1 of 1\n",
      "2018-10-30 19:42:45 PCA featurizer-INFO: Training PCA\n",
      "2018-10-30 19:42:45 Extracting feature-DEBUG: Computing feature importance on all data.\n",
      "2018-10-30 19:42:45 PCA featurizer-INFO: Selecting 434 components\n",
      "2018-10-30 19:42:45 dataGenNb-INFO: Computing relevance for extractors RF\n",
      "2018-10-30 19:42:45 Extracting feature-INFO: Using all data in training and validation sets\n",
      "2018-10-30 19:42:45 Extracting feature-DEBUG: Iteration 1 of 10\n",
      "2018-10-30 19:42:45 RF featurizer-INFO: Training RF\n",
      "2018-10-30 19:42:45 Extracting feature-DEBUG: Error: 0.0\n",
      "2018-10-30 19:42:45 Extracting feature-DEBUG: Computing feature importance on all data.\n",
      "2018-10-30 19:42:46 Extracting feature-DEBUG: Iteration 2 of 10\n",
      "2018-10-30 19:42:46 RF featurizer-INFO: Training RF\n",
      "2018-10-30 19:42:46 Extracting feature-DEBUG: Error: 0.0\n",
      "2018-10-30 19:42:46 Extracting feature-DEBUG: Computing feature importance on all data.\n",
      "2018-10-30 19:42:46 Extracting feature-DEBUG: Iteration 3 of 10\n",
      "2018-10-30 19:42:46 RF featurizer-INFO: Training RF\n",
      "2018-10-30 19:42:47 Extracting feature-DEBUG: Error: 0.0\n",
      "2018-10-30 19:42:47 Extracting feature-DEBUG: Computing feature importance on all data.\n",
      "2018-10-30 19:42:47 Extracting feature-DEBUG: Iteration 4 of 10\n",
      "2018-10-30 19:42:47 RF featurizer-INFO: Training RF\n",
      "2018-10-30 19:42:47 Extracting feature-DEBUG: Error: 0.0\n",
      "2018-10-30 19:42:47 Extracting feature-DEBUG: Computing feature importance on all data.\n",
      "2018-10-30 19:42:47 Extracting feature-DEBUG: Iteration 5 of 10\n",
      "2018-10-30 19:42:47 RF featurizer-INFO: Training RF\n",
      "2018-10-30 19:42:48 Extracting feature-DEBUG: Error: 0.0\n",
      "2018-10-30 19:42:48 Extracting feature-DEBUG: Computing feature importance on all data.\n",
      "2018-10-30 19:42:48 Extracting feature-DEBUG: Iteration 6 of 10\n",
      "2018-10-30 19:42:48 RF featurizer-INFO: Training RF\n",
      "2018-10-30 19:42:48 Extracting feature-DEBUG: Error: 0.0\n",
      "2018-10-30 19:42:48 Extracting feature-DEBUG: Computing feature importance on all data.\n",
      "2018-10-30 19:42:48 Extracting feature-DEBUG: Iteration 7 of 10\n",
      "2018-10-30 19:42:48 RF featurizer-INFO: Training RF\n",
      "2018-10-30 19:42:49 Extracting feature-DEBUG: Error: 0.0\n",
      "2018-10-30 19:42:49 Extracting feature-DEBUG: Computing feature importance on all data.\n",
      "2018-10-30 19:42:49 Extracting feature-DEBUG: Iteration 8 of 10\n"
     ]
    },
    {
     "name": "stdout",
     "output_type": "stream",
     "text": [
      "2018-10-30 19:42:49 RF featurizer-INFO: Training RF\n",
      "2018-10-30 19:42:49 Extracting feature-DEBUG: Error: 0.0\n",
      "2018-10-30 19:42:49 Extracting feature-DEBUG: Computing feature importance on all data.\n",
      "2018-10-30 19:42:49 Extracting feature-DEBUG: Iteration 9 of 10\n",
      "2018-10-30 19:42:49 RF featurizer-INFO: Training RF\n",
      "2018-10-30 19:42:50 Extracting feature-DEBUG: Error: 0.0\n",
      "2018-10-30 19:42:50 Extracting feature-DEBUG: Computing feature importance on all data.\n",
      "2018-10-30 19:42:50 Extracting feature-DEBUG: Iteration 10 of 10\n",
      "2018-10-30 19:42:50 RF featurizer-INFO: Training RF\n",
      "2018-10-30 19:42:50 Extracting feature-DEBUG: Error: 0.0\n",
      "2018-10-30 19:42:50 Extracting feature-DEBUG: Computing feature importance on all data.\n",
      "2018-10-30 19:42:50 dataGenNb-INFO: Done\n"
     ]
    }
   ],
   "source": [
    "results = []\n",
    "for extractor in feature_extractors:\n",
    "    logger.info(\"Computing relevance for extractors %s\", extractor.name)\n",
    "    feature_importance, std_feature_importance, errors = extractor.extract_features(filter_results=True)\n",
    "    #logger.info(\"Get feature_importance and std of shapes %s, %s\", feature_importance.shape, std_feature_importance.shape)\n",
    "    results.append((extractor, feature_importance, std_feature_importance, errors))\n",
    "logger.info(\"Done\")\n"
   ]
  },
  {
   "cell_type": "markdown",
   "metadata": {
    "collapsed": true
   },
   "source": [
    "# Postprocess results to get average features"
   ]
  },
  {
   "cell_type": "code",
   "execution_count": 8,
   "metadata": {
    "ExecuteTime": {
     "end_time": "2018-10-30T18:42:50.947318Z",
     "start_time": "2018-10-30T18:42:50.930709Z"
    },
    "scrolled": true
   },
   "outputs": [
    {
     "ename": "TypeError",
     "evalue": "__init__() takes at least 7 arguments (7 given)",
     "output_type": "error",
     "traceback": [
      "\u001b[0;31m---------------------------------------------------------------------------\u001b[0m",
      "\u001b[0;31mTypeError\u001b[0m                                 Traceback (most recent call last)",
      "\u001b[0;32m<ipython-input-8-a9f32fa5bf57>\u001b[0m in \u001b[0;36m<module>\u001b[0;34m()\u001b[0m\n\u001b[1;32m      2\u001b[0m \u001b[0;32mfor\u001b[0m \u001b[0;34m(\u001b[0m\u001b[0mextractor\u001b[0m\u001b[0;34m,\u001b[0m \u001b[0mfeature_importance\u001b[0m\u001b[0;34m,\u001b[0m \u001b[0mstd_feature_importance\u001b[0m\u001b[0;34m)\u001b[0m \u001b[0;32min\u001b[0m \u001b[0mresults\u001b[0m\u001b[0;34m:\u001b[0m\u001b[0;34m\u001b[0m\u001b[0m\n\u001b[1;32m      3\u001b[0m     p = postprocessing.PostProcessor(extractor, feature_importance, std_feature_importance, cluster_indices,\n\u001b[0;32m----> 4\u001b[0;31m                                      working_dir=None, feature_to_resids=feature_to_resids)\n\u001b[0m\u001b[1;32m      5\u001b[0m     \u001b[0mp\u001b[0m\u001b[0;34m.\u001b[0m\u001b[0maverage\u001b[0m\u001b[0;34m(\u001b[0m\u001b[0;34m)\u001b[0m\u001b[0;34m\u001b[0m\u001b[0m\n\u001b[1;32m      6\u001b[0m     \u001b[0mpostprocessors\u001b[0m\u001b[0;34m.\u001b[0m\u001b[0mappend\u001b[0m\u001b[0;34m(\u001b[0m\u001b[0mp\u001b[0m\u001b[0;34m)\u001b[0m\u001b[0;34m\u001b[0m\u001b[0m\n",
      "\u001b[0;31mTypeError\u001b[0m: __init__() takes at least 7 arguments (7 given)"
     ]
    }
   ],
   "source": [
    "postprocessors = []\n",
    "for (extractor, feature_importance, std_feature_importance, errors) in results:\n",
    "    p = postprocessing.PostProcessor(extractor, feature_importance, std_feature_importance, errors, cluster_indices,\n",
    "                                     working_dir=None, feature_to_resids=feature_to_resids)\n",
    "    p.average()\n",
    "    postprocessors.append(p)\n",
    "\n",
    "logger.info(\"Done\")\n"
   ]
  },
  {
   "cell_type": "markdown",
   "metadata": {},
   "source": [
    "# Visualize results"
   ]
  },
  {
   "cell_type": "code",
   "execution_count": null,
   "metadata": {
    "ExecuteTime": {
     "end_time": "2018-10-30T18:42:50.948947Z",
     "start_time": "2018-10-30T18:42:47.072Z"
    }
   },
   "outputs": [],
   "source": [
    "visualization.visualize(postprocessors)\n",
    "logger.info(\"Actual atoms moved: %s\", dg.moved_atoms)\n",
    "logger.info(\"Done\")"
   ]
  },
  {
   "cell_type": "code",
   "execution_count": null,
   "metadata": {},
   "outputs": [],
   "source": []
  }
 ],
 "metadata": {
  "kernelspec": {
   "display_name": "Python 2",
   "language": "python",
   "name": "python2"
  },
  "language_info": {
   "codemirror_mode": {
    "name": "ipython",
    "version": 2
   },
   "file_extension": ".py",
   "mimetype": "text/x-python",
   "name": "python",
   "nbconvert_exporter": "python",
   "pygments_lexer": "ipython2",
   "version": "2.7.14"
  },
  "toc": {
   "colors": {
    "hover_highlight": "#DAA520",
    "navigate_num": "#000000",
    "navigate_text": "#333333",
    "running_highlight": "#FF0000",
    "selected_highlight": "#FFD700",
    "sidebar_border": "#EEEEEE",
    "wrapper_background": "#FFFFFF"
   },
   "moveMenuLeft": true,
   "nav_menu": {
    "height": "102px",
    "width": "252px"
   },
   "navigate_menu": true,
   "number_sections": true,
   "sideBar": true,
   "threshold": 4,
   "toc_cell": false,
   "toc_position": {
    "height": "1213px",
    "left": "0px",
    "right": "20px",
    "top": "107px",
    "width": "212px"
   },
   "toc_section_display": "block",
   "toc_window_display": true,
   "widenNotebook": false
  },
  "varInspector": {
   "cols": {
    "lenName": 16,
    "lenType": 16,
    "lenVar": 40
   },
   "kernels_config": {
    "python": {
     "delete_cmd_postfix": "",
     "delete_cmd_prefix": "del ",
     "library": "var_list.py",
     "varRefreshCmd": "print(var_dic_list())"
    },
    "r": {
     "delete_cmd_postfix": ") ",
     "delete_cmd_prefix": "rm(",
     "library": "var_list.r",
     "varRefreshCmd": "cat(var_dic_list()) "
    }
   },
   "types_to_exclude": [
    "module",
    "function",
    "builtin_function_or_method",
    "instance",
    "_Feature"
   ],
   "window_display": false
  }
 },
 "nbformat": 4,
 "nbformat_minor": 2
}
