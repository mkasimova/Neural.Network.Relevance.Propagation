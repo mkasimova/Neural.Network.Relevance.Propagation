{
 "cells": [
  {
   "cell_type": "markdown",
   "metadata": {},
   "source": [
    "# Init"
   ]
  },
  {
   "cell_type": "code",
   "execution_count": 1,
   "metadata": {
    "ExecuteTime": {
     "end_time": "2018-11-21T16:35:32.233915Z",
     "start_time": "2018-11-21T16:35:31.797017Z"
    }
   },
   "outputs": [],
   "source": [
    "from __future__ import absolute_import, division, print_function\n",
    "\n",
    "import logging\n",
    "import sys\n",
    "\n",
    "logging.basicConfig(\n",
    "    stream=sys.stdout,\n",
    "    level=logging.DEBUG,\n",
    "    format='%(asctime)s %(name)s-%(levelname)s: %(message)s',\n",
    "    datefmt='%Y-%m-%d %H:%M:%S')\n",
    "import os\n",
    "import numpy as np\n",
    "from modules import utils, feature_extraction as fe, postprocessing as pp, visualization\n",
    "import modules.data_generation as data_generation\n",
    "from modules.data_generation import DataGenerator\n",
    "from modules import filtering, data_projection as dp\n",
    "import matplotlib.pyplot as plt\n",
    "\n",
    "logger = logging.getLogger(\"dataGenNb\")\n"
   ]
  },
  {
   "cell_type": "markdown",
   "metadata": {},
   "source": [
    "## Generate data \n",
    "\n",
    "Data should be in an appropriate format and filtered before when we load it here. It does not have to be scaled. "
   ]
  },
  {
   "cell_type": "code",
   "execution_count": 20,
   "metadata": {
    "ExecuteTime": {
     "end_time": "2018-11-21T16:40:53.829593Z",
     "start_time": "2018-11-21T16:40:40.776370Z"
    }
   },
   "outputs": [
    {
     "name": "stdout",
     "output_type": "stream",
     "text": [
      "2018-11-21 17:40:53 dataGenNb-INFO: Generated data of shape (7500, 435) and 5 clusters\n"
     ]
    }
   ],
   "source": [
    "dg = DataGenerator(natoms=30, nclusters=5, nframes_per_cluster=1500, \n",
    "                   noise_level=1e-2, \n",
    "                   displacement=5, \n",
    "                   cluster_generation_method=data_generation.constant_displacement)\n",
    "dg.generate_clusters()\n",
    "feature_to_resids = dg.feature_to_resids()\n",
    "data, labels = dg.generate_frames()\n",
    "cluster_indices = labels.argmax(axis=1)\n",
    "feature_to_resids = None\n",
    "logger.info(\"Generated data of shape %s and %s clusters\", data.shape, labels.shape[1])"
   ]
  },
  {
   "cell_type": "markdown",
   "metadata": {},
   "source": [
    "## Define the different methods to use\n",
    "\n",
    "Every method is encapsulated in a so called FeatureExtractor class which all follow the same interface"
   ]
  },
  {
   "cell_type": "code",
   "execution_count": null,
   "metadata": {
    "ExecuteTime": {
     "end_time": "2018-11-21T16:40:53.846083Z",
     "start_time": "2018-11-21T16:40:41.342Z"
    }
   },
   "outputs": [],
   "source": [
    "n_iterations, n_splits = 5, 3\n",
    "filter_by_distance_cutoff, filter_by_DKL, filter_by_KS_test = False, False, False \n",
    "feature_extractors = [\n",
    "    fe.MlpFeatureExtractor(data, cluster_indices, n_splits=n_splits, n_iterations=n_iterations, hidden_layer_sizes=(100,), training_max_iter=10000, activation=\"relu\", \n",
    "                           filter_by_distance_cutoff=filter_by_distance_cutoff, filter_by_DKL=filter_by_DKL, filter_by_KS_test=filter_by_KS_test), #, solver=\"sgd\"),\n",
    "    fe.RbmFeatureExtractor(data, cluster_indices, n_splits=n_splits, n_iterations=n_iterations, n_components=8, \n",
    "                           filter_by_distance_cutoff=filter_by_distance_cutoff, filter_by_DKL=filter_by_DKL, filter_by_KS_test=filter_by_KS_test),\n",
    "    #fe.ElmFeatureExtractor(data, cluster_indices, n_splits=n_splits, n_iterations=n_iterations, n_nodes=2000,\n",
    "   #                        filter_by_distance_cutoff=filter_by_distance_cutoff, filter_by_DKL=filter_by_DKL, filter_by_KS_test=filter_by_KS_test),\n",
    "    fe.KLFeatureExtractor(data, cluster_indices, n_splits=n_splits, \n",
    "                           filter_by_distance_cutoff=filter_by_distance_cutoff, filter_by_DKL=filter_by_DKL, filter_by_KS_test=filter_by_KS_test),\n",
    "    fe.PCAFeatureExtractor(data, cluster_indices, n_splits=n_splits, n_components=None,\n",
    "                               filter_by_distance_cutoff=filter_by_distance_cutoff, filter_by_DKL=filter_by_DKL, filter_by_KS_test=filter_by_KS_test),\n",
    "    fe.RandomForestFeatureExtractor(data, cluster_indices, n_splits=n_splits, n_iterations=n_iterations,\n",
    "                                                               filter_by_distance_cutoff=filter_by_distance_cutoff, filter_by_DKL=filter_by_DKL, filter_by_KS_test=filter_by_KS_test),\n",
    "]\n",
    "logger.info(\"Done. using %s feature extractors\", len(feature_extractors))\n"
   ]
  },
  {
   "cell_type": "code",
   "execution_count": 21,
   "metadata": {
    "ExecuteTime": {
     "end_time": "2018-11-21T16:44:45.697958Z",
     "start_time": "2018-11-21T16:44:37.149076Z"
    },
    "scrolled": true
   },
   "outputs": [
    {
     "name": "stdout",
     "output_type": "stream",
     "text": [
      "2018-11-21 17:44:37 dataGenNb-INFO: Computing relevance for extractors MLP\n",
      "2018-11-21 17:44:37 Extracting features-INFO: Performing feature extraction with MLP on data of shape (1000, 45)\n",
      "2018-11-21 17:44:37 Extracting features-INFO: Done with MLP\n",
      "2018-11-21 17:44:37 Extracting features-INFO: ------------------------------\n",
      "2018-11-21 17:44:37 dataGenNb-INFO: Computing relevance for extractors RBM\n",
      "2018-11-21 17:44:37 Extracting features-INFO: Performing feature extraction with RBM on data of shape (1000, 45)\n",
      "2018-11-21 17:44:38 Extracting features-INFO: Done with RBM\n",
      "2018-11-21 17:44:38 Extracting features-INFO: ------------------------------\n",
      "2018-11-21 17:44:38 dataGenNb-INFO: Computing relevance for extractors KL\n",
      "2018-11-21 17:44:38 Extracting features-INFO: Performing feature extraction with KL on data of shape (1000, 45)\n",
      "2018-11-21 17:44:38 Extracting features-INFO: Done with KL\n",
      "2018-11-21 17:44:38 Extracting features-INFO: ------------------------------\n",
      "2018-11-21 17:44:38 dataGenNb-INFO: Computing relevance for extractors PCA\n",
      "2018-11-21 17:44:38 Extracting features-INFO: Performing feature extraction with PCA on data of shape (1000, 45)\n",
      "2018-11-21 17:44:38 PCA featurizer-INFO: Selecting 1 components\n",
      "2018-11-21 17:44:38 PCA featurizer-INFO: Selecting 1 components\n",
      "2018-11-21 17:44:38 PCA featurizer-INFO: Selecting 1 components\n",
      "2018-11-21 17:44:38 Extracting features-INFO: Done with PCA\n",
      "2018-11-21 17:44:38 Extracting features-INFO: ------------------------------\n",
      "2018-11-21 17:44:38 dataGenNb-INFO: Computing relevance for extractors RF\n",
      "2018-11-21 17:44:38 Extracting features-INFO: Performing feature extraction with RF on data of shape (1000, 45)\n",
      "2018-11-21 17:44:45 Extracting features-INFO: Done with RF\n",
      "2018-11-21 17:44:45 Extracting features-INFO: ------------------------------\n",
      "2018-11-21 17:44:45 dataGenNb-INFO: Done\n"
     ]
    }
   ],
   "source": [
    "results = []\n",
    "for extractor in feature_extractors:\n",
    "    extractor.error_limit = 5\n",
    "    logger.info(\"Computing relevance for extractors %s\", extractor.name)\n",
    "    feature_importance, std_feature_importance, errors = extractor.extract_features()\n",
    "    #logger.info(\"Get feature_importance and std of shapes %s, %s\", feature_importance.shape, std_feature_importance.shape)\n",
    "    results.append((extractor, feature_importance, std_feature_importance, errors))\n",
    "logger.info(\"Done\")\n"
   ]
  },
  {
   "cell_type": "markdown",
   "metadata": {},
   "source": [
    "# Postprocess results to get average features"
   ]
  },
  {
   "cell_type": "code",
   "execution_count": null,
   "metadata": {
    "ExecuteTime": {
     "end_time": "2018-11-21T16:44:45.744858Z",
     "start_time": "2018-11-21T16:44:41.435Z"
    },
    "scrolled": true
   },
   "outputs": [],
   "source": [
    "postprocessors = []\n",
    "for (extractor, feature_importance, std_feature_importance, errors) in results:\n",
    "    p = pp.PostProcessor(extractor, feature_importance, std_feature_importance, errors, cluster_indices,\n",
    "                                     working_dir=None, feature_to_resids=feature_to_resids, \n",
    "                                     filter_results=False,filter_results_by_cutoff=False,\n",
    "                                     predefined_relevant_residues=dg.moved_atoms)\n",
    "    p.average()\n",
    "    postprocessors.append(p)\n",
    "\n",
    "logger.info(\"Done\")\n"
   ]
  },
  {
   "cell_type": "markdown",
   "metadata": {},
   "source": [
    "# Run the relevance analysis"
   ]
  },
  {
   "cell_type": "markdown",
   "metadata": {},
   "source": [
    "# Evaluate results"
   ]
  },
  {
   "cell_type": "markdown",
   "metadata": {},
   "source": [
    "## Find top ranked residues"
   ]
  },
  {
   "cell_type": "code",
   "execution_count": 22,
   "metadata": {
    "ExecuteTime": {
     "end_time": "2018-11-21T16:44:46.653825Z",
     "start_time": "2018-11-21T16:44:46.471599Z"
    }
   },
   "outputs": [
    {
     "name": "stdout",
     "output_type": "stream",
     "text": [
      "2018-11-21 17:44:46 dataGenNb-INFO: Actual atoms moved: [3, 19, 21, 22, 28].\n",
      "(Cluster generation method constant_displacement. Noise level=0.01, displacement=5. frames/cluster=1500)\n",
      "2018-11-21 17:44:46 dataGenNb-INFO: Moved atoms for MLP: [0, 2, 7, 8, 9]\n",
      "2018-11-21 17:44:46 dataGenNb-INFO: Moved atoms for RBM: [0, 2, 5, 8, 9]\n",
      "2018-11-21 17:44:46 dataGenNb-INFO: Moved atoms for KL: [2, 3, 5, 8, 9]\n",
      "2018-11-21 17:44:46 dataGenNb-INFO: Moved atoms for PCA: [0, 1, 5, 8, 9]\n",
      "2018-11-21 17:44:46 dataGenNb-INFO: Moved atoms for RF: [1, 5, 7, 8, 9]\n"
     ]
    },
    {
     "data": {
      "image/png": "[encoded data removed]",
      "text/plain": [
       "<matplotlib.figure.Figure at 0x7f2a652d0610>"
      ]
     },
     "metadata": {},
     "output_type": "display_data"
    }
   ],
   "source": [
    "logger.info(\"Actual atoms moved: %s.\\n(Cluster generation method %s. Noise level=%s, displacement=%s. frames/cluster=%s)\", \n",
    "            sorted(dg.moved_atoms), \n",
    "            dg.cluster_generation_method, dg.noise_level, dg.displacement, dg.nframes_per_cluster)\n",
    "def show_moved_atoms(dg, postprocessors):\n",
    "    plt.figure(figsize=(6,6))\n",
    "    yvalues = np.zeros(dg.moved_atoms.shape) + 1\n",
    "    plt.scatter(dg.moved_atoms, yvalues, label=\"Actual\")\n",
    "    for pp in postprocessors:\n",
    "        #Get most relevant atoms, not that they are not sorted\n",
    "        label=pp.extractor.name\n",
    "        moved_atoms = np.argpartition(pp.importance_per_residue, -dg.nclusters)[-dg.nclusters:]\n",
    "        importance_moved_atoms = pp.importance_per_residue[moved_atoms]\n",
    "        plt.scatter(moved_atoms, importance_moved_atoms, label=label, alpha=0.5)\n",
    "        logger.info(\"Moved atoms for %s: %s\", label, sorted(moved_atoms) )\n",
    "    plt.legend()\n",
    "    plt.grid()\n",
    "    plt.show()\n",
    "    \n",
    "show_moved_atoms(dg, postprocessors)    "
   ]
  },
  {
   "cell_type": "markdown",
   "metadata": {},
   "source": [
    "## Visualize them"
   ]
  },
  {
   "cell_type": "code",
   "execution_count": 24,
   "metadata": {
    "ExecuteTime": {
     "end_time": "2018-11-21T16:44:54.663366Z",
     "start_time": "2018-11-21T16:44:54.627173Z"
    },
    "scrolled": false
   },
   "outputs": [
    {
     "ename": "ValueError",
     "evalue": "shapes (7500,435) and (45,2) not aligned: 435 (dim 1) != 45 (dim 0)",
     "output_type": "error",
     "traceback": [
      "\u001b[0;31m---------------------------------------------------------------------------\u001b[0m",
      "\u001b[0;31mValueError\u001b[0m                                Traceback (most recent call last)",
      "\u001b[0;32m<ipython-input-24-da0dff7e2f4f>\u001b[0m in \u001b[0;36m<module>\u001b[0;34m()\u001b[0m\n\u001b[1;32m      4\u001b[0m     \u001b[0;31m#p.average().persist()\u001b[0m\u001b[0;34m\u001b[0m\u001b[0;34m\u001b[0m\u001b[0m\n\u001b[1;32m      5\u001b[0m     \u001b[0mprojector\u001b[0m \u001b[0;34m=\u001b[0m \u001b[0mdp\u001b[0m\u001b[0;34m.\u001b[0m\u001b[0mDataProjector\u001b[0m\u001b[0;34m(\u001b[0m\u001b[0mp\u001b[0m\u001b[0;34m,\u001b[0m \u001b[0mdata\u001b[0m\u001b[0;34m)\u001b[0m\u001b[0;34m\u001b[0m\u001b[0m\n\u001b[0;32m----> 6\u001b[0;31m     \u001b[0mprojector\u001b[0m\u001b[0;34m.\u001b[0m\u001b[0mproject\u001b[0m\u001b[0;34m(\u001b[0m\u001b[0;34m)\u001b[0m\u001b[0;34m.\u001b[0m\u001b[0mscore_projection\u001b[0m\u001b[0;34m(\u001b[0m\u001b[0;34m)\u001b[0m\u001b[0;34m\u001b[0m\u001b[0m\n\u001b[0m\u001b[1;32m      7\u001b[0m     \u001b[0mdata_projectors\u001b[0m\u001b[0;34m.\u001b[0m\u001b[0mappend\u001b[0m\u001b[0;34m(\u001b[0m\u001b[0mprojector\u001b[0m\u001b[0;34m)\u001b[0m\u001b[0;34m\u001b[0m\u001b[0m\n\u001b[1;32m      8\u001b[0m \u001b[0mvisualization\u001b[0m\u001b[0;34m.\u001b[0m\u001b[0mvisualize\u001b[0m\u001b[0;34m(\u001b[0m\u001b[0mpostprocessors\u001b[0m\u001b[0;34m,\u001b[0m\u001b[0mdata_projectors\u001b[0m\u001b[0;34m)\u001b[0m\u001b[0;34m\u001b[0m\u001b[0m\n",
      "\u001b[0;32m/home/oliverfl/git/Neural.Network.Relevance.Propagation/modules/data_projection.py\u001b[0m in \u001b[0;36mproject\u001b[0;34m(self)\u001b[0m\n\u001b[1;32m     50\u001b[0m \u001b[0;34m\u001b[0m\u001b[0m\n\u001b[1;32m     51\u001b[0m         \u001b[0;32mif\u001b[0m \u001b[0mself\u001b[0m\u001b[0;34m.\u001b[0m\u001b[0mpop\u001b[0m\u001b[0;34m.\u001b[0m\u001b[0mimportance_per_cluster\u001b[0m \u001b[0;32mis\u001b[0m \u001b[0;32mnot\u001b[0m \u001b[0mNone\u001b[0m\u001b[0;34m:\u001b[0m\u001b[0;34m\u001b[0m\u001b[0m\n\u001b[0;32m---> 52\u001b[0;31m             \u001b[0mself\u001b[0m\u001b[0;34m.\u001b[0m\u001b[0mraw_projection\u001b[0m \u001b[0;34m=\u001b[0m \u001b[0mself\u001b[0m\u001b[0;34m.\u001b[0m\u001b[0m_project_on_relevance_basis_vectors\u001b[0m\u001b[0;34m(\u001b[0m\u001b[0mself\u001b[0m\u001b[0;34m.\u001b[0m\u001b[0msamples\u001b[0m\u001b[0;34m,\u001b[0m \u001b[0mself\u001b[0m\u001b[0;34m.\u001b[0m\u001b[0mpop\u001b[0m\u001b[0;34m.\u001b[0m\u001b[0mimportance_per_cluster\u001b[0m\u001b[0;34m)\u001b[0m\u001b[0;34m\u001b[0m\u001b[0m\n\u001b[0m\u001b[1;32m     53\u001b[0m \u001b[0;34m\u001b[0m\u001b[0m\n\u001b[1;32m     54\u001b[0m         \u001b[0mlogger\u001b[0m\u001b[0;34m.\u001b[0m\u001b[0minfo\u001b[0m\u001b[0;34m(\u001b[0m\u001b[0;34m\"Identifying basis vectors\"\u001b[0m\u001b[0;34m)\u001b[0m\u001b[0;34m\u001b[0m\u001b[0m\n",
      "\u001b[0;32m/home/oliverfl/git/Neural.Network.Relevance.Propagation/modules/data_projection.py\u001b[0m in \u001b[0;36m_project_on_relevance_basis_vectors\u001b[0;34m(self, distances, relevance_basis_vectors)\u001b[0m\n\u001b[1;32m    261\u001b[0m         \"\"\"\n\u001b[1;32m    262\u001b[0m \u001b[0;34m\u001b[0m\u001b[0m\n\u001b[0;32m--> 263\u001b[0;31m         \u001b[0mprojected_data\u001b[0m \u001b[0;34m=\u001b[0m \u001b[0mnp\u001b[0m\u001b[0;34m.\u001b[0m\u001b[0mdot\u001b[0m\u001b[0;34m(\u001b[0m\u001b[0mdistances\u001b[0m\u001b[0;34m,\u001b[0m \u001b[0mrelevance_basis_vectors\u001b[0m\u001b[0;34m)\u001b[0m\u001b[0;34m\u001b[0m\u001b[0m\n\u001b[0m\u001b[1;32m    264\u001b[0m \u001b[0;34m\u001b[0m\u001b[0m\n\u001b[1;32m    265\u001b[0m         \u001b[0;32mreturn\u001b[0m \u001b[0mprojected_data\u001b[0m\u001b[0;34m\u001b[0m\u001b[0m\n",
      "\u001b[0;31mValueError\u001b[0m: shapes (7500,435) and (45,2) not aligned: 435 (dim 1) != 45 (dim 0)"
     ]
    }
   ],
   "source": [
    "data_projectors = []\n",
    "for p in postprocessors:\n",
    "    #p.filter_feature_importance_by_rank(filter_by_rank_cutoff=filter_by_rank_cutoff)\n",
    "    #p.average().persist()\n",
    "    projector = dp.DataProjector(p, data)\n",
    "    projector.project().score_projection()\n",
    "    data_projectors.append(projector)\n",
    "visualization.visualize(postprocessors,data_projectors)\n",
    "logger.info(\"Done\")"
   ]
  },
  {
   "cell_type": "code",
   "execution_count": null,
   "metadata": {},
   "outputs": [],
   "source": []
  }
 ],
 "metadata": {
  "anaconda-cloud": {},
  "kernelspec": {
   "display_name": "Python 2",
   "language": "python",
   "name": "python2"
  },
  "language_info": {
   "codemirror_mode": {
    "name": "ipython",
    "version": 2
   },
   "file_extension": ".py",
   "mimetype": "text/x-python",
   "name": "python",
   "nbconvert_exporter": "python",
   "pygments_lexer": "ipython2",
   "version": "2.7.14"
  },
  "toc": {
   "base_numbering": 1,
   "colors": {
    "hover_highlight": "#DAA520",
    "navigate_num": "#000000",
    "navigate_text": "#333333",
    "running_highlight": "#FF0000",
    "selected_highlight": "#FFD700",
    "sidebar_border": "#EEEEEE",
    "wrapper_background": "#FFFFFF"
   },
   "moveMenuLeft": true,
   "nav_menu": {
    "height": "102px",
    "width": "252px"
   },
   "navigate_menu": true,
   "number_sections": true,
   "sideBar": true,
   "skip_h1_title": false,
   "threshold": 4,
   "title_cell": "Table of Contents",
   "title_sidebar": "Contents",
   "toc_cell": false,
   "toc_position": {
    "height": "607px",
    "left": "2px",
    "right": "20px",
    "top": "107px",
    "width": "212px"
   },
   "toc_section_display": true,
   "toc_window_display": true,
   "widenNotebook": false
  },
  "varInspector": {
   "cols": {
    "lenName": 16,
    "lenType": 16,
    "lenVar": 40
   },
   "kernels_config": {
    "python": {
     "delete_cmd_postfix": "",
     "delete_cmd_prefix": "del ",
     "library": "var_list.py",
     "varRefreshCmd": "print(var_dic_list())"
    },
    "r": {
     "delete_cmd_postfix": ") ",
     "delete_cmd_prefix": "rm(",
     "library": "var_list.r",
     "varRefreshCmd": "cat(var_dic_list()) "
    }
   },
   "types_to_exclude": [
    "module",
    "function",
    "builtin_function_or_method",
    "instance",
    "_Feature"
   ],
   "window_display": false
  }
 },
 "nbformat": 4,
 "nbformat_minor": 2
}
