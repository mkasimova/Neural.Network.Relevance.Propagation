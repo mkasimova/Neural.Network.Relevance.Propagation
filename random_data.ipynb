{
 "cells": [
  {
   "cell_type": "markdown",
   "metadata": {},
   "source": [
    "# Init"
   ]
  },
  {
   "cell_type": "code",
   "execution_count": 19,
   "metadata": {
    "ExecuteTime": {
     "end_time": "2019-01-18T10:49:25.073785Z",
     "start_time": "2019-01-18T10:49:25.063859Z"
    }
   },
   "outputs": [],
   "source": [
    "from __future__ import absolute_import, division, print_function\n",
    "\n",
    "import logging\n",
    "import sys\n",
    "\n",
    "logging.basicConfig(\n",
    "    stream=sys.stdout,\n",
    "    level=logging.DEBUG,\n",
    "    format='%(asctime)s %(name)s-%(levelname)s: %(message)s',\n",
    "    datefmt='%Y-%m-%d %H:%M:%S')\n",
    "import os\n",
    "import numpy as np\n",
    "from modules import utils, feature_extraction as fe, postprocessing as pp, visualization\n",
    "import modules.data_generation as data_generation\n",
    "from modules.data_generation import DataGenerator\n",
    "from modules import filtering, data_projection as dp\n",
    "import matplotlib.pyplot as plt\n",
    "\n",
    "logger = logging.getLogger(\"dataGenNb\")\n"
   ]
  },
  {
   "cell_type": "markdown",
   "metadata": {},
   "source": [
    "## Generate data \n",
    "\n",
    "Data should be in an appropriate format and filtered before when we load it here. It does not have to be scaled. "
   ]
  },
  {
   "cell_type": "code",
   "execution_count": 20,
   "metadata": {
    "ExecuteTime": {
     "end_time": "2019-01-18T10:49:25.652722Z",
     "start_time": "2019-01-18T10:49:25.426178Z"
    }
   },
   "outputs": [
    {
     "name": "stdout",
     "output_type": "stream",
     "text": [
      "2019-01-18 11:49:25 dataGen-INFO: Selecting atoms to be moved ...\n",
      "2019-01-18 11:49:25 dataGen-INFO: Generating frames ...\n",
      "2019-01-18 11:49:25 dataGenNb-INFO: Generated data of shape (2000, 15) and 2 clusters\n"
     ]
    }
   ],
   "source": [
    "dg = DataGenerator(natoms=5, nclusters=2, natoms_per_cluster=[1, 1], nframes_per_cluster=1000, \n",
    "                   noise_level=0, #1e-2, \n",
    "                   displacement=0.1, \n",
    "                   noise_natoms=None,\n",
    "                   feature_type='carteesian',\n",
    "                   test_model='linear')\n",
    "#dg.generate_frames()\n",
    "#dg.generate_clusters()\n",
    "dg.select_atoms_to_move()\n",
    "data, labels = dg.generate_frames()\n",
    "cluster_indices = labels.argmax(axis=1)\n",
    "feature_to_resids = dg.feature_to_resids()\n",
    "logger.info(\"Generated data of shape %s and %s clusters\", data.shape, labels.shape[1])"
   ]
  },
  {
   "cell_type": "markdown",
   "metadata": {},
   "source": [
    "## Define the different methods to use\n",
    "\n",
    "Every method is encapsulated in a so called FeatureExtractor class which all follow the same interface"
   ]
  },
  {
   "cell_type": "code",
   "execution_count": 21,
   "metadata": {
    "ExecuteTime": {
     "end_time": "2019-01-18T10:49:25.788281Z",
     "start_time": "2019-01-18T10:49:25.776131Z"
    }
   },
   "outputs": [
    {
     "name": "stdout",
     "output_type": "stream",
     "text": [
      "2019-01-18 11:49:25 mlp-DEBUG: Initializing MLP with the following parameters:                       n_splits 2, n_iterations 4, scaling True, filter_by_distance_cutoff False, contact_cutoff 0.5,                       hidden_layer_sizes (3, 2), solver lbfgs, activation function logistic, randomize True, training_max_iter 10000\n",
      "2019-01-18 11:49:25 mlp-DEBUG: Initializing MLP with the following parameters:                       n_splits 2, n_iterations 4, scaling True, filter_by_distance_cutoff False, contact_cutoff 0.5,                       hidden_layer_sizes (100,), solver lbfgs, activation function logistic, randomize True, training_max_iter 100000\n",
      "2019-01-18 11:49:25 elm-DEBUG: Initializing ELM with the following parameters:                       n_splits 2, n_iterations 4, scaling True, filter_by_distance_cutoff False, contact_cutoff 0.5,                       n_nodes 45, activation function logistic, alpha 1.0\n",
      "2019-01-18 11:49:25 KL divergence-DEBUG: Initializing KL with the following parameters:                       n_splits 2, scaling True, filter_by_distance_cutoff False, contact_cutoff 0.5,                       bin_size None\n",
      "2019-01-18 11:49:25 dataGenNb-INFO: Done. using 3 feature extractors\n"
     ]
    }
   ],
   "source": [
    "n_iterations, n_splits = 4,2 \n",
    "filter_by_distance_cutoff = False \n",
    "feature_extractors = [\n",
    "    fe.MlpFeatureExtractor(data, cluster_indices, n_splits=n_splits, n_iterations=n_iterations, hidden_layer_sizes=(3, 2), training_max_iter=10000, \n",
    "                           activation=\"logistic\", \n",
    "                          filter_by_distance_cutoff=filter_by_distance_cutoff), #, solver=\"sgd\"),\n",
    "    #fe.RbmFeatureExtractor(data, cluster_indices, n_splits=n_splits, n_iterations=n_iterations, n_components=8, \n",
    "    #                       filter_by_distance_cutoff=filter_by_distance_cutoff),\n",
    "    fe.ElmFeatureExtractor(data, cluster_indices, n_splits=n_splits, n_iterations=n_iterations, \n",
    "                           activation=\"logistic\",\n",
    "                           n_nodes=3*dg.nfeatures, \n",
    "                           alpha=1.,\n",
    "                           filter_by_distance_cutoff=filter_by_distance_cutoff),\n",
    "    fe.KLFeatureExtractor(data, cluster_indices, n_splits=n_splits, \n",
    "                           filter_by_distance_cutoff=filter_by_distance_cutoff),\n",
    "    #fe.PCAFeatureExtractor(data, cluster_indices, n_splits=n_splits, n_components=None,\n",
    "    #                           filter_by_distance_cutoff=filter_by_distance_cutoff),\n",
    "    #fe.RandomForestFeatureExtractor(data, cluster_indices, n_splits=n_splits, n_iterations=n_iterations,\n",
    "    #                                                           filter_by_distance_cutoff=filter_by_distance_cutoff),\n",
    "]\n",
    "logger.info(\"Done. using %s feature extractors\", len(feature_extractors))\n"
   ]
  },
  {
   "cell_type": "code",
   "execution_count": 22,
   "metadata": {
    "ExecuteTime": {
     "end_time": "2019-01-18T10:49:35.990917Z",
     "start_time": "2019-01-18T10:49:25.960211Z"
    },
    "scrolled": false
   },
   "outputs": [
    {
     "name": "stdout",
     "output_type": "stream",
     "text": [
      "2019-01-18 11:49:25 dataGenNb-INFO: Computing relevance for extractors MLP\n",
      "2019-01-18 11:49:25 Extracting features-INFO: Performing feature extraction with MLP on data of shape (2000, 15)\n",
      "2019-01-18 11:49:25 mlp-DEBUG: Training MLP with 1000 samples and 15 features ...\n",
      "2019-01-18 11:49:25 mlp-DEBUG: Extracting feature importance using MLP ...\n",
      "2019-01-18 11:49:25 mlp-DEBUG: Rescaling feature importance extracted using MLP in each frame between min and max ...\n",
      "2019-01-18 11:49:26 mlp-DEBUG: Training MLP with 1000 samples and 15 features ...\n",
      "2019-01-18 11:49:26 mlp-DEBUG: Extracting feature importance using MLP ...\n",
      "2019-01-18 11:49:26 mlp-DEBUG: Rescaling feature importance extracted using MLP in each frame between min and max ...\n",
      "2019-01-18 11:49:26 mlp-DEBUG: Training MLP with 1000 samples and 15 features ...\n",
      "2019-01-18 11:49:27 mlp-DEBUG: Extracting feature importance using MLP ...\n",
      "2019-01-18 11:49:27 mlp-DEBUG: Rescaling feature importance extracted using MLP in each frame between min and max ...\n",
      "2019-01-18 11:49:27 mlp-DEBUG: Training MLP with 1000 samples and 15 features ...\n",
      "2019-01-18 11:49:27 mlp-DEBUG: Extracting feature importance using MLP ...\n",
      "2019-01-18 11:49:27 mlp-DEBUG: Rescaling feature importance extracted using MLP in each frame between min and max ...\n",
      "2019-01-18 11:49:27 mlp-DEBUG: Training MLP with 1000 samples and 15 features ...\n",
      "2019-01-18 11:49:27 mlp-DEBUG: Extracting feature importance using MLP ...\n",
      "2019-01-18 11:49:27 mlp-DEBUG: Rescaling feature importance extracted using MLP in each frame between min and max ...\n",
      "2019-01-18 11:49:27 mlp-DEBUG: Training MLP with 1000 samples and 15 features ...\n",
      "2019-01-18 11:49:29 mlp-DEBUG: Extracting feature importance using MLP ...\n",
      "2019-01-18 11:49:29 mlp-DEBUG: Rescaling feature importance extracted using MLP in each frame between min and max ...\n",
      "2019-01-18 11:49:29 mlp-DEBUG: Training MLP with 1000 samples and 15 features ...\n",
      "2019-01-18 11:49:31 mlp-DEBUG: Extracting feature importance using MLP ...\n",
      "2019-01-18 11:49:31 mlp-DEBUG: Rescaling feature importance extracted using MLP in each frame between min and max ...\n",
      "2019-01-18 11:49:31 mlp-DEBUG: Training MLP with 1000 samples and 15 features ...\n",
      "2019-01-18 11:49:35 mlp-DEBUG: Extracting feature importance using MLP ...\n",
      "2019-01-18 11:49:35 mlp-DEBUG: Rescaling feature importance extracted using MLP in each frame between min and max ...\n",
      "2019-01-18 11:49:35 Extracting features-INFO: Done with MLP\n",
      "2019-01-18 11:49:35 Extracting features-INFO: ------------------------------\n",
      "2019-01-18 11:49:35 dataGenNb-INFO: Computing relevance for extractors ELM\n",
      "2019-01-18 11:49:35 Extracting features-INFO: Performing feature extraction with ELM on data of shape (2000, 15)\n",
      "2019-01-18 11:49:35 elm-DEBUG: Training ELM with 1000 samples and 15 features ...\n",
      "2019-01-18 11:49:35 mlp-DEBUG: Extracting feature importance using MLP ...\n",
      "2019-01-18 11:49:35 mlp-DEBUG: Rescaling feature importance extracted using MLP in each frame between min and max ...\n",
      "2019-01-18 11:49:35 elm-DEBUG: Training ELM with 1000 samples and 15 features ...\n",
      "2019-01-18 11:49:35 mlp-DEBUG: Extracting feature importance using MLP ...\n",
      "2019-01-18 11:49:35 mlp-DEBUG: Rescaling feature importance extracted using MLP in each frame between min and max ...\n",
      "2019-01-18 11:49:35 elm-DEBUG: Training ELM with 1000 samples and 15 features ...\n",
      "2019-01-18 11:49:35 mlp-DEBUG: Extracting feature importance using MLP ...\n",
      "2019-01-18 11:49:35 mlp-DEBUG: Rescaling feature importance extracted using MLP in each frame between min and max ...\n",
      "2019-01-18 11:49:35 elm-DEBUG: Training ELM with 1000 samples and 15 features ...\n",
      "2019-01-18 11:49:35 mlp-DEBUG: Extracting feature importance using MLP ...\n",
      "2019-01-18 11:49:35 mlp-DEBUG: Rescaling feature importance extracted using MLP in each frame between min and max ...\n",
      "2019-01-18 11:49:35 elm-DEBUG: Training ELM with 1000 samples and 15 features ...\n",
      "2019-01-18 11:49:35 mlp-DEBUG: Extracting feature importance using MLP ...\n",
      "2019-01-18 11:49:35 mlp-DEBUG: Rescaling feature importance extracted using MLP in each frame between min and max ...\n",
      "2019-01-18 11:49:35 elm-DEBUG: Training ELM with 1000 samples and 15 features ...\n",
      "2019-01-18 11:49:35 mlp-DEBUG: Extracting feature importance using MLP ...\n",
      "2019-01-18 11:49:35 mlp-DEBUG: Rescaling feature importance extracted using MLP in each frame between min and max ...\n",
      "2019-01-18 11:49:35 elm-DEBUG: Training ELM with 1000 samples and 15 features ...\n",
      "2019-01-18 11:49:35 mlp-DEBUG: Extracting feature importance using MLP ...\n",
      "2019-01-18 11:49:35 mlp-DEBUG: Rescaling feature importance extracted using MLP in each frame between min and max ...\n",
      "2019-01-18 11:49:35 elm-DEBUG: Training ELM with 1000 samples and 15 features ...\n",
      "2019-01-18 11:49:35 mlp-DEBUG: Extracting feature importance using MLP ...\n",
      "2019-01-18 11:49:35 mlp-DEBUG: Rescaling feature importance extracted using MLP in each frame between min and max ...\n",
      "2019-01-18 11:49:35 Extracting features-INFO: Done with ELM\n",
      "2019-01-18 11:49:35 Extracting features-INFO: ------------------------------\n",
      "2019-01-18 11:49:35 dataGenNb-INFO: Computing relevance for extractors KL\n",
      "2019-01-18 11:49:35 Extracting features-INFO: Performing feature extraction with KL on data of shape (2000, 15)\n",
      "2019-01-18 11:49:35 KL divergence-DEBUG: Training KL with 1000 samples and 15 features ...\n",
      "2019-01-18 11:49:35 KL divergence-DEBUG: bin_size for KL is 0.302467114926\n",
      "2019-01-18 11:49:35 KL divergence-DEBUG: Extracting feature importance using KL ...\n",
      "2019-01-18 11:49:35 KL divergence-DEBUG: Training KL with 1000 samples and 15 features ...\n",
      "2019-01-18 11:49:35 KL divergence-DEBUG: Extracting feature importance using KL ...\n",
      "2019-01-18 11:49:35 Extracting features-INFO: Done with KL\n",
      "2019-01-18 11:49:35 Extracting features-INFO: ------------------------------\n",
      "2019-01-18 11:49:35 dataGenNb-INFO: Done\n"
     ]
    }
   ],
   "source": [
    "results = []\n",
    "for extractor in feature_extractors:\n",
    "    extractor.error_limit = 500\n",
    "    logger.info(\"Computing relevance for extractors %s\", extractor.name)\n",
    "    feature_importance, std_feature_importance, errors = extractor.extract_features()\n",
    "    #logger.info(\"Get feature_importance and std of shapes %s, %s\", feature_importance.shape, std_feature_importance.shape)\n",
    "    results.append((extractor, feature_importance, std_feature_importance, errors))\n",
    "logger.info(\"Done\")\n"
   ]
  },
  {
   "cell_type": "markdown",
   "metadata": {},
   "source": [
    "# Postprocess results to get average features"
   ]
  },
  {
   "cell_type": "code",
   "execution_count": 23,
   "metadata": {
    "ExecuteTime": {
     "end_time": "2019-01-18T10:49:36.057849Z",
     "start_time": "2019-01-18T10:49:36.046937Z"
    },
    "scrolled": true
   },
   "outputs": [
    {
     "name": "stdout",
     "output_type": "stream",
     "text": [
      "2019-01-18 11:49:36 utils-INFO: Rescaling feature importances ...\n",
      "2019-01-18 11:49:36 utils-INFO: Rescaling feature importances ...\n",
      "2019-01-18 11:49:36 utils-INFO: Rescaling feature importances ...\n",
      "2019-01-18 11:49:36 utils-INFO: Rescaling feature importances ...\n",
      "2019-01-18 11:49:36 utils-INFO: Rescaling feature importances ...\n",
      "2019-01-18 11:49:36 utils-INFO: Rescaling feature importances ...\n",
      "2019-01-18 11:49:36 utils-INFO: Rescaling feature importances ...\n",
      "2019-01-18 11:49:36 utils-INFO: Rescaling feature importances ...\n",
      "2019-01-18 11:49:36 utils-INFO: Rescaling feature importances ...\n",
      "2019-01-18 11:49:36 dataGenNb-INFO: Done\n"
     ]
    }
   ],
   "source": [
    "postprocessors = []\n",
    "for (extractor, feature_importance, std_feature_importance, errors) in results:\n",
    "    p = pp.PostProcessor(extractor, feature_importance, std_feature_importance, errors, cluster_indices,\n",
    "                                     working_dir=None, feature_to_resids=feature_to_resids, \n",
    "                                     filter_results=False,\n",
    "                                     #filter_results_by_cutoff=False,\n",
    "                                     predefined_relevant_residues=dg.moved_atoms)\n",
    "    p.average()\n",
    "    postprocessors.append(p)\n",
    "\n",
    "logger.info(\"Done\")\n"
   ]
  },
  {
   "cell_type": "markdown",
   "metadata": {},
   "source": [
    "# Evaluate results"
   ]
  },
  {
   "cell_type": "markdown",
   "metadata": {},
   "source": [
    "## Find top ranked residues"
   ]
  },
  {
   "cell_type": "code",
   "execution_count": 24,
   "metadata": {
    "ExecuteTime": {
     "end_time": "2019-01-18T10:49:36.281529Z",
     "start_time": "2019-01-18T10:49:36.113398Z"
    }
   },
   "outputs": [
    {
     "name": "stdout",
     "output_type": "stream",
     "text": [
      "2019-01-18 11:49:36 dataGenNb-INFO: Actual atoms moved: [[0], [1]].\n",
      "(Cluster generation method linear. Noise level=0, displacement=0.1. frames/cluster=1000)\n",
      "2019-01-18 11:49:36 dataGenNb-INFO: Moved atoms for MLP: [2, 4]\n",
      "2019-01-18 11:49:36 dataGenNb-INFO: Moved atoms for ELM: [1, 3]\n",
      "2019-01-18 11:49:36 dataGenNb-INFO: Moved atoms for KL: [0, 2]\n"
     ]
    },
    {
     "data": {
      "image/png": "[encoded data removed]",
      "text/plain": [
       "<matplotlib.figure.Figure at 0x7f496da51150>"
      ]
     },
     "metadata": {},
     "output_type": "display_data"
    }
   ],
   "source": [
    "logger.info(\"Actual atoms moved: %s.\\n(Cluster generation method %s. Noise level=%s, displacement=%s. frames/cluster=%s)\", \n",
    "            sorted(dg.moved_atoms), \n",
    "            dg.test_model, dg.noise_level, dg.displacement, dg.nframes_per_cluster)\n",
    "def show_moved_atoms(dg, postprocessors):\n",
    "    plt.figure(figsize=(6,6))\n",
    "    yvalues = np.zeros(len(dg.moved_atoms)) + 1\n",
    "    plt.scatter(dg.moved_atoms, yvalues, label=\"Actual\")\n",
    "    for pp in postprocessors:\n",
    "        #Get most relevant atoms, not that they are not sorted\n",
    "        label=pp.extractor.name\n",
    "        moved_atoms = np.argpartition(pp.importance_per_residue, -dg.nclusters)[-dg.nclusters:]\n",
    "        importance_moved_atoms = pp.importance_per_residue[moved_atoms]\n",
    "        plt.scatter(moved_atoms, importance_moved_atoms, label=label, alpha=0.5)\n",
    "        logger.info(\"Moved atoms for %s: %s\", label, sorted(moved_atoms) )\n",
    "    plt.legend()\n",
    "    plt.grid()\n",
    "    plt.show()\n",
    "    \n",
    "show_moved_atoms(dg, postprocessors)    "
   ]
  },
  {
   "cell_type": "markdown",
   "metadata": {},
   "source": [
    "## Visualize them"
   ]
  },
  {
   "cell_type": "code",
   "execution_count": 25,
   "metadata": {
    "ExecuteTime": {
     "end_time": "2019-01-18T10:49:36.348356Z",
     "start_time": "2019-01-18T10:49:36.333824Z"
    },
    "scrolled": false
   },
   "outputs": [
    {
     "name": "stdout",
     "output_type": "stream",
     "text": [
      "2019-01-18 11:49:36 projection-INFO: Scoring raw projections.\n"
     ]
    },
    {
     "ename": "IndexError",
     "evalue": "too many indices for array",
     "output_type": "error",
     "traceback": [
      "\u001b[0;31m---------------------------------------------------------------------------\u001b[0m",
      "\u001b[0;31mIndexError\u001b[0m                                Traceback (most recent call last)",
      "\u001b[0;32m<ipython-input-25-acb47141cac3>\u001b[0m in \u001b[0;36m<module>\u001b[0;34m()\u001b[0m\n\u001b[1;32m      4\u001b[0m     \u001b[0;31m#p.average().persist()\u001b[0m\u001b[0;34m\u001b[0m\u001b[0;34m\u001b[0m\u001b[0m\n\u001b[1;32m      5\u001b[0m     \u001b[0mprojector\u001b[0m \u001b[0;34m=\u001b[0m \u001b[0mdp\u001b[0m\u001b[0;34m.\u001b[0m\u001b[0mDataProjector\u001b[0m\u001b[0;34m(\u001b[0m\u001b[0mp\u001b[0m\u001b[0;34m,\u001b[0m \u001b[0mdata\u001b[0m\u001b[0;34m)\u001b[0m\u001b[0;34m\u001b[0m\u001b[0m\n\u001b[0;32m----> 6\u001b[0;31m     \u001b[0mprojector\u001b[0m\u001b[0;34m.\u001b[0m\u001b[0mproject\u001b[0m\u001b[0;34m(\u001b[0m\u001b[0;34m)\u001b[0m\u001b[0;34m.\u001b[0m\u001b[0mscore_projection\u001b[0m\u001b[0;34m(\u001b[0m\u001b[0;34m)\u001b[0m\u001b[0;34m\u001b[0m\u001b[0m\n\u001b[0m\u001b[1;32m      7\u001b[0m     \u001b[0mdata_projectors\u001b[0m\u001b[0;34m.\u001b[0m\u001b[0mappend\u001b[0m\u001b[0;34m(\u001b[0m\u001b[0;34m[\u001b[0m\u001b[0mprojector\u001b[0m\u001b[0;34m]\u001b[0m\u001b[0;34m)\u001b[0m\u001b[0;34m\u001b[0m\u001b[0m\n\u001b[1;32m      8\u001b[0m \u001b[0mvisualization\u001b[0m\u001b[0;34m.\u001b[0m\u001b[0mvisualize\u001b[0m\u001b[0;34m(\u001b[0m\u001b[0;34m[\u001b[0m\u001b[0;34m[\u001b[0m\u001b[0mp\u001b[0m\u001b[0;34m]\u001b[0m \u001b[0;32mfor\u001b[0m \u001b[0mp\u001b[0m \u001b[0;32min\u001b[0m \u001b[0mpostprocessors\u001b[0m\u001b[0;34m]\u001b[0m\u001b[0;34m,\u001b[0m \u001b[0mdata_projectors\u001b[0m\u001b[0;34m)\u001b[0m\u001b[0;34m\u001b[0m\u001b[0m\n",
      "\u001b[0;32m/home/oliverfl/git/Neural.Network.Relevance.Propagation/modules/data_projection.pyc\u001b[0m in \u001b[0;36mscore_projection\u001b[0;34m(self, raw_projection, use_GMM, projection)\u001b[0m\n\u001b[1;32m    114\u001b[0m \u001b[0;34m\u001b[0m\u001b[0m\n\u001b[1;32m    115\u001b[0m         \u001b[0;32mif\u001b[0m \u001b[0muse_GMM\u001b[0m\u001b[0;34m:\u001b[0m\u001b[0;34m\u001b[0m\u001b[0m\n\u001b[0;32m--> 116\u001b[0;31m             \u001b[0mGMMs\u001b[0m \u001b[0;34m=\u001b[0m \u001b[0mself\u001b[0m\u001b[0;34m.\u001b[0m\u001b[0m_fit_GM\u001b[0m\u001b[0;34m(\u001b[0m\u001b[0mproj\u001b[0m\u001b[0;34m)\u001b[0m\u001b[0;34m\u001b[0m\u001b[0m\n\u001b[0m\u001b[1;32m    117\u001b[0m         \u001b[0;32melse\u001b[0m\u001b[0;34m:\u001b[0m\u001b[0;34m\u001b[0m\u001b[0m\n\u001b[1;32m    118\u001b[0m             \u001b[0mmeans\u001b[0m\u001b[0;34m,\u001b[0m \u001b[0mcovs\u001b[0m \u001b[0;34m=\u001b[0m \u001b[0mself\u001b[0m\u001b[0;34m.\u001b[0m\u001b[0m_fit_Gaussians\u001b[0m\u001b[0;34m(\u001b[0m\u001b[0mproj\u001b[0m\u001b[0;34m)\u001b[0m\u001b[0;34m\u001b[0m\u001b[0m\n",
      "\u001b[0;32m/home/oliverfl/git/Neural.Network.Relevance.Propagation/modules/data_projection.pyc\u001b[0m in \u001b[0;36m_fit_GM\u001b[0;34m(self, proj, n_component_lim)\u001b[0m\n\u001b[1;32m    223\u001b[0m \u001b[0;34m\u001b[0m\u001b[0m\n\u001b[1;32m    224\u001b[0m         \u001b[0;32mfor\u001b[0m \u001b[0mi_cluster\u001b[0m \u001b[0;32min\u001b[0m \u001b[0mrange\u001b[0m\u001b[0;34m(\u001b[0m\u001b[0mself\u001b[0m\u001b[0;34m.\u001b[0m\u001b[0mn_clusters\u001b[0m\u001b[0;34m)\u001b[0m\u001b[0;34m:\u001b[0m\u001b[0;34m\u001b[0m\u001b[0m\n\u001b[0;32m--> 225\u001b[0;31m             \u001b[0mcluster\u001b[0m \u001b[0;34m=\u001b[0m \u001b[0mproj\u001b[0m\u001b[0;34m[\u001b[0m\u001b[0mself\u001b[0m\u001b[0;34m.\u001b[0m\u001b[0mlabels\u001b[0m \u001b[0;34m==\u001b[0m \u001b[0mi_cluster\u001b[0m\u001b[0;34m]\u001b[0m \u001b[0;31m#, :]\u001b[0m\u001b[0;34m\u001b[0m\u001b[0m\n\u001b[0m\u001b[1;32m    226\u001b[0m \u001b[0;34m\u001b[0m\u001b[0m\n\u001b[1;32m    227\u001b[0m             \u001b[0mn_components\u001b[0m \u001b[0;34m=\u001b[0m \u001b[0mself\u001b[0m\u001b[0;34m.\u001b[0m\u001b[0m_estimate_n_GMM_components\u001b[0m\u001b[0;34m(\u001b[0m\u001b[0mcluster\u001b[0m\u001b[0;34m,\u001b[0m\u001b[0mn_component_lim\u001b[0m\u001b[0;34m)\u001b[0m\u001b[0;34m\u001b[0m\u001b[0m\n",
      "\u001b[0;31mIndexError\u001b[0m: too many indices for array"
     ]
    }
   ],
   "source": [
    "data_projectors = []\n",
    "for p in postprocessors:\n",
    "    #p.filter_feature_importance_by_rank(filter_by_rank_cutoff=filter_by_rank_cutoff)\n",
    "    #p.average().persist()\n",
    "    projector = dp.DataProjector(p, data)\n",
    "    projector.project().score_projection()\n",
    "    data_projectors.append([projector])\n",
    "visualization.visualize([[p] for p in postprocessors], data_projectors)\n",
    "logger.info(\"Done\")"
   ]
  },
  {
   "cell_type": "code",
   "execution_count": null,
   "metadata": {},
   "outputs": [],
   "source": []
  }
 ],
 "metadata": {
  "anaconda-cloud": {},
  "kernelspec": {
   "display_name": "Python 2",
   "language": "python",
   "name": "python2"
  },
  "language_info": {
   "codemirror_mode": {
    "name": "ipython",
    "version": 2
   },
   "file_extension": ".py",
   "mimetype": "text/x-python",
   "name": "python",
   "nbconvert_exporter": "python",
   "pygments_lexer": "ipython2",
   "version": "2.7.14"
  },
  "toc": {
   "base_numbering": 1,
   "colors": {
    "hover_highlight": "#DAA520",
    "navigate_num": "#000000",
    "navigate_text": "#333333",
    "running_highlight": "#FF0000",
    "selected_highlight": "#FFD700",
    "sidebar_border": "#EEEEEE",
    "wrapper_background": "#FFFFFF"
   },
   "moveMenuLeft": true,
   "nav_menu": {
    "height": "102px",
    "width": "252px"
   },
   "navigate_menu": true,
   "number_sections": true,
   "sideBar": true,
   "skip_h1_title": false,
   "threshold": 4,
   "title_cell": "Table of Contents",
   "title_sidebar": "Contents",
   "toc_cell": false,
   "toc_position": {
    "height": "607px",
    "left": "2px",
    "right": "20px",
    "top": "107px",
    "width": "212px"
   },
   "toc_section_display": true,
   "toc_window_display": true,
   "widenNotebook": false
  },
  "varInspector": {
   "cols": {
    "lenName": 16,
    "lenType": 16,
    "lenVar": 40
   },
   "kernels_config": {
    "python": {
     "delete_cmd_postfix": "",
     "delete_cmd_prefix": "del ",
     "library": "var_list.py",
     "varRefreshCmd": "print(var_dic_list())"
    },
    "r": {
     "delete_cmd_postfix": ") ",
     "delete_cmd_prefix": "rm(",
     "library": "var_list.r",
     "varRefreshCmd": "cat(var_dic_list()) "
    }
   },
   "types_to_exclude": [
    "module",
    "function",
    "builtin_function_or_method",
    "instance",
    "_Feature"
   ],
   "window_display": false
  }
 },
 "nbformat": 4,
 "nbformat_minor": 2
}
